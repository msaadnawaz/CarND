{
 "cells": [
  {
   "cell_type": "code",
   "execution_count": 2,
   "metadata": {
    "collapsed": true,
    "deletable": true,
    "editable": true
   },
   "outputs": [],
   "source": [
    "# Import everything needed to edit/save/watch video clips\n",
    "from moviepy.editor import VideoFileClip\n",
    "from IPython.display import HTML\n",
    "import pickle\n",
    "\n",
    "import numpy as np\n",
    "import glob\n",
    "import cv2\n",
    "import matplotlib.pyplot as plt\n",
    "import matplotlib.image as mpimg"
   ]
  },
  {
   "cell_type": "code",
   "execution_count": 3,
   "metadata": {
    "collapsed": false,
    "deletable": true,
    "editable": true
   },
   "outputs": [],
   "source": [
    "def undistort(img):\n",
    "    dst = cv2.undistort(img, mtx, dist, None, mtx)\n",
    "    return dst\n",
    "\n",
    "def hls_transform(img, thresh):\n",
    "    hls = cv2.cvtColor(img, cv2.COLOR_RGB2HLS)\n",
    "    sat = hls[:,:,2]\n",
    "    binary = np.zeros_like(sat)\n",
    "    binary[(sat > thresh[0]) & (sat <= thresh[1])] = 1\n",
    "    return binary\n",
    "\n",
    "def abs_grad(img, sobel_kernel, thresh, orient):\n",
    "    gray = cv2.cvtColor(img, cv2.COLOR_RGB2GRAY)\n",
    "    if orient == 'x':\n",
    "        abs_sobel = np.absolute(cv2.Sobel(gray, cv2.CV_64F, 1, 0, sobel_kernel))\n",
    "    if orient == 'y':\n",
    "        abs_sobel = np.absolute(cv2.Sobel(gray, cv2.CV_64F, 0, 1, sobel_kernel))\n",
    "    scaled_sobel = np.uint8(255*abs_sobel/np.max(abs_sobel))\n",
    "    binary = np.zeros_like(scaled_sobel)\n",
    "    binary[(scaled_sobel >= thresh[0]) & (scaled_sobel <= thresh[1])] = 1\n",
    "    return binary\n",
    "\n",
    "def mag_grad(img, sobel_kernel, thresh):\n",
    "    gray = cv2.cvtColor(img, cv2.COLOR_RGB2GRAY)\n",
    "    sobelx = cv2.Sobel(gray, cv2.CV_64F, 1, 0, ksize=sobel_kernel)\n",
    "    sobely = cv2.Sobel(gray, cv2.CV_64F, 0, 1, ksize=sobel_kernel)\n",
    "    gradmag = np.sqrt(sobelx**2 + sobely**2)\n",
    "    scale_factor = np.max(gradmag)/255 \n",
    "    gradmag = (gradmag/scale_factor).astype(np.uint8)\n",
    "    binary = np.zeros_like(gradmag)\n",
    "    binary[(gradmag >= thresh[0]) & (gradmag <= thresh[1])] = 1\n",
    "    return binary\n",
    "\n",
    "def dir_grad(img, sobel_kernel, thresh):\n",
    "    gray = cv2.cvtColor(img, cv2.COLOR_RGB2GRAY)\n",
    "    sobelx = cv2.Sobel(gray, cv2.CV_64F, 1, 0, ksize=sobel_kernel)\n",
    "    sobely = cv2.Sobel(gray, cv2.CV_64F, 0, 1, ksize=sobel_kernel)\n",
    "    graddir = np.arctan2(np.absolute(sobely),np.absolute(sobelx))\n",
    "    binary = np.zeros_like(graddir)\n",
    "    binary[(graddir >= thresh[0]) & (graddir <= thresh[1])] = 1\n",
    "    return binary\n",
    "\n",
    "def combined_gradient(img, ksize):\n",
    "    gradx = abs_grad(img, sobel_kernel=ksize, thresh=(100, 255), orient='x')\n",
    "    grady = abs_grad(img, sobel_kernel=ksize, thresh=(100, 255), orient='y')\n",
    "    mag_binary = mag_grad(img, sobel_kernel=ksize, thresh=(100, 255))\n",
    "    dir_binary = dir_grad(img, sobel_kernel=ksize, thresh=(np.pi/4, np.pi/2))\n",
    "    \n",
    "    combined = np.zeros_like(dir_binary)\n",
    "    combined[((gradx == 1) & (grady == 1)) | ((mag_binary == 1) & (dir_binary == 1))] = 1\n",
    "    return combined\n",
    "\n",
    "def pers_trans(img, src, dst):\n",
    "    #gray = cv2.cvtColor(img, cv2.COLOR_RGB2GRAY)\n",
    "    img_size = (img.shape[1], img.shape[0])\n",
    "    M = cv2.getPerspectiveTransform(src, dst)\n",
    "    warped = cv2.warpPerspective(img, M, img_size)\n",
    "    return warped\n",
    "\n",
    "def histo(img):\n",
    "    histogram = np.sum(img[img.shape[0]//2:,:], axis=0)\n",
    "    return histogram"
   ]
  },
  {
   "cell_type": "code",
   "execution_count": 4,
   "metadata": {
    "collapsed": true,
    "deletable": true,
    "editable": true
   },
   "outputs": [],
   "source": [
    "def lane_finder(img):\n",
    "    #[mtx, dist] = pickle.load( open( \"cal_coeff.p\", \"rb\" ) )\n",
    "    undist = img\n",
    "    \n",
    "    hls = hls_transform(undist, (100,255))\n",
    "    grad = combined_gradient(undist, 3)\n",
    "    \n",
    "    mixed = np.zeros_like(grad)\n",
    "    mixed[(grad == 1) | (hls == 1)] = 1\n",
    "    \n",
    "    img_size = (undist.shape[1], undist.shape[0])\n",
    "\n",
    "    src = np.float32([[np.int(img_size[0]*0.435), np.int(img_size[1]*0.65)],\n",
    "                      [np.int(img_size[0]*0.565), np.int(img_size[1]*0.65)],\n",
    "                      [np.int(img_size[0]*0.9), img_size[1]],\n",
    "                      [np.int(img_size[0]*0.1), img_size[1]]])\n",
    "    offset = 150\n",
    "\n",
    "    dst = np.float32([[offset, 0], \n",
    "                      [img_size[0]-offset, offset], \n",
    "                      [img_size[0]-offset, img_size[1]], \n",
    "                      [offset, img_size[1]]])\n",
    "    \n",
    "    warped = pers_trans(mixed,src,dst)\n",
    "    histogram = histo(warped)\n",
    "    \n",
    "    \n",
    "    # Create an output image to draw on and  visualize the result\n",
    "    out_img = np.dstack((warped, warped, warped))*255\n",
    "\n",
    "    # Find the peak of the left and right halves of the histogram\n",
    "    # These will be the starting point for the left and right lines\n",
    "    midpoint = np.int(histogram.shape[0]/2)\n",
    "    leftx_base = np.argmax(histogram[:midpoint])\n",
    "    rightx_base = np.argmax(histogram[midpoint:]) + midpoint\n",
    "\n",
    "    # Choose the number of sliding windows\n",
    "    nwindows = 9\n",
    "    # Set height of windows\n",
    "    window_height = np.int(warped.shape[0]/nwindows)\n",
    "\n",
    "    # Identify the x and y positions of all nonzero pixels in the image\n",
    "    nonzero = warped.nonzero()\n",
    "    nonzeroy = np.array(nonzero[0])\n",
    "    nonzerox = np.array(nonzero[1])\n",
    "    # Current positions to be updated for each window\n",
    "    leftx_current = leftx_base\n",
    "    rightx_current = rightx_base\n",
    "    # Set the width of the windows +/- margin\n",
    "    margin = 100\n",
    "    # Set minimum number of pixels found to recenter window\n",
    "    minpix = 50\n",
    "    # Create empty lists to receive left and right lane pixel indices\n",
    "    left_lane_inds = []\n",
    "    right_lane_inds = []\n",
    "\n",
    "\n",
    "    for window in range(nwindows):\n",
    "        # Identify window boundaries in x and y (and right and left)\n",
    "        win_y_low = warped.shape[0] - (window+1)*window_height\n",
    "        win_y_high = warped.shape[0] - window*window_height\n",
    "        win_xleft_low = leftx_current - margin\n",
    "        win_xleft_high = leftx_current + margin\n",
    "        win_xright_low = rightx_current - margin\n",
    "        win_xright_high = rightx_current + margin\n",
    "        # Draw the windows on the visualization image\n",
    "        cv2.rectangle(out_img,(win_xleft_low,win_y_low),(win_xleft_high,win_y_high),(0,255,0), 10) \n",
    "        cv2.rectangle(out_img,(win_xright_low,win_y_low),(win_xright_high,win_y_high),(0,255,0), 10) \n",
    "        # Identify the nonzero pixels in x and y within the window\n",
    "        good_left_inds = ((nonzeroy >= win_y_low) & (nonzeroy < win_y_high) & (nonzerox >= win_xleft_low) & (nonzerox < win_xleft_high)).nonzero()[0]\n",
    "        good_right_inds = ((nonzeroy >= win_y_low) & (nonzeroy < win_y_high) & (nonzerox >= win_xright_low) & (nonzerox < win_xright_high)).nonzero()[0]\n",
    "        # Append these indices to the lists\n",
    "        left_lane_inds.append(good_left_inds)\n",
    "        right_lane_inds.append(good_right_inds)\n",
    "        # If you found > minpix pixels, recenter next window on their mean position\n",
    "        if len(good_left_inds) > minpix:\n",
    "            leftx_current = np.int(np.mean(nonzerox[good_left_inds]))\n",
    "        if len(good_right_inds) > minpix:        \n",
    "            rightx_current = np.int(np.mean(nonzerox[good_right_inds]))\n",
    "\n",
    "    # Concatenate the arrays of indices\n",
    "    left_lane_inds = np.concatenate(left_lane_inds)\n",
    "    right_lane_inds = np.concatenate(right_lane_inds)\n",
    "\n",
    "    # Extract left and right line pixel positions\n",
    "    leftx = nonzerox[left_lane_inds]\n",
    "    lefty = nonzeroy[left_lane_inds] \n",
    "    rightx = nonzerox[right_lane_inds]\n",
    "    righty = nonzeroy[right_lane_inds] \n",
    "\n",
    "    # Fit a second order polynomial to each\n",
    "    left_fit = np.polyfit(lefty, leftx, 2)\n",
    "    right_fit = np.polyfit(righty, rightx, 2)\n",
    "\n",
    "    # Generate x and y values for plotting\n",
    "    ploty = np.linspace(0, warped.shape[0]-1, warped.shape[0] )\n",
    "    left_fitx = left_fit[0]*ploty**2 + left_fit[1]*ploty + left_fit[2]\n",
    "    right_fitx = right_fit[0]*ploty**2 + right_fit[1]*ploty + right_fit[2]\n",
    "\n",
    "    out_img[nonzeroy[left_lane_inds], nonzerox[left_lane_inds]] = [255, 0, 0]\n",
    "    out_img[nonzeroy[right_lane_inds], nonzerox[right_lane_inds]] = [0, 0, 255]\n",
    "    \n",
    "    # Define conversions in x and y from pixels space to meters\n",
    "    y_eval = np.max(ploty)\n",
    "    ym_per_pix = 30/720 # meters per pixel in y dimension\n",
    "    xm_per_pix = 3.7/700 # meters per pixel in x dimension\n",
    "    \n",
    "    #position from center\n",
    "    car_center = right_fitx[-1]-left_fitx[-1]\n",
    "    pos_from_center = np.absolute(car_center-640)*xm_per_pix\n",
    "    \n",
    "    # Fit new polynomials to x,y in world space\n",
    "    left_fit_cr = np.polyfit(lefty*ym_per_pix, leftx*xm_per_pix, 2)\n",
    "    right_fit_cr = np.polyfit(righty*ym_per_pix, rightx*xm_per_pix, 2)\n",
    "    \n",
    "    # Calculate the new radii of curvature\n",
    "    left_curverad = ((1 + (2*left_fit_cr[0]*y_eval*ym_per_pix + left_fit_cr[1])**2)**1.5) / np.absolute(2*left_fit_cr[0])\n",
    "    right_curverad = ((1 + (2*right_fit_cr[0]*y_eval*ym_per_pix + right_fit_cr[1])**2)**1.5) / np.absolute(2*right_fit_cr[0])\n",
    "    # Now our radius of curvature is in meters\n",
    "    print(left_curverad, 'm', right_curverad, 'm')\n",
    "    # Example values: 632.1 m    626.2 m\n",
    "    \n",
    "    font = cv2.FONT_HERSHEY_SIMPLEX\n",
    "    \n",
    "    pts_left = np.array([np.transpose(np.vstack([left_fitx, ploty]))])\n",
    "    pts_right = np.array([np.flipud(np.transpose(np.vstack([right_fitx, ploty])))])\n",
    "    pts = np.hstack((pts_left, pts_right))\n",
    "    fitted_lane_image = np.zeros_like(warped)\n",
    "    # Draw the lane onto the warped blank image\n",
    "    cv2.fillPoly(fitted_lane_image, np.int_([pts]), 1)\n",
    "\n",
    "    unwarp = pers_trans(fitted_lane_image, dst, src)\n",
    "    print(dst.shape)\n",
    "    lanes=np.zeros_like(undist)\n",
    "    print(unwarp.shape)\n",
    "    print(lanes.shape)\n",
    "    lanes[(unwarp>0)]=(0,255,0)\n",
    "    \n",
    "    #cv2.putText(undis_im, [np.int(im_feat.left_curverad), np.int(im_feat.right_curverad)], (np.int(undis_im.shape[1]*0.6),np.int(undis_im.shape[0]*0.3)), cv2.FONT_HERSHEY_SIMPLEX, 6,(0,0,0),13)\n",
    "    \n",
    "    overlayed = cv2.addWeighted(undist, 1, lanes, 0.3, 0)\n",
    "    \n",
    "    left_text = 'Left lane curvature: %dm' %left_curverad\n",
    "    right_text = 'Right lane curvature: %dm' %right_curverad\n",
    "    pos_text = 'Position from lane center: %.3fm'%pos_from_center\n",
    "    cv2.putText(overlayed, left_text, (np.int(overlayed.shape[1]*0.55),np.int(overlayed.shape[0]*0.05)), font, 1, (0,255,0), 4, cv2.LINE_AA)\n",
    "    cv2.putText(overlayed, right_text, (np.int(overlayed.shape[1]*0.55),np.int(overlayed.shape[0]*0.1)), font, 1, (0,255,0), 4, cv2.LINE_AA)\n",
    "    cv2.putText(overlayed, pos_text, (np.int(overlayed.shape[1]*0.55),np.int(overlayed.shape[0]*0.15)), font, 1, (0,255,0), 4, cv2.LINE_AA)\n",
    "    \n",
    "    return overlayed\n",
    "    "
   ]
  },
  {
   "cell_type": "code",
   "execution_count": null,
   "metadata": {
    "collapsed": false,
    "deletable": true,
    "editable": true
   },
   "outputs": [
    {
     "name": "stdout",
     "output_type": "stream",
     "text": [
      "679.682201769 m 1012.49841682 m\n",
      "(4, 2)\n",
      "(720, 1280)\n",
      "(720, 1280, 3)\n",
      "[MoviePy] >>>> Building video project_video_output.mp4\n",
      "[MoviePy] Writing video project_video_output.mp4\n"
     ]
    },
    {
     "name": "stderr",
     "output_type": "stream",
     "text": [
      "\r",
      "  0%|                                                 | 0/1261 [00:00<?, ?it/s]"
     ]
    },
    {
     "name": "stdout",
     "output_type": "stream",
     "text": [
      "679.682201769 m 1012.49841682 m\n",
      "(4, 2)\n",
      "(720, 1280)\n",
      "(720, 1280, 3)\n"
     ]
    },
    {
     "name": "stderr",
     "output_type": "stream",
     "text": [
      "\r",
      "  0%|                                         | 1/1261 [00:00<04:47,  4.39it/s]"
     ]
    },
    {
     "name": "stdout",
     "output_type": "stream",
     "text": [
      "689.403967446 m 1276.3063053 m\n",
      "(4, 2)\n",
      "(720, 1280)\n",
      "(720, 1280, 3)\n"
     ]
    },
    {
     "name": "stderr",
     "output_type": "stream",
     "text": [
      "\r",
      "  0%|                                         | 2/1261 [00:00<04:42,  4.45it/s]"
     ]
    },
    {
     "name": "stdout",
     "output_type": "stream",
     "text": [
      "614.94751468 m 593.115321497 m\n",
      "(4, 2)\n",
      "(720, 1280)\n",
      "(720, 1280, 3)\n"
     ]
    },
    {
     "name": "stderr",
     "output_type": "stream",
     "text": [
      "\r",
      "  0%|                                         | 3/1261 [00:00<04:40,  4.49it/s]"
     ]
    },
    {
     "name": "stdout",
     "output_type": "stream",
     "text": [
      "603.869286689 m 576.099726485 m\n",
      "(4, 2)\n",
      "(720, 1280)\n",
      "(720, 1280, 3)\n"
     ]
    },
    {
     "name": "stderr",
     "output_type": "stream",
     "text": [
      "\r",
      "  0%|▏                                        | 4/1261 [00:00<04:34,  4.57it/s]"
     ]
    },
    {
     "name": "stdout",
     "output_type": "stream",
     "text": [
      "597.296970655 m 637.224236094 m\n",
      "(4, 2)\n",
      "(720, 1280)\n",
      "(720, 1280, 3)\n"
     ]
    },
    {
     "name": "stderr",
     "output_type": "stream",
     "text": [
      "\r",
      "  0%|▏                                        | 5/1261 [00:01<04:34,  4.57it/s]"
     ]
    },
    {
     "name": "stdout",
     "output_type": "stream",
     "text": [
      "571.237369725 m 798.645144677 m\n",
      "(4, 2)\n",
      "(720, 1280)\n",
      "(720, 1280, 3)\n"
     ]
    },
    {
     "name": "stderr",
     "output_type": "stream",
     "text": [
      "\r",
      "  0%|▏                                        | 6/1261 [00:01<04:31,  4.61it/s]"
     ]
    },
    {
     "name": "stdout",
     "output_type": "stream",
     "text": [
      "609.966553361 m 1034.77717105 m\n",
      "(4, 2)\n",
      "(720, 1280)\n",
      "(720, 1280, 3)\n"
     ]
    },
    {
     "name": "stderr",
     "output_type": "stream",
     "text": [
      "\r",
      "  1%|▏                                        | 7/1261 [00:01<04:28,  4.66it/s]"
     ]
    },
    {
     "name": "stdout",
     "output_type": "stream",
     "text": [
      "596.654362416 m 2931.13022239 m\n",
      "(4, 2)\n",
      "(720, 1280)\n",
      "(720, 1280, 3)\n"
     ]
    },
    {
     "name": "stderr",
     "output_type": "stream",
     "text": [
      "\r",
      "  1%|▎                                        | 8/1261 [00:01<04:29,  4.65it/s]"
     ]
    },
    {
     "name": "stdout",
     "output_type": "stream",
     "text": [
      "605.459379391 m 9532.8283983 m\n",
      "(4, 2)\n",
      "(720, 1280)\n",
      "(720, 1280, 3)\n"
     ]
    },
    {
     "name": "stderr",
     "output_type": "stream",
     "text": [
      "\r",
      "  1%|▎                                        | 9/1261 [00:01<04:29,  4.64it/s]"
     ]
    },
    {
     "name": "stdout",
     "output_type": "stream",
     "text": [
      "623.543229836 m 3499.73638936 m\n",
      "(4, 2)\n",
      "(720, 1280)\n",
      "(720, 1280, 3)\n"
     ]
    },
    {
     "name": "stderr",
     "output_type": "stream",
     "text": [
      "\r",
      "  1%|▎                                       | 10/1261 [00:02<04:29,  4.65it/s]"
     ]
    },
    {
     "name": "stdout",
     "output_type": "stream",
     "text": [
      "608.170925776 m 3304.96482074 m\n",
      "(4, 2)\n",
      "(720, 1280)\n",
      "(720, 1280, 3)\n"
     ]
    },
    {
     "name": "stderr",
     "output_type": "stream",
     "text": [
      "\r",
      "  1%|▎                                       | 11/1261 [00:02<04:31,  4.61it/s]"
     ]
    },
    {
     "name": "stdout",
     "output_type": "stream",
     "text": [
      "691.537253233 m 7751.08216656 m\n",
      "(4, 2)\n",
      "(720, 1280)\n",
      "(720, 1280, 3)\n"
     ]
    },
    {
     "name": "stderr",
     "output_type": "stream",
     "text": [
      "\r",
      "  1%|▍                                       | 12/1261 [00:02<04:29,  4.63it/s]"
     ]
    },
    {
     "name": "stdout",
     "output_type": "stream",
     "text": [
      "695.752625623 m 1130.28058676 m\n",
      "(4, 2)\n",
      "(720, 1280)\n",
      "(720, 1280, 3)\n"
     ]
    },
    {
     "name": "stderr",
     "output_type": "stream",
     "text": [
      "\r",
      "  1%|▍                                       | 13/1261 [00:02<04:28,  4.66it/s]"
     ]
    },
    {
     "name": "stdout",
     "output_type": "stream",
     "text": [
      "697.913555446 m 1935.72076721 m\n",
      "(4, 2)\n",
      "(720, 1280)\n",
      "(720, 1280, 3)\n"
     ]
    },
    {
     "name": "stderr",
     "output_type": "stream",
     "text": [
      "\r",
      "  1%|▍                                       | 14/1261 [00:03<04:27,  4.65it/s]"
     ]
    },
    {
     "name": "stdout",
     "output_type": "stream",
     "text": [
      "724.576892774 m 1306.91965776 m\n",
      "(4, 2)\n",
      "(720, 1280)\n",
      "(720, 1280, 3)\n"
     ]
    },
    {
     "name": "stderr",
     "output_type": "stream",
     "text": [
      "\r",
      "  1%|▍                                       | 15/1261 [00:03<04:25,  4.69it/s]"
     ]
    },
    {
     "name": "stdout",
     "output_type": "stream",
     "text": [
      "810.944784147 m 698.555705931 m\n",
      "(4, 2)\n",
      "(720, 1280)\n",
      "(720, 1280, 3)\n"
     ]
    },
    {
     "name": "stderr",
     "output_type": "stream",
     "text": [
      "\r",
      "  1%|▌                                       | 16/1261 [00:03<04:38,  4.46it/s]"
     ]
    },
    {
     "name": "stdout",
     "output_type": "stream",
     "text": [
      "864.839945638 m 849.140866507 m\n",
      "(4, 2)\n",
      "(720, 1280)\n",
      "(720, 1280, 3)\n"
     ]
    },
    {
     "name": "stderr",
     "output_type": "stream",
     "text": [
      "\r",
      "  1%|▌                                       | 17/1261 [00:03<04:36,  4.49it/s]"
     ]
    },
    {
     "name": "stdout",
     "output_type": "stream",
     "text": [
      "977.291180996 m 1021.52165955 m\n",
      "(4, 2)\n",
      "(720, 1280)\n",
      "(720, 1280, 3)\n"
     ]
    },
    {
     "name": "stderr",
     "output_type": "stream",
     "text": [
      "\r",
      "  1%|▌                                       | 18/1261 [00:03<04:31,  4.57it/s]"
     ]
    },
    {
     "name": "stdout",
     "output_type": "stream",
     "text": [
      "1095.49960911 m 1256.26882235 m\n",
      "(4, 2)\n",
      "(720, 1280)\n",
      "(720, 1280, 3)\n"
     ]
    },
    {
     "name": "stderr",
     "output_type": "stream",
     "text": [
      "\r",
      "  2%|▌                                       | 19/1261 [00:04<04:42,  4.39it/s]"
     ]
    },
    {
     "name": "stdout",
     "output_type": "stream",
     "text": [
      "1222.50161451 m 1687.02556886 m\n",
      "(4, 2)\n",
      "(720, 1280)\n",
      "(720, 1280, 3)\n"
     ]
    },
    {
     "name": "stderr",
     "output_type": "stream",
     "text": [
      "\r",
      "  2%|▋                                       | 20/1261 [00:04<04:38,  4.46it/s]"
     ]
    },
    {
     "name": "stdout",
     "output_type": "stream",
     "text": [
      "1532.4466093 m 1870.9106151 m\n",
      "(4, 2)\n",
      "(720, 1280)\n",
      "(720, 1280, 3)\n"
     ]
    },
    {
     "name": "stderr",
     "output_type": "stream",
     "text": [
      "\r",
      "  2%|▋                                       | 21/1261 [00:04<04:31,  4.57it/s]"
     ]
    },
    {
     "name": "stdout",
     "output_type": "stream",
     "text": [
      "1236.86369702 m 5995.98100118 m\n",
      "(4, 2)\n",
      "(720, 1280)\n",
      "(720, 1280, 3)\n"
     ]
    },
    {
     "name": "stderr",
     "output_type": "stream",
     "text": [
      "\r",
      "  2%|▋                                       | 22/1261 [00:04<04:36,  4.47it/s]"
     ]
    },
    {
     "name": "stdout",
     "output_type": "stream",
     "text": [
      "1498.73538888 m 162433.587881 m\n",
      "(4, 2)\n",
      "(720, 1280)\n",
      "(720, 1280, 3)\n"
     ]
    },
    {
     "name": "stderr",
     "output_type": "stream",
     "text": [
      "\r",
      "  2%|▋                                       | 23/1261 [00:05<04:30,  4.57it/s]"
     ]
    },
    {
     "name": "stdout",
     "output_type": "stream",
     "text": [
      "1513.61087378 m 9912.50702402 m\n",
      "(4, 2)\n",
      "(720, 1280)\n",
      "(720, 1280, 3)\n"
     ]
    },
    {
     "name": "stderr",
     "output_type": "stream",
     "text": [
      "\r",
      "  2%|▊                                       | 24/1261 [00:05<04:25,  4.65it/s]"
     ]
    },
    {
     "name": "stdout",
     "output_type": "stream",
     "text": [
      "1312.63528137 m 7168.94950251 m\n",
      "(4, 2)\n",
      "(720, 1280)\n",
      "(720, 1280, 3)\n"
     ]
    },
    {
     "name": "stderr",
     "output_type": "stream",
     "text": [
      "\r",
      "  2%|▊                                       | 25/1261 [00:05<04:22,  4.72it/s]"
     ]
    },
    {
     "name": "stdout",
     "output_type": "stream",
     "text": [
      "1262.03415984 m 2541.00514373 m\n",
      "(4, 2)\n",
      "(720, 1280)\n",
      "(720, 1280, 3)\n"
     ]
    },
    {
     "name": "stderr",
     "output_type": "stream",
     "text": [
      "\r",
      "  2%|▊                                       | 26/1261 [00:05<04:28,  4.60it/s]"
     ]
    },
    {
     "name": "stdout",
     "output_type": "stream",
     "text": [
      "1145.96774428 m 1976.21216149 m\n",
      "(4, 2)\n",
      "(720, 1280)\n",
      "(720, 1280, 3)\n"
     ]
    },
    {
     "name": "stderr",
     "output_type": "stream",
     "text": [
      "\r",
      "  2%|▊                                       | 27/1261 [00:05<04:29,  4.57it/s]"
     ]
    },
    {
     "name": "stdout",
     "output_type": "stream",
     "text": [
      "1214.38198549 m 1383.37083634 m\n",
      "(4, 2)\n",
      "(720, 1280)\n",
      "(720, 1280, 3)\n"
     ]
    },
    {
     "name": "stderr",
     "output_type": "stream",
     "text": [
      "\r",
      "  2%|▉                                       | 28/1261 [00:06<04:34,  4.50it/s]"
     ]
    },
    {
     "name": "stdout",
     "output_type": "stream",
     "text": [
      "962.477661267 m 944.591423065 m\n",
      "(4, 2)\n",
      "(720, 1280)\n",
      "(720, 1280, 3)\n"
     ]
    },
    {
     "name": "stderr",
     "output_type": "stream",
     "text": [
      "\r",
      "  2%|▉                                       | 29/1261 [00:06<04:35,  4.47it/s]"
     ]
    },
    {
     "name": "stdout",
     "output_type": "stream",
     "text": [
      "848.064251325 m 569.520918394 m\n",
      "(4, 2)\n",
      "(720, 1280)\n",
      "(720, 1280, 3)\n"
     ]
    },
    {
     "name": "stderr",
     "output_type": "stream",
     "text": [
      "\r",
      "  2%|▉                                       | 30/1261 [00:06<04:34,  4.48it/s]"
     ]
    },
    {
     "name": "stdout",
     "output_type": "stream",
     "text": [
      "682.709072747 m 679.455951577 m\n",
      "(4, 2)\n",
      "(720, 1280)\n",
      "(720, 1280, 3)\n"
     ]
    },
    {
     "name": "stderr",
     "output_type": "stream",
     "text": [
      "\r",
      "  2%|▉                                       | 31/1261 [00:06<04:32,  4.52it/s]"
     ]
    },
    {
     "name": "stdout",
     "output_type": "stream",
     "text": [
      "677.429471295 m 819.092288198 m\n",
      "(4, 2)\n",
      "(720, 1280)\n",
      "(720, 1280, 3)\n"
     ]
    },
    {
     "name": "stderr",
     "output_type": "stream",
     "text": [
      "\r",
      "  3%|█                                       | 32/1261 [00:07<04:32,  4.50it/s]"
     ]
    },
    {
     "name": "stdout",
     "output_type": "stream",
     "text": [
      "702.015857982 m 1149.58209745 m\n",
      "(4, 2)\n",
      "(720, 1280)\n",
      "(720, 1280, 3)\n"
     ]
    },
    {
     "name": "stderr",
     "output_type": "stream",
     "text": [
      "\r",
      "  3%|█                                       | 33/1261 [00:07<04:31,  4.52it/s]"
     ]
    },
    {
     "name": "stdout",
     "output_type": "stream",
     "text": [
      "608.86186405 m 47267.0538327 m\n",
      "(4, 2)\n",
      "(720, 1280)\n",
      "(720, 1280, 3)\n"
     ]
    },
    {
     "name": "stderr",
     "output_type": "stream",
     "text": [
      "\r",
      "  3%|█                                       | 34/1261 [00:07<04:30,  4.54it/s]"
     ]
    },
    {
     "name": "stdout",
     "output_type": "stream",
     "text": [
      "620.598304659 m 7234.43096014 m\n",
      "(4, 2)\n",
      "(720, 1280)\n",
      "(720, 1280, 3)\n"
     ]
    },
    {
     "name": "stderr",
     "output_type": "stream",
     "text": [
      "\r",
      "  3%|█                                       | 35/1261 [00:07<04:30,  4.53it/s]"
     ]
    },
    {
     "name": "stdout",
     "output_type": "stream",
     "text": [
      "613.212663019 m 1712.56345606 m\n",
      "(4, 2)\n",
      "(720, 1280)\n",
      "(720, 1280, 3)\n"
     ]
    },
    {
     "name": "stderr",
     "output_type": "stream",
     "text": [
      "\r",
      "  3%|█▏                                      | 36/1261 [00:07<04:27,  4.58it/s]"
     ]
    },
    {
     "name": "stdout",
     "output_type": "stream",
     "text": [
      "609.51084118 m 3989.2117416 m\n",
      "(4, 2)\n",
      "(720, 1280)\n",
      "(720, 1280, 3)\n"
     ]
    },
    {
     "name": "stderr",
     "output_type": "stream",
     "text": [
      "\r",
      "  3%|█▏                                      | 37/1261 [00:08<04:21,  4.68it/s]"
     ]
    },
    {
     "name": "stdout",
     "output_type": "stream",
     "text": [
      "579.954978653 m 733.843667403 m\n",
      "(4, 2)\n",
      "(720, 1280)\n",
      "(720, 1280, 3)\n"
     ]
    },
    {
     "name": "stderr",
     "output_type": "stream",
     "text": [
      "\r",
      "  3%|█▏                                      | 38/1261 [00:08<04:18,  4.72it/s]"
     ]
    },
    {
     "name": "stdout",
     "output_type": "stream",
     "text": [
      "542.837630736 m 886.641281515 m\n",
      "(4, 2)\n",
      "(720, 1280)\n",
      "(720, 1280, 3)\n"
     ]
    },
    {
     "name": "stderr",
     "output_type": "stream",
     "text": [
      "\r",
      "  3%|█▏                                      | 39/1261 [00:08<04:24,  4.62it/s]"
     ]
    },
    {
     "name": "stdout",
     "output_type": "stream",
     "text": [
      "514.793215765 m 496.883178954 m\n",
      "(4, 2)\n",
      "(720, 1280)\n",
      "(720, 1280, 3)\n"
     ]
    },
    {
     "name": "stderr",
     "output_type": "stream",
     "text": [
      "\r",
      "  3%|█▎                                      | 40/1261 [00:08<04:24,  4.61it/s]"
     ]
    },
    {
     "name": "stdout",
     "output_type": "stream",
     "text": [
      "494.846064869 m 483.699678725 m\n",
      "(4, 2)\n",
      "(720, 1280)\n",
      "(720, 1280, 3)\n"
     ]
    },
    {
     "name": "stderr",
     "output_type": "stream",
     "text": [
      "\r",
      "  3%|█▎                                      | 41/1261 [00:08<04:20,  4.69it/s]"
     ]
    },
    {
     "name": "stdout",
     "output_type": "stream",
     "text": [
      "485.185323032 m 554.597887448 m\n",
      "(4, 2)\n",
      "(720, 1280)\n",
      "(720, 1280, 3)\n"
     ]
    },
    {
     "name": "stderr",
     "output_type": "stream",
     "text": [
      "\r",
      "  3%|█▎                                      | 42/1261 [00:09<04:15,  4.77it/s]"
     ]
    },
    {
     "name": "stdout",
     "output_type": "stream",
     "text": [
      "475.628096777 m 624.075183061 m\n",
      "(4, 2)\n",
      "(720, 1280)\n",
      "(720, 1280, 3)\n"
     ]
    },
    {
     "name": "stderr",
     "output_type": "stream",
     "text": [
      "\r",
      "  3%|█▎                                      | 43/1261 [00:09<04:19,  4.69it/s]"
     ]
    },
    {
     "name": "stdout",
     "output_type": "stream",
     "text": [
      "502.322571047 m 675.23399912 m\n",
      "(4, 2)\n",
      "(720, 1280)\n",
      "(720, 1280, 3)\n"
     ]
    },
    {
     "name": "stderr",
     "output_type": "stream",
     "text": [
      "\r",
      "  3%|█▍                                      | 44/1261 [00:09<04:17,  4.73it/s]"
     ]
    },
    {
     "name": "stdout",
     "output_type": "stream",
     "text": [
      "488.525422536 m 792.652175015 m\n",
      "(4, 2)\n",
      "(720, 1280)\n",
      "(720, 1280, 3)\n"
     ]
    },
    {
     "name": "stderr",
     "output_type": "stream",
     "text": [
      "\r",
      "  4%|█▍                                      | 45/1261 [00:09<04:17,  4.72it/s]"
     ]
    },
    {
     "name": "stdout",
     "output_type": "stream",
     "text": [
      "497.812208384 m 1985.47834019 m\n",
      "(4, 2)\n",
      "(720, 1280)\n",
      "(720, 1280, 3)\n"
     ]
    },
    {
     "name": "stderr",
     "output_type": "stream",
     "text": [
      "\r",
      "  4%|█▍                                      | 46/1261 [00:09<04:15,  4.75it/s]"
     ]
    },
    {
     "name": "stdout",
     "output_type": "stream",
     "text": [
      "525.75930835 m 5590.40293909 m\n",
      "(4, 2)\n",
      "(720, 1280)\n",
      "(720, 1280, 3)\n"
     ]
    },
    {
     "name": "stderr",
     "output_type": "stream",
     "text": [
      "\r",
      "  4%|█▍                                      | 47/1261 [00:10<04:21,  4.64it/s]"
     ]
    },
    {
     "name": "stdout",
     "output_type": "stream",
     "text": [
      "552.605067711 m 3415.96466064 m\n",
      "(4, 2)\n",
      "(720, 1280)\n",
      "(720, 1280, 3)\n"
     ]
    },
    {
     "name": "stderr",
     "output_type": "stream",
     "text": [
      "\r",
      "  4%|█▌                                      | 48/1261 [00:10<04:24,  4.58it/s]"
     ]
    },
    {
     "name": "stdout",
     "output_type": "stream",
     "text": [
      "516.875556817 m 4135.44632738 m\n",
      "(4, 2)\n",
      "(720, 1280)\n",
      "(720, 1280, 3)\n"
     ]
    },
    {
     "name": "stderr",
     "output_type": "stream",
     "text": [
      "\r",
      "  4%|█▌                                      | 49/1261 [00:10<04:28,  4.52it/s]"
     ]
    },
    {
     "name": "stdout",
     "output_type": "stream",
     "text": [
      "566.004242269 m 3612.25094291 m\n",
      "(4, 2)\n",
      "(720, 1280)\n",
      "(720, 1280, 3)\n"
     ]
    },
    {
     "name": "stderr",
     "output_type": "stream",
     "text": [
      "\r",
      "  4%|█▌                                      | 50/1261 [00:10<04:30,  4.48it/s]"
     ]
    },
    {
     "name": "stdout",
     "output_type": "stream",
     "text": [
      "603.029019274 m 2179.38906782 m\n",
      "(4, 2)\n",
      "(720, 1280)\n",
      "(720, 1280, 3)\n"
     ]
    },
    {
     "name": "stderr",
     "output_type": "stream",
     "text": [
      "\r",
      "  4%|█▌                                      | 51/1261 [00:11<04:34,  4.41it/s]"
     ]
    },
    {
     "name": "stdout",
     "output_type": "stream",
     "text": [
      "629.458851287 m 4161.96480059 m\n",
      "(4, 2)\n",
      "(720, 1280)\n",
      "(720, 1280, 3)\n"
     ]
    },
    {
     "name": "stderr",
     "output_type": "stream",
     "text": [
      "\r",
      "  4%|█▋                                      | 52/1261 [00:11<04:31,  4.45it/s]"
     ]
    },
    {
     "name": "stdout",
     "output_type": "stream",
     "text": [
      "650.444187581 m 665.179714889 m\n",
      "(4, 2)\n",
      "(720, 1280)\n",
      "(720, 1280, 3)\n"
     ]
    },
    {
     "name": "stderr",
     "output_type": "stream",
     "text": [
      "\r",
      "  4%|█▋                                      | 53/1261 [00:11<04:24,  4.57it/s]"
     ]
    },
    {
     "name": "stdout",
     "output_type": "stream",
     "text": [
      "703.070470269 m 516.112741425 m\n",
      "(4, 2)\n",
      "(720, 1280)\n",
      "(720, 1280, 3)\n"
     ]
    },
    {
     "name": "stderr",
     "output_type": "stream",
     "text": [
      "\r",
      "  4%|█▋                                      | 54/1261 [00:11<04:23,  4.57it/s]"
     ]
    },
    {
     "name": "stdout",
     "output_type": "stream",
     "text": [
      "694.527271044 m 574.783371402 m\n",
      "(4, 2)\n",
      "(720, 1280)\n",
      "(720, 1280, 3)\n"
     ]
    },
    {
     "name": "stderr",
     "output_type": "stream",
     "text": [
      "\r",
      "  4%|█▋                                      | 55/1261 [00:12<04:26,  4.52it/s]"
     ]
    },
    {
     "name": "stdout",
     "output_type": "stream",
     "text": [
      "860.982599176 m 693.122500205 m\n",
      "(4, 2)\n",
      "(720, 1280)\n",
      "(720, 1280, 3)\n"
     ]
    },
    {
     "name": "stderr",
     "output_type": "stream",
     "text": [
      "\r",
      "  4%|█▊                                      | 56/1261 [00:12<04:29,  4.47it/s]"
     ]
    },
    {
     "name": "stdout",
     "output_type": "stream",
     "text": [
      "1010.64612801 m 795.758557665 m\n",
      "(4, 2)\n",
      "(720, 1280)\n",
      "(720, 1280, 3)\n"
     ]
    },
    {
     "name": "stderr",
     "output_type": "stream",
     "text": [
      "\r",
      "  5%|█▊                                      | 57/1261 [00:12<04:31,  4.44it/s]"
     ]
    },
    {
     "name": "stdout",
     "output_type": "stream",
     "text": [
      "1120.8338951 m 1261.6330109 m\n",
      "(4, 2)\n",
      "(720, 1280)\n",
      "(720, 1280, 3)\n"
     ]
    },
    {
     "name": "stderr",
     "output_type": "stream",
     "text": [
      "\r",
      "  5%|█▊                                      | 58/1261 [00:12<04:32,  4.42it/s]"
     ]
    },
    {
     "name": "stdout",
     "output_type": "stream",
     "text": [
      "1515.14289106 m 39993.4901598 m\n",
      "(4, 2)\n",
      "(720, 1280)\n",
      "(720, 1280, 3)\n"
     ]
    },
    {
     "name": "stderr",
     "output_type": "stream",
     "text": [
      "\r",
      "  5%|█▊                                      | 59/1261 [00:12<04:31,  4.43it/s]"
     ]
    },
    {
     "name": "stdout",
     "output_type": "stream",
     "text": [
      "1241.72290003 m 6849.43091039 m\n",
      "(4, 2)\n",
      "(720, 1280)\n",
      "(720, 1280, 3)\n"
     ]
    },
    {
     "name": "stderr",
     "output_type": "stream",
     "text": [
      "\r",
      "  5%|█▉                                      | 60/1261 [00:13<04:27,  4.48it/s]"
     ]
    },
    {
     "name": "stdout",
     "output_type": "stream",
     "text": [
      "1346.26636026 m 5750.40275128 m\n",
      "(4, 2)\n",
      "(720, 1280)\n",
      "(720, 1280, 3)\n"
     ]
    },
    {
     "name": "stderr",
     "output_type": "stream",
     "text": [
      "\r",
      "  5%|█▉                                      | 61/1261 [00:13<04:34,  4.38it/s]"
     ]
    },
    {
     "name": "stdout",
     "output_type": "stream",
     "text": [
      "1306.76763633 m 9443.2095443 m\n",
      "(4, 2)\n",
      "(720, 1280)\n",
      "(720, 1280, 3)\n"
     ]
    },
    {
     "name": "stderr",
     "output_type": "stream",
     "text": [
      "\r",
      "  5%|█▉                                      | 62/1261 [00:13<04:31,  4.41it/s]"
     ]
    },
    {
     "name": "stdout",
     "output_type": "stream",
     "text": [
      "1181.44903272 m 5663.43237702 m\n",
      "(4, 2)\n",
      "(720, 1280)\n",
      "(720, 1280, 3)\n"
     ]
    },
    {
     "name": "stderr",
     "output_type": "stream",
     "text": [
      "\r",
      "  5%|█▉                                      | 63/1261 [00:13<04:31,  4.41it/s]"
     ]
    },
    {
     "name": "stdout",
     "output_type": "stream",
     "text": [
      "937.95095838 m 607.086996513 m\n",
      "(4, 2)\n",
      "(720, 1280)\n",
      "(720, 1280, 3)\n"
     ]
    },
    {
     "name": "stderr",
     "output_type": "stream",
     "text": [
      "\r",
      "  5%|██                                      | 64/1261 [00:14<04:32,  4.39it/s]"
     ]
    },
    {
     "name": "stdout",
     "output_type": "stream",
     "text": [
      "776.423553701 m 639.126857946 m\n",
      "(4, 2)\n",
      "(720, 1280)\n",
      "(720, 1280, 3)\n"
     ]
    },
    {
     "name": "stderr",
     "output_type": "stream",
     "text": [
      "\r",
      "  5%|██                                      | 65/1261 [00:14<04:30,  4.42it/s]"
     ]
    },
    {
     "name": "stdout",
     "output_type": "stream",
     "text": [
      "737.010986484 m 735.927209181 m\n",
      "(4, 2)\n",
      "(720, 1280)\n",
      "(720, 1280, 3)\n"
     ]
    },
    {
     "name": "stderr",
     "output_type": "stream",
     "text": [
      "\r",
      "  5%|██                                      | 66/1261 [00:14<04:27,  4.47it/s]"
     ]
    },
    {
     "name": "stdout",
     "output_type": "stream",
     "text": [
      "771.652167328 m 900.994658754 m\n",
      "(4, 2)\n",
      "(720, 1280)\n",
      "(720, 1280, 3)\n"
     ]
    },
    {
     "name": "stderr",
     "output_type": "stream",
     "text": [
      "\r",
      "  5%|██▏                                     | 67/1261 [00:14<04:28,  4.44it/s]"
     ]
    },
    {
     "name": "stdout",
     "output_type": "stream",
     "text": [
      "720.835228023 m 1053.80317324 m\n",
      "(4, 2)\n",
      "(720, 1280)\n",
      "(720, 1280, 3)\n"
     ]
    },
    {
     "name": "stderr",
     "output_type": "stream",
     "text": [
      "\r",
      "  5%|██▏                                     | 68/1261 [00:14<04:29,  4.43it/s]"
     ]
    },
    {
     "name": "stdout",
     "output_type": "stream",
     "text": [
      "630.025208308 m 1471.39062983 m\n",
      "(4, 2)\n",
      "(720, 1280)\n",
      "(720, 1280, 3)\n"
     ]
    },
    {
     "name": "stderr",
     "output_type": "stream",
     "text": [
      "\r",
      "  5%|██▏                                     | 69/1261 [00:15<04:28,  4.43it/s]"
     ]
    },
    {
     "name": "stdout",
     "output_type": "stream",
     "text": [
      "621.262208774 m 2050.61734709 m\n",
      "(4, 2)\n",
      "(720, 1280)\n",
      "(720, 1280, 3)\n"
     ]
    },
    {
     "name": "stderr",
     "output_type": "stream",
     "text": [
      "\r",
      "  6%|██▏                                     | 70/1261 [00:15<04:25,  4.48it/s]"
     ]
    },
    {
     "name": "stdout",
     "output_type": "stream",
     "text": [
      "581.83268265 m 11092.1191848 m\n",
      "(4, 2)\n",
      "(720, 1280)\n",
      "(720, 1280, 3)\n"
     ]
    },
    {
     "name": "stderr",
     "output_type": "stream",
     "text": [
      "\r",
      "  6%|██▎                                     | 71/1261 [00:15<04:24,  4.49it/s]"
     ]
    },
    {
     "name": "stdout",
     "output_type": "stream",
     "text": [
      "608.536580778 m 15594.3822353 m\n",
      "(4, 2)\n",
      "(720, 1280)\n",
      "(720, 1280, 3)\n"
     ]
    },
    {
     "name": "stderr",
     "output_type": "stream",
     "text": [
      "\r",
      "  6%|██▎                                     | 72/1261 [00:15<04:20,  4.56it/s]"
     ]
    },
    {
     "name": "stdout",
     "output_type": "stream",
     "text": [
      "718.55649495 m 9502.95147483 m\n",
      "(4, 2)\n",
      "(720, 1280)\n",
      "(720, 1280, 3)\n"
     ]
    },
    {
     "name": "stderr",
     "output_type": "stream",
     "text": [
      "\r",
      "  6%|██▎                                     | 73/1261 [00:16<04:19,  4.57it/s]"
     ]
    },
    {
     "name": "stdout",
     "output_type": "stream",
     "text": [
      "824.836569603 m 5279.9708129 m\n",
      "(4, 2)\n",
      "(720, 1280)\n",
      "(720, 1280, 3)\n"
     ]
    },
    {
     "name": "stderr",
     "output_type": "stream",
     "text": [
      "\r",
      "  6%|██▎                                     | 74/1261 [00:16<04:15,  4.64it/s]"
     ]
    },
    {
     "name": "stdout",
     "output_type": "stream",
     "text": [
      "856.52412766 m 20784.6523395 m\n",
      "(4, 2)\n",
      "(720, 1280)\n",
      "(720, 1280, 3)\n"
     ]
    },
    {
     "name": "stderr",
     "output_type": "stream",
     "text": [
      "\r",
      "  6%|██▍                                     | 75/1261 [00:16<04:14,  4.67it/s]"
     ]
    },
    {
     "name": "stdout",
     "output_type": "stream",
     "text": [
      "1027.5969671 m 8865.19478627 m\n",
      "(4, 2)\n",
      "(720, 1280)\n",
      "(720, 1280, 3)\n"
     ]
    },
    {
     "name": "stderr",
     "output_type": "stream",
     "text": [
      "\r",
      "  6%|██▍                                     | 76/1261 [00:16<04:12,  4.69it/s]"
     ]
    },
    {
     "name": "stdout",
     "output_type": "stream",
     "text": [
      "1592.94580581 m 5398.55316749 m\n",
      "(4, 2)\n",
      "(720, 1280)\n",
      "(720, 1280, 3)\n"
     ]
    },
    {
     "name": "stderr",
     "output_type": "stream",
     "text": [
      "\r",
      "  6%|██▍                                     | 77/1261 [00:16<04:12,  4.69it/s]"
     ]
    },
    {
     "name": "stdout",
     "output_type": "stream",
     "text": [
      "1759.74253679 m 1835.27748418 m\n",
      "(4, 2)\n",
      "(720, 1280)\n",
      "(720, 1280, 3)\n"
     ]
    },
    {
     "name": "stderr",
     "output_type": "stream",
     "text": [
      "\r",
      "  6%|██▍                                     | 78/1261 [00:17<04:09,  4.73it/s]"
     ]
    },
    {
     "name": "stdout",
     "output_type": "stream",
     "text": [
      "2091.08657425 m 576.444182941 m\n",
      "(4, 2)\n",
      "(720, 1280)\n",
      "(720, 1280, 3)\n"
     ]
    },
    {
     "name": "stderr",
     "output_type": "stream",
     "text": [
      "\r",
      "  6%|██▌                                     | 79/1261 [00:17<04:10,  4.71it/s]"
     ]
    },
    {
     "name": "stdout",
     "output_type": "stream",
     "text": [
      "2037.25207554 m 560.602119643 m\n",
      "(4, 2)\n",
      "(720, 1280)\n",
      "(720, 1280, 3)\n"
     ]
    },
    {
     "name": "stderr",
     "output_type": "stream",
     "text": [
      "\r",
      "  6%|██▌                                     | 80/1261 [00:17<04:10,  4.72it/s]"
     ]
    },
    {
     "name": "stdout",
     "output_type": "stream",
     "text": [
      "3537.70988962 m 622.734291947 m\n",
      "(4, 2)\n",
      "(720, 1280)\n",
      "(720, 1280, 3)\n"
     ]
    },
    {
     "name": "stderr",
     "output_type": "stream",
     "text": [
      "\r",
      "  6%|██▌                                     | 81/1261 [00:17<04:10,  4.71it/s]"
     ]
    },
    {
     "name": "stdout",
     "output_type": "stream",
     "text": [
      "2233.39988015 m 689.106032533 m\n",
      "(4, 2)\n",
      "(720, 1280)\n",
      "(720, 1280, 3)\n"
     ]
    },
    {
     "name": "stderr",
     "output_type": "stream",
     "text": [
      "\r",
      "  7%|██▌                                     | 82/1261 [00:17<04:11,  4.68it/s]"
     ]
    },
    {
     "name": "stdout",
     "output_type": "stream",
     "text": [
      "2421.39532289 m 974.445494703 m\n",
      "(4, 2)\n",
      "(720, 1280)\n",
      "(720, 1280, 3)\n"
     ]
    },
    {
     "name": "stderr",
     "output_type": "stream",
     "text": [
      "\r",
      "  7%|██▋                                     | 83/1261 [00:18<04:08,  4.75it/s]"
     ]
    },
    {
     "name": "stdout",
     "output_type": "stream",
     "text": [
      "2026.06715872 m 1526.72518253 m\n",
      "(4, 2)\n",
      "(720, 1280)\n",
      "(720, 1280, 3)\n"
     ]
    },
    {
     "name": "stderr",
     "output_type": "stream",
     "text": [
      "\r",
      "  7%|██▋                                     | 84/1261 [00:18<04:09,  4.72it/s]"
     ]
    },
    {
     "name": "stdout",
     "output_type": "stream",
     "text": [
      "2740.27959923 m 8639.21695842 m\n",
      "(4, 2)\n",
      "(720, 1280)\n",
      "(720, 1280, 3)\n"
     ]
    },
    {
     "name": "stderr",
     "output_type": "stream",
     "text": [
      "\r",
      "  7%|██▋                                     | 85/1261 [00:18<04:20,  4.51it/s]"
     ]
    },
    {
     "name": "stdout",
     "output_type": "stream",
     "text": [
      "2195.20949501 m 7299.09539975 m\n",
      "(4, 2)\n",
      "(720, 1280)\n",
      "(720, 1280, 3)\n"
     ]
    },
    {
     "name": "stderr",
     "output_type": "stream",
     "text": [
      "\r",
      "  7%|██▋                                     | 86/1261 [00:18<04:21,  4.49it/s]"
     ]
    },
    {
     "name": "stdout",
     "output_type": "stream",
     "text": [
      "1520.99706642 m 13708.1744432 m\n",
      "(4, 2)\n",
      "(720, 1280)\n",
      "(720, 1280, 3)\n"
     ]
    },
    {
     "name": "stderr",
     "output_type": "stream",
     "text": [
      "\r",
      "  7%|██▊                                     | 87/1261 [00:19<04:33,  4.29it/s]"
     ]
    },
    {
     "name": "stdout",
     "output_type": "stream",
     "text": [
      "1253.80170642 m 7846.18850416 m\n",
      "(4, 2)\n",
      "(720, 1280)\n",
      "(720, 1280, 3)\n"
     ]
    },
    {
     "name": "stderr",
     "output_type": "stream",
     "text": [
      "\r",
      "  7%|██▊                                     | 88/1261 [00:19<04:40,  4.18it/s]"
     ]
    },
    {
     "name": "stdout",
     "output_type": "stream",
     "text": [
      "1003.01695892 m 820.721097406 m\n",
      "(4, 2)\n",
      "(720, 1280)\n",
      "(720, 1280, 3)\n"
     ]
    },
    {
     "name": "stderr",
     "output_type": "stream",
     "text": [
      "\r",
      "  7%|██▊                                     | 89/1261 [00:19<04:30,  4.33it/s]"
     ]
    },
    {
     "name": "stdout",
     "output_type": "stream",
     "text": [
      "800.372654257 m 576.543591209 m\n",
      "(4, 2)\n",
      "(720, 1280)\n",
      "(720, 1280, 3)\n"
     ]
    },
    {
     "name": "stderr",
     "output_type": "stream",
     "text": [
      "\r",
      "  7%|██▊                                     | 90/1261 [00:19<04:42,  4.14it/s]"
     ]
    },
    {
     "name": "stdout",
     "output_type": "stream",
     "text": [
      "751.471339718 m 594.94309348 m\n",
      "(4, 2)\n",
      "(720, 1280)\n",
      "(720, 1280, 3)\n"
     ]
    },
    {
     "name": "stderr",
     "output_type": "stream",
     "text": [
      "\r",
      "  7%|██▉                                     | 91/1261 [00:20<04:39,  4.19it/s]"
     ]
    },
    {
     "name": "stdout",
     "output_type": "stream",
     "text": [
      "706.056284057 m 676.524864256 m\n",
      "(4, 2)\n",
      "(720, 1280)\n",
      "(720, 1280, 3)\n"
     ]
    },
    {
     "name": "stderr",
     "output_type": "stream",
     "text": [
      "\r",
      "  7%|██▉                                     | 92/1261 [00:20<04:30,  4.32it/s]"
     ]
    },
    {
     "name": "stdout",
     "output_type": "stream",
     "text": [
      "658.493782679 m 831.094804446 m\n",
      "(4, 2)\n",
      "(720, 1280)\n",
      "(720, 1280, 3)\n"
     ]
    },
    {
     "name": "stderr",
     "output_type": "stream",
     "text": [
      "\r",
      "  7%|██▉                                     | 93/1261 [00:20<04:24,  4.41it/s]"
     ]
    },
    {
     "name": "stdout",
     "output_type": "stream",
     "text": [
      "652.913151223 m 959.86679779 m\n",
      "(4, 2)\n",
      "(720, 1280)\n",
      "(720, 1280, 3)\n"
     ]
    },
    {
     "name": "stderr",
     "output_type": "stream",
     "text": [
      "\r",
      "  7%|██▉                                     | 94/1261 [00:20<04:16,  4.55it/s]"
     ]
    },
    {
     "name": "stdout",
     "output_type": "stream",
     "text": [
      "712.530193625 m 1171.25464973 m\n",
      "(4, 2)\n",
      "(720, 1280)\n",
      "(720, 1280, 3)\n"
     ]
    },
    {
     "name": "stderr",
     "output_type": "stream",
     "text": [
      "\r",
      "  8%|███                                     | 95/1261 [00:20<04:12,  4.62it/s]"
     ]
    },
    {
     "name": "stdout",
     "output_type": "stream",
     "text": [
      "606.155949296 m 12364.3887676 m\n",
      "(4, 2)\n",
      "(720, 1280)\n",
      "(720, 1280, 3)\n"
     ]
    },
    {
     "name": "stderr",
     "output_type": "stream",
     "text": [
      "\r",
      "  8%|███                                     | 96/1261 [00:21<04:09,  4.67it/s]"
     ]
    },
    {
     "name": "stdout",
     "output_type": "stream",
     "text": [
      "627.596513031 m 5150.3121004 m\n",
      "(4, 2)\n",
      "(720, 1280)\n",
      "(720, 1280, 3)\n"
     ]
    },
    {
     "name": "stderr",
     "output_type": "stream",
     "text": [
      "\r",
      "  8%|███                                     | 97/1261 [00:21<04:07,  4.71it/s]"
     ]
    },
    {
     "name": "stdout",
     "output_type": "stream",
     "text": [
      "731.745164083 m 3716.2090311 m\n",
      "(4, 2)\n",
      "(720, 1280)\n",
      "(720, 1280, 3)\n"
     ]
    },
    {
     "name": "stderr",
     "output_type": "stream",
     "text": [
      "\r",
      "  8%|███                                     | 98/1261 [00:21<04:05,  4.73it/s]"
     ]
    },
    {
     "name": "stdout",
     "output_type": "stream",
     "text": [
      "747.094209413 m 2670.0876493 m\n",
      "(4, 2)\n",
      "(720, 1280)\n",
      "(720, 1280, 3)\n"
     ]
    },
    {
     "name": "stderr",
     "output_type": "stream",
     "text": [
      "\r",
      "  8%|███▏                                    | 99/1261 [00:21<04:06,  4.72it/s]"
     ]
    },
    {
     "name": "stdout",
     "output_type": "stream",
     "text": [
      "731.808735507 m 3623.58315303 m\n",
      "(4, 2)\n",
      "(720, 1280)\n",
      "(720, 1280, 3)\n"
     ]
    },
    {
     "name": "stderr",
     "output_type": "stream",
     "text": [
      "\r",
      "  8%|███                                    | 100/1261 [00:21<04:06,  4.71it/s]"
     ]
    },
    {
     "name": "stdout",
     "output_type": "stream",
     "text": [
      "788.232364221 m 8014.30411455 m\n",
      "(4, 2)\n",
      "(720, 1280)\n",
      "(720, 1280, 3)\n"
     ]
    },
    {
     "name": "stderr",
     "output_type": "stream",
     "text": [
      "\r",
      "  8%|███                                    | 101/1261 [00:22<04:04,  4.75it/s]"
     ]
    },
    {
     "name": "stdout",
     "output_type": "stream",
     "text": [
      "867.112769768 m 998.35294039 m\n",
      "(4, 2)\n",
      "(720, 1280)\n",
      "(720, 1280, 3)\n"
     ]
    },
    {
     "name": "stderr",
     "output_type": "stream",
     "text": [
      "\r",
      "  8%|███▏                                   | 102/1261 [00:22<04:04,  4.75it/s]"
     ]
    },
    {
     "name": "stdout",
     "output_type": "stream",
     "text": [
      "885.25097977 m 516.765047566 m\n",
      "(4, 2)\n",
      "(720, 1280)\n",
      "(720, 1280, 3)\n"
     ]
    },
    {
     "name": "stderr",
     "output_type": "stream",
     "text": [
      "\r",
      "  8%|███▏                                   | 103/1261 [00:22<04:02,  4.78it/s]"
     ]
    },
    {
     "name": "stdout",
     "output_type": "stream",
     "text": [
      "850.961656573 m 516.050932657 m\n",
      "(4, 2)\n",
      "(720, 1280)\n",
      "(720, 1280, 3)\n"
     ]
    },
    {
     "name": "stderr",
     "output_type": "stream",
     "text": [
      "\r",
      "  8%|███▏                                   | 104/1261 [00:22<04:02,  4.77it/s]"
     ]
    },
    {
     "name": "stdout",
     "output_type": "stream",
     "text": [
      "833.265199989 m 578.000902935 m\n",
      "(4, 2)\n",
      "(720, 1280)\n",
      "(720, 1280, 3)\n"
     ]
    },
    {
     "name": "stderr",
     "output_type": "stream",
     "text": [
      "\r",
      "  8%|███▏                                   | 105/1261 [00:22<04:04,  4.73it/s]"
     ]
    },
    {
     "name": "stdout",
     "output_type": "stream",
     "text": [
      "798.818153455 m 646.746176994 m\n",
      "(4, 2)\n",
      "(720, 1280)\n",
      "(720, 1280, 3)\n"
     ]
    },
    {
     "name": "stderr",
     "output_type": "stream",
     "text": [
      "\r",
      "  8%|███▎                                   | 106/1261 [00:23<04:03,  4.75it/s]"
     ]
    },
    {
     "name": "stdout",
     "output_type": "stream",
     "text": [
      "851.824291359 m 692.205951041 m\n",
      "(4, 2)\n",
      "(720, 1280)\n",
      "(720, 1280, 3)\n"
     ]
    },
    {
     "name": "stderr",
     "output_type": "stream",
     "text": [
      "\r",
      "  8%|███▎                                   | 107/1261 [00:23<04:04,  4.72it/s]"
     ]
    },
    {
     "name": "stdout",
     "output_type": "stream",
     "text": [
      "814.521577146 m 870.199678475 m\n",
      "(4, 2)\n",
      "(720, 1280)\n",
      "(720, 1280, 3)\n"
     ]
    },
    {
     "name": "stderr",
     "output_type": "stream",
     "text": [
      "\r",
      "  9%|███▎                                   | 108/1261 [00:23<04:02,  4.76it/s]"
     ]
    },
    {
     "name": "stdout",
     "output_type": "stream",
     "text": [
      "800.803564648 m 2211.21156684 m\n",
      "(4, 2)\n",
      "(720, 1280)\n",
      "(720, 1280, 3)\n"
     ]
    },
    {
     "name": "stderr",
     "output_type": "stream",
     "text": [
      "\r",
      "  9%|███▎                                   | 109/1261 [00:23<04:08,  4.63it/s]"
     ]
    },
    {
     "name": "stdout",
     "output_type": "stream",
     "text": [
      "779.916795039 m 7098.68642189 m\n",
      "(4, 2)\n",
      "(720, 1280)\n",
      "(720, 1280, 3)\n"
     ]
    },
    {
     "name": "stderr",
     "output_type": "stream",
     "text": [
      "\r",
      "  9%|███▍                                   | 110/1261 [00:24<04:08,  4.63it/s]"
     ]
    },
    {
     "name": "stdout",
     "output_type": "stream",
     "text": [
      "694.218060442 m 36417.9390828 m\n",
      "(4, 2)\n",
      "(720, 1280)\n",
      "(720, 1280, 3)\n"
     ]
    },
    {
     "name": "stderr",
     "output_type": "stream",
     "text": [
      "\r",
      "  9%|███▍                                   | 111/1261 [00:24<04:09,  4.61it/s]"
     ]
    },
    {
     "name": "stdout",
     "output_type": "stream",
     "text": [
      "658.111101985 m 2469.67890564 m\n",
      "(4, 2)\n",
      "(720, 1280)\n",
      "(720, 1280, 3)\n"
     ]
    },
    {
     "name": "stderr",
     "output_type": "stream",
     "text": [
      "\r",
      "  9%|███▍                                   | 112/1261 [00:24<04:08,  4.62it/s]"
     ]
    },
    {
     "name": "stdout",
     "output_type": "stream",
     "text": [
      "746.749800205 m 16840.1955861 m\n",
      "(4, 2)\n",
      "(720, 1280)\n",
      "(720, 1280, 3)\n"
     ]
    },
    {
     "name": "stderr",
     "output_type": "stream",
     "text": [
      "\r",
      "  9%|███▍                                   | 113/1261 [00:24<04:07,  4.64it/s]"
     ]
    },
    {
     "name": "stdout",
     "output_type": "stream",
     "text": [
      "677.795197637 m 2013.11500052 m\n",
      "(4, 2)\n",
      "(720, 1280)\n",
      "(720, 1280, 3)\n"
     ]
    },
    {
     "name": "stderr",
     "output_type": "stream",
     "text": [
      "\r",
      "  9%|███▌                                   | 114/1261 [00:24<04:06,  4.65it/s]"
     ]
    },
    {
     "name": "stdout",
     "output_type": "stream",
     "text": [
      "642.606671251 m 770.292763866 m\n",
      "(4, 2)\n",
      "(720, 1280)\n",
      "(720, 1280, 3)\n"
     ]
    },
    {
     "name": "stderr",
     "output_type": "stream",
     "text": [
      "\r",
      "  9%|███▌                                   | 115/1261 [00:25<04:05,  4.66it/s]"
     ]
    },
    {
     "name": "stdout",
     "output_type": "stream",
     "text": [
      "718.956776197 m 448.016358727 m\n",
      "(4, 2)\n",
      "(720, 1280)\n",
      "(720, 1280, 3)\n"
     ]
    },
    {
     "name": "stderr",
     "output_type": "stream",
     "text": [
      "\r",
      "  9%|███▌                                   | 116/1261 [00:25<04:03,  4.70it/s]"
     ]
    },
    {
     "name": "stdout",
     "output_type": "stream",
     "text": [
      "712.749907338 m 448.859527101 m\n",
      "(4, 2)\n",
      "(720, 1280)\n",
      "(720, 1280, 3)\n"
     ]
    },
    {
     "name": "stderr",
     "output_type": "stream",
     "text": [
      "\r",
      "  9%|███▌                                   | 117/1261 [00:25<04:04,  4.67it/s]"
     ]
    },
    {
     "name": "stdout",
     "output_type": "stream",
     "text": [
      "637.5291086 m 553.763611527 m\n",
      "(4, 2)\n",
      "(720, 1280)\n",
      "(720, 1280, 3)\n"
     ]
    },
    {
     "name": "stderr",
     "output_type": "stream",
     "text": [
      "\r",
      "  9%|███▋                                   | 118/1261 [00:25<04:02,  4.71it/s]"
     ]
    },
    {
     "name": "stdout",
     "output_type": "stream",
     "text": [
      "620.531340143 m 602.525695537 m\n",
      "(4, 2)\n",
      "(720, 1280)\n",
      "(720, 1280, 3)\n"
     ]
    },
    {
     "name": "stderr",
     "output_type": "stream",
     "text": [
      "\r",
      "  9%|███▋                                   | 119/1261 [00:25<04:02,  4.71it/s]"
     ]
    },
    {
     "name": "stdout",
     "output_type": "stream",
     "text": [
      "564.603597488 m 706.079109118 m\n",
      "(4, 2)\n",
      "(720, 1280)\n",
      "(720, 1280, 3)\n"
     ]
    },
    {
     "name": "stderr",
     "output_type": "stream",
     "text": [
      "\r",
      " 10%|███▋                                   | 120/1261 [00:26<04:00,  4.75it/s]"
     ]
    },
    {
     "name": "stdout",
     "output_type": "stream",
     "text": [
      "585.617589459 m 1081.95659945 m\n",
      "(4, 2)\n",
      "(720, 1280)\n",
      "(720, 1280, 3)\n"
     ]
    },
    {
     "name": "stderr",
     "output_type": "stream",
     "text": [
      "\r",
      " 10%|███▋                                   | 121/1261 [00:26<04:01,  4.71it/s]"
     ]
    },
    {
     "name": "stdout",
     "output_type": "stream",
     "text": [
      "603.711051325 m 2103.62338215 m\n",
      "(4, 2)\n",
      "(720, 1280)\n",
      "(720, 1280, 3)\n"
     ]
    },
    {
     "name": "stderr",
     "output_type": "stream",
     "text": [
      "\r",
      " 10%|███▊                                   | 122/1261 [00:26<04:02,  4.69it/s]"
     ]
    },
    {
     "name": "stdout",
     "output_type": "stream",
     "text": [
      "571.221648136 m 1547.77331542 m\n",
      "(4, 2)\n",
      "(720, 1280)\n",
      "(720, 1280, 3)\n"
     ]
    },
    {
     "name": "stderr",
     "output_type": "stream",
     "text": [
      "\r",
      " 10%|███▊                                   | 123/1261 [00:26<03:59,  4.75it/s]"
     ]
    },
    {
     "name": "stdout",
     "output_type": "stream",
     "text": [
      "542.632252935 m 1358.72665975 m\n",
      "(4, 2)\n",
      "(720, 1280)\n",
      "(720, 1280, 3)\n"
     ]
    },
    {
     "name": "stderr",
     "output_type": "stream",
     "text": [
      "\r",
      " 10%|███▊                                   | 124/1261 [00:27<03:58,  4.76it/s]"
     ]
    },
    {
     "name": "stdout",
     "output_type": "stream",
     "text": [
      "522.030588697 m 1217.01318984 m\n",
      "(4, 2)\n",
      "(720, 1280)\n",
      "(720, 1280, 3)\n"
     ]
    },
    {
     "name": "stderr",
     "output_type": "stream",
     "text": [
      "\r",
      " 10%|███▊                                   | 125/1261 [00:27<03:58,  4.77it/s]"
     ]
    },
    {
     "name": "stdout",
     "output_type": "stream",
     "text": [
      "562.174172735 m 41894.4565674 m\n",
      "(4, 2)\n",
      "(720, 1280)\n",
      "(720, 1280, 3)\n"
     ]
    },
    {
     "name": "stderr",
     "output_type": "stream",
     "text": [
      "\r",
      " 10%|███▉                                   | 126/1261 [00:27<03:57,  4.79it/s]"
     ]
    },
    {
     "name": "stdout",
     "output_type": "stream",
     "text": [
      "543.68479705 m 1293.19767023 m\n",
      "(4, 2)\n",
      "(720, 1280)\n",
      "(720, 1280, 3)\n"
     ]
    },
    {
     "name": "stderr",
     "output_type": "stream",
     "text": [
      "\r",
      " 10%|███▉                                   | 127/1261 [00:27<03:55,  4.81it/s]"
     ]
    },
    {
     "name": "stdout",
     "output_type": "stream",
     "text": [
      "556.353789154 m 647.287154351 m\n",
      "(4, 2)\n",
      "(720, 1280)\n",
      "(720, 1280, 3)\n"
     ]
    },
    {
     "name": "stderr",
     "output_type": "stream",
     "text": [
      "\r",
      " 10%|███▉                                   | 128/1261 [00:27<03:54,  4.84it/s]"
     ]
    },
    {
     "name": "stdout",
     "output_type": "stream",
     "text": [
      "552.970858131 m 514.618015413 m\n",
      "(4, 2)\n",
      "(720, 1280)\n",
      "(720, 1280, 3)\n"
     ]
    },
    {
     "name": "stderr",
     "output_type": "stream",
     "text": [
      "\r",
      " 10%|███▉                                   | 129/1261 [00:28<03:53,  4.85it/s]"
     ]
    },
    {
     "name": "stdout",
     "output_type": "stream",
     "text": [
      "539.839557476 m 588.428567103 m\n",
      "(4, 2)\n",
      "(720, 1280)\n",
      "(720, 1280, 3)\n"
     ]
    },
    {
     "name": "stderr",
     "output_type": "stream",
     "text": [
      "\r",
      " 10%|████                                   | 130/1261 [00:28<03:53,  4.84it/s]"
     ]
    },
    {
     "name": "stdout",
     "output_type": "stream",
     "text": [
      "588.118461757 m 674.830978931 m\n",
      "(4, 2)\n",
      "(720, 1280)\n",
      "(720, 1280, 3)\n"
     ]
    },
    {
     "name": "stderr",
     "output_type": "stream",
     "text": [
      "\r",
      " 10%|████                                   | 131/1261 [00:28<03:56,  4.78it/s]"
     ]
    },
    {
     "name": "stdout",
     "output_type": "stream",
     "text": [
      "631.149490366 m 868.454730257 m\n",
      "(4, 2)\n",
      "(720, 1280)\n",
      "(720, 1280, 3)\n"
     ]
    },
    {
     "name": "stderr",
     "output_type": "stream",
     "text": [
      "\r",
      " 10%|████                                   | 132/1261 [00:28<03:59,  4.71it/s]"
     ]
    },
    {
     "name": "stdout",
     "output_type": "stream",
     "text": [
      "651.919255134 m 993.290070496 m\n",
      "(4, 2)\n",
      "(720, 1280)\n",
      "(720, 1280, 3)\n"
     ]
    },
    {
     "name": "stderr",
     "output_type": "stream",
     "text": [
      "\r",
      " 11%|████                                   | 133/1261 [00:28<04:03,  4.64it/s]"
     ]
    },
    {
     "name": "stdout",
     "output_type": "stream",
     "text": [
      "732.278551014 m 10482.1894397 m\n",
      "(4, 2)\n",
      "(720, 1280)\n",
      "(720, 1280, 3)\n"
     ]
    },
    {
     "name": "stderr",
     "output_type": "stream",
     "text": [
      "\r",
      " 11%|████▏                                  | 134/1261 [00:29<04:09,  4.51it/s]"
     ]
    },
    {
     "name": "stdout",
     "output_type": "stream",
     "text": [
      "799.69622859 m 14540.5998359 m\n",
      "(4, 2)\n",
      "(720, 1280)\n",
      "(720, 1280, 3)\n"
     ]
    },
    {
     "name": "stderr",
     "output_type": "stream",
     "text": [
      "\r",
      " 11%|████▏                                  | 135/1261 [00:29<04:12,  4.47it/s]"
     ]
    },
    {
     "name": "stdout",
     "output_type": "stream",
     "text": [
      "879.368875319 m 2489.17324073 m\n",
      "(4, 2)\n",
      "(720, 1280)\n",
      "(720, 1280, 3)\n"
     ]
    },
    {
     "name": "stderr",
     "output_type": "stream",
     "text": [
      "\r",
      " 11%|████▏                                  | 136/1261 [00:29<04:22,  4.28it/s]"
     ]
    },
    {
     "name": "stdout",
     "output_type": "stream",
     "text": [
      "847.177533624 m 2801.24680637 m\n",
      "(4, 2)\n",
      "(720, 1280)\n",
      "(720, 1280, 3)\n"
     ]
    },
    {
     "name": "stderr",
     "output_type": "stream",
     "text": [
      "\r",
      " 11%|████▏                                  | 137/1261 [00:29<04:26,  4.22it/s]"
     ]
    },
    {
     "name": "stdout",
     "output_type": "stream",
     "text": [
      "868.037984792 m 13678.9858026 m\n",
      "(4, 2)\n",
      "(720, 1280)\n",
      "(720, 1280, 3)\n"
     ]
    },
    {
     "name": "stderr",
     "output_type": "stream",
     "text": [
      "\r",
      " 11%|████▎                                  | 138/1261 [00:30<04:32,  4.12it/s]"
     ]
    },
    {
     "name": "stdout",
     "output_type": "stream",
     "text": [
      "840.713019958 m 37334.2290047 m\n",
      "(4, 2)\n",
      "(720, 1280)\n",
      "(720, 1280, 3)\n"
     ]
    },
    {
     "name": "stderr",
     "output_type": "stream",
     "text": [
      "\r",
      " 11%|████▎                                  | 139/1261 [00:30<04:32,  4.11it/s]"
     ]
    },
    {
     "name": "stdout",
     "output_type": "stream",
     "text": [
      "1003.48409181 m 8435.46289034 m\n",
      "(4, 2)\n",
      "(720, 1280)\n",
      "(720, 1280, 3)\n"
     ]
    },
    {
     "name": "stderr",
     "output_type": "stream",
     "text": [
      "\r",
      " 11%|████▎                                  | 140/1261 [00:30<04:26,  4.20it/s]"
     ]
    },
    {
     "name": "stdout",
     "output_type": "stream",
     "text": [
      "901.329978824 m 756.238764678 m\n",
      "(4, 2)\n",
      "(720, 1280)\n",
      "(720, 1280, 3)\n"
     ]
    },
    {
     "name": "stderr",
     "output_type": "stream",
     "text": [
      "\r",
      " 11%|████▎                                  | 141/1261 [00:30<04:20,  4.29it/s]"
     ]
    },
    {
     "name": "stdout",
     "output_type": "stream",
     "text": [
      "904.784167225 m 624.735875765 m\n",
      "(4, 2)\n",
      "(720, 1280)\n",
      "(720, 1280, 3)\n"
     ]
    },
    {
     "name": "stderr",
     "output_type": "stream",
     "text": [
      "\r",
      " 11%|████▍                                  | 142/1261 [00:31<04:12,  4.43it/s]"
     ]
    },
    {
     "name": "stdout",
     "output_type": "stream",
     "text": [
      "757.172445247 m 814.185274587 m\n",
      "(4, 2)\n",
      "(720, 1280)\n",
      "(720, 1280, 3)\n"
     ]
    },
    {
     "name": "stderr",
     "output_type": "stream",
     "text": [
      "\r",
      " 11%|████▍                                  | 143/1261 [00:31<04:06,  4.54it/s]"
     ]
    },
    {
     "name": "stdout",
     "output_type": "stream",
     "text": [
      "735.050365788 m 977.874848759 m\n",
      "(4, 2)\n",
      "(720, 1280)\n",
      "(720, 1280, 3)\n"
     ]
    },
    {
     "name": "stderr",
     "output_type": "stream",
     "text": [
      "\r",
      " 11%|████▍                                  | 144/1261 [00:31<04:01,  4.63it/s]"
     ]
    },
    {
     "name": "stdout",
     "output_type": "stream",
     "text": [
      "721.801366694 m 1289.33840615 m\n",
      "(4, 2)\n",
      "(720, 1280)\n",
      "(720, 1280, 3)\n"
     ]
    },
    {
     "name": "stderr",
     "output_type": "stream",
     "text": [
      "\r",
      " 11%|████▍                                  | 145/1261 [00:31<04:01,  4.63it/s]"
     ]
    },
    {
     "name": "stdout",
     "output_type": "stream",
     "text": [
      "754.732798071 m 3431.68091652 m\n",
      "(4, 2)\n",
      "(720, 1280)\n",
      "(720, 1280, 3)\n"
     ]
    },
    {
     "name": "stderr",
     "output_type": "stream",
     "text": [
      "\r",
      " 12%|████▌                                  | 146/1261 [00:31<04:00,  4.63it/s]"
     ]
    },
    {
     "name": "stdout",
     "output_type": "stream",
     "text": [
      "798.464478169 m 76889.4400409 m\n",
      "(4, 2)\n",
      "(720, 1280)\n",
      "(720, 1280, 3)\n"
     ]
    },
    {
     "name": "stderr",
     "output_type": "stream",
     "text": [
      "\r",
      " 12%|████▌                                  | 147/1261 [00:32<04:01,  4.62it/s]"
     ]
    },
    {
     "name": "stdout",
     "output_type": "stream",
     "text": [
      "790.777587588 m 13829.7921611 m\n",
      "(4, 2)\n",
      "(720, 1280)\n",
      "(720, 1280, 3)\n"
     ]
    },
    {
     "name": "stderr",
     "output_type": "stream",
     "text": [
      "\r",
      " 12%|████▌                                  | 148/1261 [00:32<03:59,  4.65it/s]"
     ]
    },
    {
     "name": "stdout",
     "output_type": "stream",
     "text": [
      "837.028994758 m 22702.4395084 m\n",
      "(4, 2)\n",
      "(720, 1280)\n",
      "(720, 1280, 3)\n"
     ]
    },
    {
     "name": "stderr",
     "output_type": "stream",
     "text": [
      "\r",
      " 12%|████▌                                  | 149/1261 [00:32<04:01,  4.61it/s]"
     ]
    },
    {
     "name": "stdout",
     "output_type": "stream",
     "text": [
      "873.749867196 m 43369.150882 m\n",
      "(4, 2)\n",
      "(720, 1280)\n",
      "(720, 1280, 3)\n"
     ]
    },
    {
     "name": "stderr",
     "output_type": "stream",
     "text": [
      "\r",
      " 12%|████▋                                  | 150/1261 [00:32<03:55,  4.71it/s]"
     ]
    },
    {
     "name": "stdout",
     "output_type": "stream",
     "text": [
      "968.737681875 m 2813.28112451 m\n",
      "(4, 2)\n",
      "(720, 1280)\n",
      "(720, 1280, 3)\n"
     ]
    },
    {
     "name": "stderr",
     "output_type": "stream",
     "text": [
      "\r",
      " 12%|████▋                                  | 151/1261 [00:32<04:03,  4.56it/s]"
     ]
    },
    {
     "name": "stdout",
     "output_type": "stream",
     "text": [
      "1115.57607425 m 906.662018722 m\n",
      "(4, 2)\n",
      "(720, 1280)\n",
      "(720, 1280, 3)\n"
     ]
    },
    {
     "name": "stderr",
     "output_type": "stream",
     "text": [
      "\r",
      " 12%|████▋                                  | 152/1261 [00:33<04:02,  4.58it/s]"
     ]
    },
    {
     "name": "stdout",
     "output_type": "stream",
     "text": [
      "1109.83574923 m 573.917003018 m\n",
      "(4, 2)\n",
      "(720, 1280)\n",
      "(720, 1280, 3)\n"
     ]
    },
    {
     "name": "stderr",
     "output_type": "stream",
     "text": [
      "\r",
      " 12%|████▋                                  | 153/1261 [00:33<04:02,  4.56it/s]"
     ]
    },
    {
     "name": "stdout",
     "output_type": "stream",
     "text": [
      "1202.23726872 m 514.59313821 m\n",
      "(4, 2)\n",
      "(720, 1280)\n",
      "(720, 1280, 3)\n"
     ]
    },
    {
     "name": "stderr",
     "output_type": "stream",
     "text": [
      "\r",
      " 12%|████▊                                  | 154/1261 [00:33<03:59,  4.63it/s]"
     ]
    },
    {
     "name": "stdout",
     "output_type": "stream",
     "text": [
      "1156.69615364 m 576.586878827 m\n",
      "(4, 2)\n",
      "(720, 1280)\n",
      "(720, 1280, 3)\n"
     ]
    },
    {
     "name": "stderr",
     "output_type": "stream",
     "text": [
      "\r",
      " 12%|████▊                                  | 155/1261 [00:33<03:58,  4.63it/s]"
     ]
    },
    {
     "name": "stdout",
     "output_type": "stream",
     "text": [
      "1151.64707471 m 741.961445204 m\n",
      "(4, 2)\n",
      "(720, 1280)\n",
      "(720, 1280, 3)\n"
     ]
    },
    {
     "name": "stderr",
     "output_type": "stream",
     "text": [
      "\r",
      " 12%|████▊                                  | 156/1261 [00:34<03:57,  4.65it/s]"
     ]
    },
    {
     "name": "stdout",
     "output_type": "stream",
     "text": [
      "1107.11921406 m 825.654083483 m\n",
      "(4, 2)\n",
      "(720, 1280)\n",
      "(720, 1280, 3)\n"
     ]
    },
    {
     "name": "stderr",
     "output_type": "stream",
     "text": [
      "\r",
      " 12%|████▊                                  | 157/1261 [00:34<03:57,  4.65it/s]"
     ]
    },
    {
     "name": "stdout",
     "output_type": "stream",
     "text": [
      "839.054587856 m 1339.12917894 m\n",
      "(4, 2)\n",
      "(720, 1280)\n",
      "(720, 1280, 3)\n"
     ]
    },
    {
     "name": "stderr",
     "output_type": "stream",
     "text": [
      "\r",
      " 13%|████▉                                  | 158/1261 [00:34<04:00,  4.59it/s]"
     ]
    },
    {
     "name": "stdout",
     "output_type": "stream",
     "text": [
      "858.408067749 m 6979.64430254 m\n",
      "(4, 2)\n",
      "(720, 1280)\n",
      "(720, 1280, 3)\n"
     ]
    },
    {
     "name": "stderr",
     "output_type": "stream",
     "text": [
      "\r",
      " 13%|████▉                                  | 159/1261 [00:34<04:00,  4.59it/s]"
     ]
    },
    {
     "name": "stdout",
     "output_type": "stream",
     "text": [
      "714.332592621 m 93937.2190062 m\n",
      "(4, 2)\n",
      "(720, 1280)\n",
      "(720, 1280, 3)\n"
     ]
    },
    {
     "name": "stderr",
     "output_type": "stream",
     "text": [
      "\r",
      " 13%|████▉                                  | 160/1261 [00:34<04:00,  4.57it/s]"
     ]
    },
    {
     "name": "stdout",
     "output_type": "stream",
     "text": [
      "793.277992646 m 9075.21946389 m\n",
      "(4, 2)\n",
      "(720, 1280)\n",
      "(720, 1280, 3)\n"
     ]
    },
    {
     "name": "stderr",
     "output_type": "stream",
     "text": [
      "\r",
      " 13%|████▉                                  | 161/1261 [00:35<04:00,  4.57it/s]"
     ]
    },
    {
     "name": "stdout",
     "output_type": "stream",
     "text": [
      "756.430941625 m 5867.97806936 m\n",
      "(4, 2)\n",
      "(720, 1280)\n",
      "(720, 1280, 3)\n"
     ]
    },
    {
     "name": "stderr",
     "output_type": "stream",
     "text": [
      "\r",
      " 13%|█████                                  | 162/1261 [00:35<03:57,  4.63it/s]"
     ]
    },
    {
     "name": "stdout",
     "output_type": "stream",
     "text": [
      "804.484415547 m 4083.52599468 m\n",
      "(4, 2)\n",
      "(720, 1280)\n",
      "(720, 1280, 3)\n"
     ]
    },
    {
     "name": "stderr",
     "output_type": "stream",
     "text": [
      "\r",
      " 13%|█████                                  | 163/1261 [00:35<03:57,  4.63it/s]"
     ]
    },
    {
     "name": "stdout",
     "output_type": "stream",
     "text": [
      "699.051303786 m 8969.70539824 m\n",
      "(4, 2)\n",
      "(720, 1280)\n",
      "(720, 1280, 3)\n"
     ]
    },
    {
     "name": "stderr",
     "output_type": "stream",
     "text": [
      "\r",
      " 13%|█████                                  | 164/1261 [00:35<03:57,  4.62it/s]"
     ]
    },
    {
     "name": "stdout",
     "output_type": "stream",
     "text": [
      "717.166062101 m 748.231259423 m\n",
      "(4, 2)\n",
      "(720, 1280)\n",
      "(720, 1280, 3)\n"
     ]
    },
    {
     "name": "stderr",
     "output_type": "stream",
     "text": [
      "\r",
      " 13%|█████                                  | 165/1261 [00:36<03:55,  4.65it/s]"
     ]
    },
    {
     "name": "stdout",
     "output_type": "stream",
     "text": [
      "690.381771818 m 624.485653221 m\n",
      "(4, 2)\n",
      "(720, 1280)\n",
      "(720, 1280, 3)\n"
     ]
    },
    {
     "name": "stderr",
     "output_type": "stream",
     "text": [
      "\r",
      " 13%|█████▏                                 | 166/1261 [00:36<03:54,  4.66it/s]"
     ]
    },
    {
     "name": "stdout",
     "output_type": "stream",
     "text": [
      "668.852422028 m 801.453169014 m\n",
      "(4, 2)\n",
      "(720, 1280)\n",
      "(720, 1280, 3)\n"
     ]
    },
    {
     "name": "stderr",
     "output_type": "stream",
     "text": [
      "\r",
      " 13%|█████▏                                 | 167/1261 [00:36<03:57,  4.60it/s]"
     ]
    },
    {
     "name": "stdout",
     "output_type": "stream",
     "text": [
      "701.179284136 m 814.613501773 m\n",
      "(4, 2)\n",
      "(720, 1280)\n",
      "(720, 1280, 3)\n"
     ]
    },
    {
     "name": "stderr",
     "output_type": "stream",
     "text": [
      "\r",
      " 13%|█████▏                                 | 168/1261 [00:36<03:59,  4.56it/s]"
     ]
    },
    {
     "name": "stdout",
     "output_type": "stream",
     "text": [
      "771.402361416 m 893.152914937 m\n",
      "(4, 2)\n",
      "(720, 1280)\n",
      "(720, 1280, 3)\n"
     ]
    },
    {
     "name": "stderr",
     "output_type": "stream",
     "text": [
      "\r",
      " 13%|█████▏                                 | 169/1261 [00:36<03:56,  4.63it/s]"
     ]
    },
    {
     "name": "stdout",
     "output_type": "stream",
     "text": [
      "837.764701359 m 983.760546106 m\n",
      "(4, 2)\n",
      "(720, 1280)\n",
      "(720, 1280, 3)\n"
     ]
    },
    {
     "name": "stderr",
     "output_type": "stream",
     "text": [
      "\r",
      " 13%|█████▎                                 | 170/1261 [00:37<03:54,  4.65it/s]"
     ]
    },
    {
     "name": "stdout",
     "output_type": "stream",
     "text": [
      "837.157647098 m 1290.55133383 m\n",
      "(4, 2)\n",
      "(720, 1280)\n",
      "(720, 1280, 3)\n"
     ]
    },
    {
     "name": "stderr",
     "output_type": "stream",
     "text": [
      "\r",
      " 14%|█████▎                                 | 171/1261 [00:37<03:53,  4.68it/s]"
     ]
    },
    {
     "name": "stdout",
     "output_type": "stream",
     "text": [
      "784.290462448 m 1854.64027831 m\n",
      "(4, 2)\n",
      "(720, 1280)\n",
      "(720, 1280, 3)\n"
     ]
    },
    {
     "name": "stderr",
     "output_type": "stream",
     "text": [
      "\r",
      " 14%|█████▎                                 | 172/1261 [00:37<03:55,  4.62it/s]"
     ]
    },
    {
     "name": "stdout",
     "output_type": "stream",
     "text": [
      "968.797328742 m 1438.09263499 m\n",
      "(4, 2)\n",
      "(720, 1280)\n",
      "(720, 1280, 3)\n"
     ]
    },
    {
     "name": "stderr",
     "output_type": "stream",
     "text": [
      "\r",
      " 14%|█████▎                                 | 173/1261 [00:37<03:54,  4.64it/s]"
     ]
    },
    {
     "name": "stdout",
     "output_type": "stream",
     "text": [
      "988.392544901 m 926.748476566 m\n",
      "(4, 2)\n",
      "(720, 1280)\n",
      "(720, 1280, 3)\n"
     ]
    },
    {
     "name": "stderr",
     "output_type": "stream",
     "text": [
      "\r",
      " 14%|█████▍                                 | 174/1261 [00:37<03:53,  4.66it/s]"
     ]
    },
    {
     "name": "stdout",
     "output_type": "stream",
     "text": [
      "1313.72666279 m 922.978258558 m\n",
      "(4, 2)\n",
      "(720, 1280)\n",
      "(720, 1280, 3)\n"
     ]
    },
    {
     "name": "stderr",
     "output_type": "stream",
     "text": [
      "\r",
      " 14%|█████▍                                 | 175/1261 [00:38<03:50,  4.71it/s]"
     ]
    },
    {
     "name": "stdout",
     "output_type": "stream",
     "text": [
      "1478.87888955 m 2020.49726235 m\n",
      "(4, 2)\n",
      "(720, 1280)\n",
      "(720, 1280, 3)\n"
     ]
    },
    {
     "name": "stderr",
     "output_type": "stream",
     "text": [
      "\r",
      " 14%|█████▍                                 | 176/1261 [00:38<03:51,  4.69it/s]"
     ]
    },
    {
     "name": "stdout",
     "output_type": "stream",
     "text": [
      "1271.92705358 m 921.249870897 m\n",
      "(4, 2)\n",
      "(720, 1280)\n",
      "(720, 1280, 3)\n"
     ]
    },
    {
     "name": "stderr",
     "output_type": "stream",
     "text": [
      "\r",
      " 14%|█████▍                                 | 177/1261 [00:38<03:50,  4.69it/s]"
     ]
    },
    {
     "name": "stdout",
     "output_type": "stream",
     "text": [
      "1697.70506519 m 786.628645423 m\n",
      "(4, 2)\n",
      "(720, 1280)\n",
      "(720, 1280, 3)\n"
     ]
    },
    {
     "name": "stderr",
     "output_type": "stream",
     "text": [
      "\r",
      " 14%|█████▌                                 | 178/1261 [00:38<03:52,  4.65it/s]"
     ]
    },
    {
     "name": "stdout",
     "output_type": "stream",
     "text": [
      "1520.53540049 m 358.538418264 m\n",
      "(4, 2)\n",
      "(720, 1280)\n",
      "(720, 1280, 3)\n"
     ]
    },
    {
     "name": "stderr",
     "output_type": "stream",
     "text": [
      "\r",
      " 14%|█████▌                                 | 179/1261 [00:39<03:51,  4.68it/s]"
     ]
    },
    {
     "name": "stdout",
     "output_type": "stream",
     "text": [
      "1529.54828274 m 397.70634874 m\n",
      "(4, 2)\n",
      "(720, 1280)\n",
      "(720, 1280, 3)\n"
     ]
    },
    {
     "name": "stderr",
     "output_type": "stream",
     "text": [
      "\r",
      " 14%|█████▌                                 | 180/1261 [00:39<03:51,  4.68it/s]"
     ]
    },
    {
     "name": "stdout",
     "output_type": "stream",
     "text": [
      "1030.52920526 m 430.406633915 m\n",
      "(4, 2)\n",
      "(720, 1280)\n",
      "(720, 1280, 3)\n"
     ]
    },
    {
     "name": "stderr",
     "output_type": "stream",
     "text": [
      "\r",
      " 14%|█████▌                                 | 181/1261 [00:39<03:51,  4.66it/s]"
     ]
    },
    {
     "name": "stdout",
     "output_type": "stream",
     "text": [
      "888.915531979 m 489.324654094 m\n",
      "(4, 2)\n",
      "(720, 1280)\n",
      "(720, 1280, 3)\n"
     ]
    },
    {
     "name": "stderr",
     "output_type": "stream",
     "text": [
      "\r",
      " 14%|█████▋                                 | 182/1261 [00:39<03:53,  4.62it/s]"
     ]
    },
    {
     "name": "stdout",
     "output_type": "stream",
     "text": [
      "824.518415638 m 633.287582674 m\n",
      "(4, 2)\n",
      "(720, 1280)\n",
      "(720, 1280, 3)\n"
     ]
    },
    {
     "name": "stderr",
     "output_type": "stream",
     "text": [
      "\r",
      " 15%|█████▋                                 | 183/1261 [00:39<03:54,  4.60it/s]"
     ]
    },
    {
     "name": "stdout",
     "output_type": "stream",
     "text": [
      "682.604946197 m 1362.87625231 m\n",
      "(4, 2)\n",
      "(720, 1280)\n",
      "(720, 1280, 3)\n"
     ]
    },
    {
     "name": "stderr",
     "output_type": "stream",
     "text": [
      "\r",
      " 15%|█████▋                                 | 184/1261 [00:40<03:50,  4.68it/s]"
     ]
    },
    {
     "name": "stdout",
     "output_type": "stream",
     "text": [
      "591.627662294 m 1415.53766425 m\n",
      "(4, 2)\n",
      "(720, 1280)\n",
      "(720, 1280, 3)\n"
     ]
    },
    {
     "name": "stderr",
     "output_type": "stream",
     "text": [
      "\r",
      " 15%|█████▋                                 | 185/1261 [00:40<03:52,  4.63it/s]"
     ]
    },
    {
     "name": "stdout",
     "output_type": "stream",
     "text": [
      "512.459094231 m 940.79348281 m\n",
      "(4, 2)\n",
      "(720, 1280)\n",
      "(720, 1280, 3)\n"
     ]
    },
    {
     "name": "stderr",
     "output_type": "stream",
     "text": [
      "\r",
      " 15%|█████▊                                 | 186/1261 [00:40<03:54,  4.58it/s]"
     ]
    },
    {
     "name": "stdout",
     "output_type": "stream",
     "text": [
      "480.507587218 m 1040.09128115 m\n",
      "(4, 2)\n",
      "(720, 1280)\n",
      "(720, 1280, 3)\n"
     ]
    },
    {
     "name": "stderr",
     "output_type": "stream",
     "text": [
      "\r",
      " 15%|█████▊                                 | 187/1261 [00:40<03:53,  4.60it/s]"
     ]
    },
    {
     "name": "stdout",
     "output_type": "stream",
     "text": [
      "443.266096986 m 1552.34830432 m\n",
      "(4, 2)\n",
      "(720, 1280)\n",
      "(720, 1280, 3)\n"
     ]
    },
    {
     "name": "stderr",
     "output_type": "stream",
     "text": [
      "\r",
      " 15%|█████▊                                 | 188/1261 [00:40<03:52,  4.61it/s]"
     ]
    },
    {
     "name": "stdout",
     "output_type": "stream",
     "text": [
      "450.371109365 m 446.867516802 m\n",
      "(4, 2)\n",
      "(720, 1280)\n",
      "(720, 1280, 3)\n"
     ]
    },
    {
     "name": "stderr",
     "output_type": "stream",
     "text": [
      "\r",
      " 15%|█████▊                                 | 189/1261 [00:41<03:48,  4.70it/s]"
     ]
    },
    {
     "name": "stdout",
     "output_type": "stream",
     "text": [
      "471.877877587 m 534.778854159 m\n",
      "(4, 2)\n",
      "(720, 1280)\n",
      "(720, 1280, 3)\n"
     ]
    },
    {
     "name": "stderr",
     "output_type": "stream",
     "text": [
      "\r",
      " 15%|█████▉                                 | 190/1261 [00:41<03:44,  4.76it/s]"
     ]
    },
    {
     "name": "stdout",
     "output_type": "stream",
     "text": [
      "468.106486182 m 656.557059251 m\n",
      "(4, 2)\n",
      "(720, 1280)\n",
      "(720, 1280, 3)\n"
     ]
    },
    {
     "name": "stderr",
     "output_type": "stream",
     "text": [
      "\r",
      " 15%|█████▉                                 | 191/1261 [00:41<03:47,  4.71it/s]"
     ]
    },
    {
     "name": "stdout",
     "output_type": "stream",
     "text": [
      "471.046955697 m 718.725178313 m\n",
      "(4, 2)\n",
      "(720, 1280)\n",
      "(720, 1280, 3)\n"
     ]
    },
    {
     "name": "stderr",
     "output_type": "stream",
     "text": [
      "\r",
      " 15%|█████▉                                 | 192/1261 [00:41<03:44,  4.75it/s]"
     ]
    },
    {
     "name": "stdout",
     "output_type": "stream",
     "text": [
      "513.307803675 m 859.318097143 m\n",
      "(4, 2)\n",
      "(720, 1280)\n",
      "(720, 1280, 3)\n"
     ]
    },
    {
     "name": "stderr",
     "output_type": "stream",
     "text": [
      "\r",
      " 15%|█████▉                                 | 193/1261 [00:42<03:45,  4.73it/s]"
     ]
    },
    {
     "name": "stdout",
     "output_type": "stream",
     "text": [
      "552.85588316 m 847.899614425 m\n",
      "(4, 2)\n",
      "(720, 1280)\n",
      "(720, 1280, 3)\n"
     ]
    },
    {
     "name": "stderr",
     "output_type": "stream",
     "text": [
      "\r",
      " 15%|██████                                 | 194/1261 [00:42<03:44,  4.76it/s]"
     ]
    },
    {
     "name": "stdout",
     "output_type": "stream",
     "text": [
      "540.893503281 m 1025.18793997 m\n",
      "(4, 2)\n",
      "(720, 1280)\n",
      "(720, 1280, 3)\n"
     ]
    },
    {
     "name": "stderr",
     "output_type": "stream",
     "text": [
      "\r",
      " 15%|██████                                 | 195/1261 [00:42<03:46,  4.71it/s]"
     ]
    },
    {
     "name": "stdout",
     "output_type": "stream",
     "text": [
      "620.990497652 m 8657.26877838 m\n",
      "(4, 2)\n",
      "(720, 1280)\n",
      "(720, 1280, 3)\n"
     ]
    },
    {
     "name": "stderr",
     "output_type": "stream",
     "text": [
      "\r",
      " 16%|██████                                 | 196/1261 [00:42<03:43,  4.77it/s]"
     ]
    },
    {
     "name": "stdout",
     "output_type": "stream",
     "text": [
      "674.74882443 m 41443.7871283 m\n",
      "(4, 2)\n",
      "(720, 1280)\n",
      "(720, 1280, 3)\n"
     ]
    },
    {
     "name": "stderr",
     "output_type": "stream",
     "text": [
      "\r",
      " 16%|██████                                 | 197/1261 [00:42<03:43,  4.77it/s]"
     ]
    },
    {
     "name": "stdout",
     "output_type": "stream",
     "text": [
      "746.299883865 m 25415.5796333 m\n",
      "(4, 2)\n",
      "(720, 1280)\n",
      "(720, 1280, 3)\n"
     ]
    },
    {
     "name": "stderr",
     "output_type": "stream",
     "text": [
      "\r",
      " 16%|██████                                 | 198/1261 [00:43<03:44,  4.75it/s]"
     ]
    },
    {
     "name": "stdout",
     "output_type": "stream",
     "text": [
      "818.223184939 m 5372.91664152 m\n",
      "(4, 2)\n",
      "(720, 1280)\n",
      "(720, 1280, 3)\n"
     ]
    },
    {
     "name": "stderr",
     "output_type": "stream",
     "text": [
      "\r",
      " 16%|██████▏                                | 199/1261 [00:43<03:43,  4.76it/s]"
     ]
    },
    {
     "name": "stdout",
     "output_type": "stream",
     "text": [
      "866.21057961 m 4100.52096374 m\n",
      "(4, 2)\n",
      "(720, 1280)\n",
      "(720, 1280, 3)\n"
     ]
    },
    {
     "name": "stderr",
     "output_type": "stream",
     "text": [
      "\r",
      " 16%|██████▏                                | 200/1261 [00:43<03:42,  4.78it/s]"
     ]
    },
    {
     "name": "stdout",
     "output_type": "stream",
     "text": [
      "864.177568091 m 8795.87220126 m\n",
      "(4, 2)\n",
      "(720, 1280)\n",
      "(720, 1280, 3)\n"
     ]
    },
    {
     "name": "stderr",
     "output_type": "stream",
     "text": [
      "\r",
      " 16%|██████▏                                | 201/1261 [00:43<03:44,  4.73it/s]"
     ]
    },
    {
     "name": "stdout",
     "output_type": "stream",
     "text": [
      "905.592750993 m 1060.10124539 m\n",
      "(4, 2)\n",
      "(720, 1280)\n",
      "(720, 1280, 3)\n"
     ]
    },
    {
     "name": "stderr",
     "output_type": "stream",
     "text": [
      "\r",
      " 16%|██████▏                                | 202/1261 [00:43<03:45,  4.70it/s]"
     ]
    },
    {
     "name": "stdout",
     "output_type": "stream",
     "text": [
      "840.688030558 m 5264.4569141 m\n",
      "(4, 2)\n",
      "(720, 1280)\n",
      "(720, 1280, 3)\n"
     ]
    },
    {
     "name": "stderr",
     "output_type": "stream",
     "text": [
      "\r",
      " 16%|██████▎                                | 203/1261 [00:44<03:45,  4.69it/s]"
     ]
    },
    {
     "name": "stdout",
     "output_type": "stream",
     "text": [
      "818.166796529 m 548.016011641 m\n",
      "(4, 2)\n",
      "(720, 1280)\n",
      "(720, 1280, 3)\n"
     ]
    },
    {
     "name": "stderr",
     "output_type": "stream",
     "text": [
      "\r",
      " 16%|██████▎                                | 204/1261 [00:44<03:46,  4.67it/s]"
     ]
    },
    {
     "name": "stdout",
     "output_type": "stream",
     "text": [
      "846.946385014 m 588.446506394 m\n",
      "(4, 2)\n",
      "(720, 1280)\n",
      "(720, 1280, 3)\n"
     ]
    },
    {
     "name": "stderr",
     "output_type": "stream",
     "text": [
      "\r",
      " 16%|██████▎                                | 205/1261 [00:44<03:45,  4.69it/s]"
     ]
    },
    {
     "name": "stdout",
     "output_type": "stream",
     "text": [
      "911.591873488 m 667.558177434 m\n",
      "(4, 2)\n",
      "(720, 1280)\n",
      "(720, 1280, 3)\n"
     ]
    },
    {
     "name": "stderr",
     "output_type": "stream",
     "text": [
      "\r",
      " 16%|██████▎                                | 206/1261 [00:44<03:43,  4.73it/s]"
     ]
    },
    {
     "name": "stdout",
     "output_type": "stream",
     "text": [
      "808.243124423 m 818.924609515 m\n",
      "(4, 2)\n",
      "(720, 1280)\n",
      "(720, 1280, 3)\n"
     ]
    },
    {
     "name": "stderr",
     "output_type": "stream",
     "text": [
      "\r",
      " 16%|██████▍                                | 207/1261 [00:44<03:44,  4.69it/s]"
     ]
    },
    {
     "name": "stdout",
     "output_type": "stream",
     "text": [
      "752.345583085 m 2651.6525924 m\n",
      "(4, 2)\n",
      "(720, 1280)\n",
      "(720, 1280, 3)\n"
     ]
    },
    {
     "name": "stderr",
     "output_type": "stream",
     "text": [
      "\r",
      " 16%|██████▍                                | 208/1261 [00:45<03:42,  4.74it/s]"
     ]
    },
    {
     "name": "stdout",
     "output_type": "stream",
     "text": [
      "708.819205379 m 5456.52512929 m\n",
      "(4, 2)\n",
      "(720, 1280)\n",
      "(720, 1280, 3)\n"
     ]
    },
    {
     "name": "stderr",
     "output_type": "stream",
     "text": [
      "\r",
      " 17%|██████▍                                | 209/1261 [00:45<03:42,  4.74it/s]"
     ]
    },
    {
     "name": "stdout",
     "output_type": "stream",
     "text": [
      "750.426039325 m 2604.6641083 m\n",
      "(4, 2)\n",
      "(720, 1280)\n",
      "(720, 1280, 3)\n"
     ]
    },
    {
     "name": "stderr",
     "output_type": "stream",
     "text": [
      "\r",
      " 17%|██████▍                                | 210/1261 [00:45<03:40,  4.76it/s]"
     ]
    },
    {
     "name": "stdout",
     "output_type": "stream",
     "text": [
      "778.347505725 m 2138.10816143 m\n",
      "(4, 2)\n",
      "(720, 1280)\n",
      "(720, 1280, 3)\n"
     ]
    },
    {
     "name": "stderr",
     "output_type": "stream",
     "text": [
      "\r",
      " 17%|██████▌                                | 211/1261 [00:45<03:41,  4.74it/s]"
     ]
    },
    {
     "name": "stdout",
     "output_type": "stream",
     "text": [
      "697.143717271 m 1594.66512777 m\n",
      "(4, 2)\n",
      "(720, 1280)\n",
      "(720, 1280, 3)\n"
     ]
    },
    {
     "name": "stderr",
     "output_type": "stream",
     "text": [
      "\r",
      " 17%|██████▌                                | 212/1261 [00:46<03:41,  4.74it/s]"
     ]
    },
    {
     "name": "stdout",
     "output_type": "stream",
     "text": [
      "656.274557211 m 4153.87391419 m\n",
      "(4, 2)\n",
      "(720, 1280)\n",
      "(720, 1280, 3)\n"
     ]
    },
    {
     "name": "stderr",
     "output_type": "stream",
     "text": [
      "\r",
      " 17%|██████▌                                | 213/1261 [00:46<03:39,  4.77it/s]"
     ]
    },
    {
     "name": "stdout",
     "output_type": "stream",
     "text": [
      "621.277608057 m 2689.46587649 m\n",
      "(4, 2)\n",
      "(720, 1280)\n",
      "(720, 1280, 3)\n"
     ]
    },
    {
     "name": "stderr",
     "output_type": "stream",
     "text": [
      "\r",
      " 17%|██████▌                                | 214/1261 [00:46<03:39,  4.77it/s]"
     ]
    },
    {
     "name": "stdout",
     "output_type": "stream",
     "text": [
      "557.66130493 m 1316.39071551 m\n",
      "(4, 2)\n",
      "(720, 1280)\n",
      "(720, 1280, 3)\n"
     ]
    },
    {
     "name": "stderr",
     "output_type": "stream",
     "text": [
      "\r",
      " 17%|██████▋                                | 215/1261 [00:46<03:39,  4.77it/s]"
     ]
    },
    {
     "name": "stdout",
     "output_type": "stream",
     "text": [
      "576.493584127 m 543.182943641 m\n",
      "(4, 2)\n",
      "(720, 1280)\n",
      "(720, 1280, 3)\n"
     ]
    },
    {
     "name": "stderr",
     "output_type": "stream",
     "text": [
      "\r",
      " 17%|██████▋                                | 216/1261 [00:46<03:40,  4.75it/s]"
     ]
    },
    {
     "name": "stdout",
     "output_type": "stream",
     "text": [
      "529.078575098 m 654.662460701 m\n",
      "(4, 2)\n",
      "(720, 1280)\n",
      "(720, 1280, 3)\n"
     ]
    },
    {
     "name": "stderr",
     "output_type": "stream",
     "text": [
      "\r",
      " 17%|██████▋                                | 217/1261 [00:47<03:39,  4.76it/s]"
     ]
    },
    {
     "name": "stdout",
     "output_type": "stream",
     "text": [
      "546.249713877 m 772.414591362 m\n",
      "(4, 2)\n",
      "(720, 1280)\n",
      "(720, 1280, 3)\n"
     ]
    },
    {
     "name": "stderr",
     "output_type": "stream",
     "text": [
      "\r",
      " 17%|██████▋                                | 218/1261 [00:47<03:42,  4.70it/s]"
     ]
    },
    {
     "name": "stdout",
     "output_type": "stream",
     "text": [
      "572.964149389 m 953.744235192 m\n",
      "(4, 2)\n",
      "(720, 1280)\n",
      "(720, 1280, 3)\n"
     ]
    },
    {
     "name": "stderr",
     "output_type": "stream",
     "text": [
      "\r",
      " 17%|██████▊                                | 219/1261 [00:47<03:41,  4.70it/s]"
     ]
    },
    {
     "name": "stdout",
     "output_type": "stream",
     "text": [
      "634.578648954 m 1432.08465742 m\n",
      "(4, 2)\n",
      "(720, 1280)\n",
      "(720, 1280, 3)\n"
     ]
    },
    {
     "name": "stderr",
     "output_type": "stream",
     "text": [
      "\r",
      " 17%|██████▊                                | 220/1261 [00:47<03:41,  4.70it/s]"
     ]
    },
    {
     "name": "stdout",
     "output_type": "stream",
     "text": [
      "677.687001618 m 9759.4195547 m\n",
      "(4, 2)\n",
      "(720, 1280)\n",
      "(720, 1280, 3)\n"
     ]
    },
    {
     "name": "stderr",
     "output_type": "stream",
     "text": [
      "\r",
      " 18%|██████▊                                | 221/1261 [00:47<03:40,  4.72it/s]"
     ]
    },
    {
     "name": "stdout",
     "output_type": "stream",
     "text": [
      "725.953608453 m 5571.56451798 m\n",
      "(4, 2)\n",
      "(720, 1280)\n",
      "(720, 1280, 3)\n"
     ]
    },
    {
     "name": "stderr",
     "output_type": "stream",
     "text": [
      "\r",
      " 18%|██████▊                                | 222/1261 [00:48<03:37,  4.77it/s]"
     ]
    },
    {
     "name": "stdout",
     "output_type": "stream",
     "text": [
      "804.731310016 m 2908.46334149 m\n",
      "(4, 2)\n",
      "(720, 1280)\n",
      "(720, 1280, 3)\n"
     ]
    },
    {
     "name": "stderr",
     "output_type": "stream",
     "text": [
      "\r",
      " 18%|██████▉                                | 223/1261 [00:48<03:36,  4.79it/s]"
     ]
    },
    {
     "name": "stdout",
     "output_type": "stream",
     "text": [
      "760.027159952 m 34669.2764727 m\n",
      "(4, 2)\n",
      "(720, 1280)\n",
      "(720, 1280, 3)\n"
     ]
    },
    {
     "name": "stderr",
     "output_type": "stream",
     "text": [
      "\r",
      " 18%|██████▉                                | 224/1261 [00:48<03:37,  4.78it/s]"
     ]
    },
    {
     "name": "stdout",
     "output_type": "stream",
     "text": [
      "821.917137778 m 2620.44960164 m\n",
      "(4, 2)\n",
      "(720, 1280)\n",
      "(720, 1280, 3)\n"
     ]
    },
    {
     "name": "stderr",
     "output_type": "stream",
     "text": [
      "\r",
      " 18%|██████▉                                | 225/1261 [00:48<03:38,  4.75it/s]"
     ]
    },
    {
     "name": "stdout",
     "output_type": "stream",
     "text": [
      "754.90329937 m 2846.4809357 m\n",
      "(4, 2)\n",
      "(720, 1280)\n",
      "(720, 1280, 3)\n"
     ]
    },
    {
     "name": "stderr",
     "output_type": "stream",
     "text": [
      "\r",
      " 18%|██████▉                                | 226/1261 [00:48<03:35,  4.81it/s]"
     ]
    },
    {
     "name": "stdout",
     "output_type": "stream",
     "text": [
      "789.488127268 m 541.468566407 m\n",
      "(4, 2)\n",
      "(720, 1280)\n",
      "(720, 1280, 3)\n"
     ]
    },
    {
     "name": "stderr",
     "output_type": "stream",
     "text": [
      "\r",
      " 18%|███████                                | 227/1261 [00:49<03:38,  4.73it/s]"
     ]
    },
    {
     "name": "stdout",
     "output_type": "stream",
     "text": [
      "824.812228107 m 825.793706061 m\n",
      "(4, 2)\n",
      "(720, 1280)\n",
      "(720, 1280, 3)\n"
     ]
    },
    {
     "name": "stderr",
     "output_type": "stream",
     "text": [
      "\r",
      " 18%|███████                                | 228/1261 [00:49<03:36,  4.76it/s]"
     ]
    },
    {
     "name": "stdout",
     "output_type": "stream",
     "text": [
      "851.633820127 m 695.080524772 m\n",
      "(4, 2)\n",
      "(720, 1280)\n",
      "(720, 1280, 3)\n"
     ]
    },
    {
     "name": "stderr",
     "output_type": "stream",
     "text": [
      "\r",
      " 18%|███████                                | 229/1261 [00:49<03:35,  4.78it/s]"
     ]
    },
    {
     "name": "stdout",
     "output_type": "stream",
     "text": [
      "826.000136255 m 776.836459585 m\n",
      "(4, 2)\n",
      "(720, 1280)\n",
      "(720, 1280, 3)\n"
     ]
    },
    {
     "name": "stderr",
     "output_type": "stream",
     "text": [
      "\r",
      " 18%|███████                                | 230/1261 [00:49<03:38,  4.73it/s]"
     ]
    },
    {
     "name": "stdout",
     "output_type": "stream",
     "text": [
      "787.589676486 m 846.490305508 m\n",
      "(4, 2)\n",
      "(720, 1280)\n",
      "(720, 1280, 3)\n"
     ]
    },
    {
     "name": "stderr",
     "output_type": "stream",
     "text": [
      "\r",
      " 18%|███████▏                               | 231/1261 [00:50<03:39,  4.68it/s]"
     ]
    },
    {
     "name": "stdout",
     "output_type": "stream",
     "text": [
      "1009.40315417 m 930.982158817 m\n",
      "(4, 2)\n",
      "(720, 1280)\n",
      "(720, 1280, 3)\n"
     ]
    },
    {
     "name": "stderr",
     "output_type": "stream",
     "text": [
      "\r",
      " 18%|███████▏                               | 232/1261 [00:50<03:40,  4.67it/s]"
     ]
    },
    {
     "name": "stdout",
     "output_type": "stream",
     "text": [
      "905.293686023 m 2860.47050552 m\n",
      "(4, 2)\n",
      "(720, 1280)\n",
      "(720, 1280, 3)\n"
     ]
    },
    {
     "name": "stderr",
     "output_type": "stream",
     "text": [
      "\r",
      " 18%|███████▏                               | 233/1261 [00:50<03:41,  4.64it/s]"
     ]
    },
    {
     "name": "stdout",
     "output_type": "stream",
     "text": [
      "962.816227444 m 2358.14893525 m\n",
      "(4, 2)\n",
      "(720, 1280)\n",
      "(720, 1280, 3)\n"
     ]
    },
    {
     "name": "stderr",
     "output_type": "stream",
     "text": [
      "\r",
      " 19%|███████▏                               | 234/1261 [00:50<03:37,  4.73it/s]"
     ]
    },
    {
     "name": "stdout",
     "output_type": "stream",
     "text": [
      "981.440005853 m 3418.90099116 m\n",
      "(4, 2)\n",
      "(720, 1280)\n",
      "(720, 1280, 3)\n"
     ]
    },
    {
     "name": "stderr",
     "output_type": "stream",
     "text": [
      "\r",
      " 19%|███████▎                               | 235/1261 [00:50<03:36,  4.74it/s]"
     ]
    },
    {
     "name": "stdout",
     "output_type": "stream",
     "text": [
      "1107.60960518 m 1941.94962807 m\n",
      "(4, 2)\n",
      "(720, 1280)\n",
      "(720, 1280, 3)\n"
     ]
    },
    {
     "name": "stderr",
     "output_type": "stream",
     "text": [
      "\r",
      " 19%|███████▎                               | 236/1261 [00:51<03:34,  4.78it/s]"
     ]
    },
    {
     "name": "stdout",
     "output_type": "stream",
     "text": [
      "1076.26047803 m 2318.4252146 m\n",
      "(4, 2)\n",
      "(720, 1280)\n",
      "(720, 1280, 3)\n"
     ]
    },
    {
     "name": "stderr",
     "output_type": "stream",
     "text": [
      "\r",
      " 19%|███████▎                               | 237/1261 [00:51<03:33,  4.79it/s]"
     ]
    },
    {
     "name": "stdout",
     "output_type": "stream",
     "text": [
      "1052.7365929 m 1923.47261382 m\n",
      "(4, 2)\n",
      "(720, 1280)\n",
      "(720, 1280, 3)\n"
     ]
    },
    {
     "name": "stderr",
     "output_type": "stream",
     "text": [
      "\r",
      " 19%|███████▎                               | 238/1261 [00:51<03:34,  4.77it/s]"
     ]
    },
    {
     "name": "stdout",
     "output_type": "stream",
     "text": [
      "952.605986707 m 418.440435613 m\n",
      "(4, 2)\n",
      "(720, 1280)\n",
      "(720, 1280, 3)\n"
     ]
    },
    {
     "name": "stderr",
     "output_type": "stream",
     "text": [
      "\r",
      " 19%|███████▍                               | 239/1261 [00:51<03:33,  4.79it/s]"
     ]
    },
    {
     "name": "stdout",
     "output_type": "stream",
     "text": [
      "1055.22714606 m 459.460653556 m\n",
      "(4, 2)\n",
      "(720, 1280)\n",
      "(720, 1280, 3)\n"
     ]
    },
    {
     "name": "stderr",
     "output_type": "stream",
     "text": [
      "\r",
      " 19%|███████▍                               | 240/1261 [00:51<03:32,  4.79it/s]"
     ]
    },
    {
     "name": "stdout",
     "output_type": "stream",
     "text": [
      "902.377284944 m 549.949901567 m\n",
      "(4, 2)\n",
      "(720, 1280)\n",
      "(720, 1280, 3)\n"
     ]
    },
    {
     "name": "stderr",
     "output_type": "stream",
     "text": [
      "\r",
      " 19%|███████▍                               | 241/1261 [00:52<03:35,  4.73it/s]"
     ]
    },
    {
     "name": "stdout",
     "output_type": "stream",
     "text": [
      "852.195519005 m 551.563951478 m\n",
      "(4, 2)\n",
      "(720, 1280)\n",
      "(720, 1280, 3)\n"
     ]
    },
    {
     "name": "stderr",
     "output_type": "stream",
     "text": [
      "\r",
      " 19%|███████▍                               | 242/1261 [00:52<03:38,  4.67it/s]"
     ]
    },
    {
     "name": "stdout",
     "output_type": "stream",
     "text": [
      "815.77286466 m 621.652376022 m\n",
      "(4, 2)\n",
      "(720, 1280)\n",
      "(720, 1280, 3)\n"
     ]
    },
    {
     "name": "stderr",
     "output_type": "stream",
     "text": [
      "\r",
      " 19%|███████▌                               | 243/1261 [00:52<03:35,  4.72it/s]"
     ]
    },
    {
     "name": "stdout",
     "output_type": "stream",
     "text": [
      "886.752084631 m 768.122625153 m\n",
      "(4, 2)\n",
      "(720, 1280)\n",
      "(720, 1280, 3)\n"
     ]
    },
    {
     "name": "stderr",
     "output_type": "stream",
     "text": [
      "\r",
      " 19%|███████▌                               | 244/1261 [00:52<03:37,  4.68it/s]"
     ]
    },
    {
     "name": "stdout",
     "output_type": "stream",
     "text": [
      "789.137261036 m 1538.86699716 m\n",
      "(4, 2)\n",
      "(720, 1280)\n",
      "(720, 1280, 3)\n"
     ]
    },
    {
     "name": "stderr",
     "output_type": "stream",
     "text": [
      "\r",
      " 19%|███████▌                               | 245/1261 [00:53<03:37,  4.66it/s]"
     ]
    },
    {
     "name": "stdout",
     "output_type": "stream",
     "text": [
      "794.427137111 m 1214.40002811 m\n",
      "(4, 2)\n",
      "(720, 1280)\n",
      "(720, 1280, 3)\n"
     ]
    },
    {
     "name": "stderr",
     "output_type": "stream",
     "text": [
      "\r",
      " 20%|███████▌                               | 246/1261 [00:53<03:36,  4.69it/s]"
     ]
    },
    {
     "name": "stdout",
     "output_type": "stream",
     "text": [
      "798.460005867 m 1145.89004086 m\n",
      "(4, 2)\n",
      "(720, 1280)\n",
      "(720, 1280, 3)\n"
     ]
    },
    {
     "name": "stderr",
     "output_type": "stream",
     "text": [
      "\r",
      " 20%|███████▋                               | 247/1261 [00:53<03:35,  4.70it/s]"
     ]
    },
    {
     "name": "stdout",
     "output_type": "stream",
     "text": [
      "679.142999612 m 1028.28043153 m\n",
      "(4, 2)\n",
      "(720, 1280)\n",
      "(720, 1280, 3)\n"
     ]
    },
    {
     "name": "stderr",
     "output_type": "stream",
     "text": [
      "\r",
      " 20%|███████▋                               | 248/1261 [00:53<03:38,  4.65it/s]"
     ]
    },
    {
     "name": "stdout",
     "output_type": "stream",
     "text": [
      "666.575763676 m 1821.57339607 m\n",
      "(4, 2)\n",
      "(720, 1280)\n",
      "(720, 1280, 3)\n"
     ]
    },
    {
     "name": "stderr",
     "output_type": "stream",
     "text": [
      "\r",
      " 20%|███████▋                               | 249/1261 [00:53<03:36,  4.68it/s]"
     ]
    },
    {
     "name": "stdout",
     "output_type": "stream",
     "text": [
      "660.308780859 m 458.746666116 m\n",
      "(4, 2)\n",
      "(720, 1280)\n",
      "(720, 1280, 3)\n"
     ]
    },
    {
     "name": "stderr",
     "output_type": "stream",
     "text": [
      "\r",
      " 20%|███████▋                               | 250/1261 [00:54<03:36,  4.66it/s]"
     ]
    },
    {
     "name": "stdout",
     "output_type": "stream",
     "text": [
      "710.222835255 m 464.410020428 m\n",
      "(4, 2)\n",
      "(720, 1280)\n",
      "(720, 1280, 3)\n"
     ]
    },
    {
     "name": "stderr",
     "output_type": "stream",
     "text": [
      "\r",
      " 20%|███████▊                               | 251/1261 [00:54<03:38,  4.63it/s]"
     ]
    },
    {
     "name": "stdout",
     "output_type": "stream",
     "text": [
      "756.707382904 m 631.698427784 m\n",
      "(4, 2)\n",
      "(720, 1280)\n",
      "(720, 1280, 3)\n"
     ]
    },
    {
     "name": "stderr",
     "output_type": "stream",
     "text": [
      "\r",
      " 20%|███████▊                               | 252/1261 [00:54<03:36,  4.65it/s]"
     ]
    },
    {
     "name": "stdout",
     "output_type": "stream",
     "text": [
      "714.77005863 m 624.83773809 m\n",
      "(4, 2)\n",
      "(720, 1280)\n",
      "(720, 1280, 3)\n"
     ]
    },
    {
     "name": "stderr",
     "output_type": "stream",
     "text": [
      "\r",
      " 20%|███████▊                               | 253/1261 [00:54<03:34,  4.69it/s]"
     ]
    },
    {
     "name": "stdout",
     "output_type": "stream",
     "text": [
      "760.557765702 m 666.793452087 m\n",
      "(4, 2)\n",
      "(720, 1280)\n",
      "(720, 1280, 3)\n"
     ]
    },
    {
     "name": "stderr",
     "output_type": "stream",
     "text": [
      "\r",
      " 20%|███████▊                               | 254/1261 [00:54<03:34,  4.70it/s]"
     ]
    },
    {
     "name": "stdout",
     "output_type": "stream",
     "text": [
      "838.309851313 m 830.818051759 m\n",
      "(4, 2)\n",
      "(720, 1280)\n",
      "(720, 1280, 3)\n"
     ]
    },
    {
     "name": "stderr",
     "output_type": "stream",
     "text": [
      "\r",
      " 20%|███████▉                               | 255/1261 [00:55<03:35,  4.67it/s]"
     ]
    },
    {
     "name": "stdout",
     "output_type": "stream",
     "text": [
      "768.164679146 m 1058.05320191 m\n",
      "(4, 2)\n",
      "(720, 1280)\n",
      "(720, 1280, 3)\n"
     ]
    },
    {
     "name": "stderr",
     "output_type": "stream",
     "text": [
      "\r",
      " 20%|███████▉                               | 256/1261 [00:55<03:33,  4.70it/s]"
     ]
    },
    {
     "name": "stdout",
     "output_type": "stream",
     "text": [
      "738.348894005 m 12590.3902533 m\n",
      "(4, 2)\n",
      "(720, 1280)\n",
      "(720, 1280, 3)\n"
     ]
    },
    {
     "name": "stderr",
     "output_type": "stream",
     "text": [
      "\r",
      " 20%|███████▉                               | 257/1261 [00:55<03:34,  4.69it/s]"
     ]
    },
    {
     "name": "stdout",
     "output_type": "stream",
     "text": [
      "863.839811906 m 4213.07692386 m\n",
      "(4, 2)\n",
      "(720, 1280)\n",
      "(720, 1280, 3)\n"
     ]
    },
    {
     "name": "stderr",
     "output_type": "stream",
     "text": [
      "\r",
      " 20%|███████▉                               | 258/1261 [00:55<03:34,  4.68it/s]"
     ]
    },
    {
     "name": "stdout",
     "output_type": "stream",
     "text": [
      "798.090448972 m 3832.49937924 m\n",
      "(4, 2)\n",
      "(720, 1280)\n",
      "(720, 1280, 3)\n"
     ]
    },
    {
     "name": "stderr",
     "output_type": "stream",
     "text": [
      "\r",
      " 21%|████████                               | 259/1261 [00:56<03:35,  4.66it/s]"
     ]
    },
    {
     "name": "stdout",
     "output_type": "stream",
     "text": [
      "747.183275823 m 847.679522289 m\n",
      "(4, 2)\n",
      "(720, 1280)\n",
      "(720, 1280, 3)\n"
     ]
    },
    {
     "name": "stderr",
     "output_type": "stream",
     "text": [
      "\r",
      " 21%|████████                               | 260/1261 [00:56<03:35,  4.65it/s]"
     ]
    },
    {
     "name": "stdout",
     "output_type": "stream",
     "text": [
      "901.271994377 m 3220.44312521 m\n",
      "(4, 2)\n",
      "(720, 1280)\n",
      "(720, 1280, 3)\n"
     ]
    },
    {
     "name": "stderr",
     "output_type": "stream",
     "text": [
      "\r",
      " 21%|████████                               | 261/1261 [00:56<03:35,  4.65it/s]"
     ]
    },
    {
     "name": "stdout",
     "output_type": "stream",
     "text": [
      "811.905580967 m 614.237793203 m\n",
      "(4, 2)\n",
      "(720, 1280)\n",
      "(720, 1280, 3)\n"
     ]
    },
    {
     "name": "stderr",
     "output_type": "stream",
     "text": [
      "\r",
      " 21%|████████                               | 262/1261 [00:56<03:36,  4.62it/s]"
     ]
    },
    {
     "name": "stdout",
     "output_type": "stream",
     "text": [
      "1136.11007039 m 420.963105285 m\n",
      "(4, 2)\n",
      "(720, 1280)\n",
      "(720, 1280, 3)\n"
     ]
    },
    {
     "name": "stderr",
     "output_type": "stream",
     "text": [
      "\r",
      " 21%|████████▏                              | 263/1261 [00:56<03:33,  4.68it/s]"
     ]
    },
    {
     "name": "stdout",
     "output_type": "stream",
     "text": [
      "1174.58662703 m 546.637387408 m\n",
      "(4, 2)\n",
      "(720, 1280)\n",
      "(720, 1280, 3)\n"
     ]
    },
    {
     "name": "stderr",
     "output_type": "stream",
     "text": [
      "\r",
      " 21%|████████▏                              | 264/1261 [00:57<03:32,  4.69it/s]"
     ]
    },
    {
     "name": "stdout",
     "output_type": "stream",
     "text": [
      "1110.03520771 m 544.264268271 m\n",
      "(4, 2)\n",
      "(720, 1280)\n",
      "(720, 1280, 3)\n"
     ]
    },
    {
     "name": "stderr",
     "output_type": "stream",
     "text": [
      "\r",
      " 21%|████████▏                              | 265/1261 [00:57<03:32,  4.69it/s]"
     ]
    },
    {
     "name": "stdout",
     "output_type": "stream",
     "text": [
      "826.808351205 m 646.525409979 m\n",
      "(4, 2)\n",
      "(720, 1280)\n",
      "(720, 1280, 3)\n"
     ]
    },
    {
     "name": "stderr",
     "output_type": "stream",
     "text": [
      "\r",
      " 21%|████████▏                              | 266/1261 [00:57<03:31,  4.70it/s]"
     ]
    },
    {
     "name": "stdout",
     "output_type": "stream",
     "text": [
      "971.382675837 m 753.589385993 m\n",
      "(4, 2)\n",
      "(720, 1280)\n",
      "(720, 1280, 3)\n"
     ]
    },
    {
     "name": "stderr",
     "output_type": "stream",
     "text": [
      "\r",
      " 21%|████████▎                              | 267/1261 [00:57<03:28,  4.77it/s]"
     ]
    },
    {
     "name": "stdout",
     "output_type": "stream",
     "text": [
      "910.476365424 m 851.466701657 m\n",
      "(4, 2)\n",
      "(720, 1280)\n",
      "(720, 1280, 3)\n"
     ]
    },
    {
     "name": "stderr",
     "output_type": "stream",
     "text": [
      "\r",
      " 21%|████████▎                              | 268/1261 [00:57<03:28,  4.77it/s]"
     ]
    },
    {
     "name": "stdout",
     "output_type": "stream",
     "text": [
      "884.23133021 m 1059.14211156 m\n",
      "(4, 2)\n",
      "(720, 1280)\n",
      "(720, 1280, 3)\n"
     ]
    },
    {
     "name": "stderr",
     "output_type": "stream",
     "text": [
      "\r",
      " 21%|████████▎                              | 269/1261 [00:58<03:28,  4.76it/s]"
     ]
    },
    {
     "name": "stdout",
     "output_type": "stream",
     "text": [
      "896.129318525 m 9853.62698652 m\n",
      "(4, 2)\n",
      "(720, 1280)\n",
      "(720, 1280, 3)\n"
     ]
    },
    {
     "name": "stderr",
     "output_type": "stream",
     "text": [
      "\r",
      " 21%|████████▎                              | 270/1261 [00:58<03:27,  4.77it/s]"
     ]
    },
    {
     "name": "stdout",
     "output_type": "stream",
     "text": [
      "907.930267708 m 3549.32739647 m\n",
      "(4, 2)\n",
      "(720, 1280)\n",
      "(720, 1280, 3)\n"
     ]
    },
    {
     "name": "stderr",
     "output_type": "stream",
     "text": [
      "\r",
      " 21%|████████▍                              | 271/1261 [00:58<03:29,  4.73it/s]"
     ]
    },
    {
     "name": "stdout",
     "output_type": "stream",
     "text": [
      "847.091092546 m 3552.45399291 m\n",
      "(4, 2)\n",
      "(720, 1280)\n",
      "(720, 1280, 3)\n"
     ]
    },
    {
     "name": "stderr",
     "output_type": "stream",
     "text": [
      "\r",
      " 22%|████████▍                              | 272/1261 [00:58<03:29,  4.71it/s]"
     ]
    },
    {
     "name": "stdout",
     "output_type": "stream",
     "text": [
      "794.058590106 m 1585.47276897 m\n",
      "(4, 2)\n",
      "(720, 1280)\n",
      "(720, 1280, 3)\n"
     ]
    },
    {
     "name": "stderr",
     "output_type": "stream",
     "text": [
      "\r",
      " 22%|████████▍                              | 273/1261 [00:58<03:34,  4.60it/s]"
     ]
    },
    {
     "name": "stdout",
     "output_type": "stream",
     "text": [
      "863.709006831 m 476.115634032 m\n",
      "(4, 2)\n",
      "(720, 1280)\n",
      "(720, 1280, 3)\n"
     ]
    },
    {
     "name": "stderr",
     "output_type": "stream",
     "text": [
      "\r",
      " 22%|████████▍                              | 274/1261 [00:59<03:31,  4.68it/s]"
     ]
    },
    {
     "name": "stdout",
     "output_type": "stream",
     "text": [
      "881.231077077 m 533.897220748 m\n",
      "(4, 2)\n",
      "(720, 1280)\n",
      "(720, 1280, 3)\n"
     ]
    },
    {
     "name": "stderr",
     "output_type": "stream",
     "text": [
      "\r",
      " 22%|████████▌                              | 275/1261 [00:59<03:31,  4.67it/s]"
     ]
    },
    {
     "name": "stdout",
     "output_type": "stream",
     "text": [
      "943.932085394 m 580.397610724 m\n",
      "(4, 2)\n",
      "(720, 1280)\n",
      "(720, 1280, 3)\n"
     ]
    },
    {
     "name": "stderr",
     "output_type": "stream",
     "text": [
      "\r",
      " 22%|████████▌                              | 276/1261 [00:59<03:29,  4.71it/s]"
     ]
    },
    {
     "name": "stdout",
     "output_type": "stream",
     "text": [
      "876.606618376 m 744.068858621 m\n",
      "(4, 2)\n",
      "(720, 1280)\n",
      "(720, 1280, 3)\n"
     ]
    },
    {
     "name": "stderr",
     "output_type": "stream",
     "text": [
      "\r",
      " 22%|████████▌                              | 277/1261 [00:59<03:29,  4.70it/s]"
     ]
    },
    {
     "name": "stdout",
     "output_type": "stream",
     "text": [
      "840.660031067 m 781.944293228 m\n",
      "(4, 2)\n",
      "(720, 1280)\n",
      "(720, 1280, 3)\n"
     ]
    },
    {
     "name": "stderr",
     "output_type": "stream",
     "text": [
      "\r",
      " 22%|████████▌                              | 278/1261 [01:00<03:28,  4.72it/s]"
     ]
    },
    {
     "name": "stdout",
     "output_type": "stream",
     "text": [
      "886.922637884 m 1031.34657884 m\n",
      "(4, 2)\n",
      "(720, 1280)\n",
      "(720, 1280, 3)\n"
     ]
    },
    {
     "name": "stderr",
     "output_type": "stream",
     "text": [
      "\r",
      " 22%|████████▋                              | 279/1261 [01:00<03:29,  4.68it/s]"
     ]
    },
    {
     "name": "stdout",
     "output_type": "stream",
     "text": [
      "810.573659913 m 1562.74029259 m\n",
      "(4, 2)\n",
      "(720, 1280)\n",
      "(720, 1280, 3)\n"
     ]
    },
    {
     "name": "stderr",
     "output_type": "stream",
     "text": [
      "\r",
      " 22%|████████▋                              | 280/1261 [01:00<03:29,  4.67it/s]"
     ]
    },
    {
     "name": "stdout",
     "output_type": "stream",
     "text": [
      "926.965960409 m 4897.42112825 m\n",
      "(4, 2)\n",
      "(720, 1280)\n",
      "(720, 1280, 3)\n"
     ]
    },
    {
     "name": "stderr",
     "output_type": "stream",
     "text": [
      "\r",
      " 22%|████████▋                              | 281/1261 [01:00<03:32,  4.61it/s]"
     ]
    },
    {
     "name": "stdout",
     "output_type": "stream",
     "text": [
      "871.029507934 m 6712.08738522 m\n",
      "(4, 2)\n",
      "(720, 1280)\n",
      "(720, 1280, 3)\n"
     ]
    },
    {
     "name": "stderr",
     "output_type": "stream",
     "text": [
      "\r",
      " 22%|████████▋                              | 282/1261 [01:00<03:31,  4.63it/s]"
     ]
    },
    {
     "name": "stdout",
     "output_type": "stream",
     "text": [
      "897.029640724 m 61747.9412918 m\n",
      "(4, 2)\n",
      "(720, 1280)\n",
      "(720, 1280, 3)\n"
     ]
    },
    {
     "name": "stderr",
     "output_type": "stream",
     "text": [
      "\r",
      " 22%|████████▊                              | 283/1261 [01:01<03:29,  4.68it/s]"
     ]
    },
    {
     "name": "stdout",
     "output_type": "stream",
     "text": [
      "944.0124231 m 19416.7086536 m\n",
      "(4, 2)\n",
      "(720, 1280)\n",
      "(720, 1280, 3)\n"
     ]
    },
    {
     "name": "stderr",
     "output_type": "stream",
     "text": [
      "\r",
      " 23%|████████▊                              | 284/1261 [01:01<03:30,  4.63it/s]"
     ]
    },
    {
     "name": "stdout",
     "output_type": "stream",
     "text": [
      "929.854151141 m 12478.0303893 m\n",
      "(4, 2)\n",
      "(720, 1280)\n",
      "(720, 1280, 3)\n"
     ]
    },
    {
     "name": "stderr",
     "output_type": "stream",
     "text": [
      "\r",
      " 23%|████████▊                              | 285/1261 [01:01<03:28,  4.67it/s]"
     ]
    },
    {
     "name": "stdout",
     "output_type": "stream",
     "text": [
      "1042.68470254 m 4021.55510576 m\n",
      "(4, 2)\n",
      "(720, 1280)\n",
      "(720, 1280, 3)\n"
     ]
    },
    {
     "name": "stderr",
     "output_type": "stream",
     "text": [
      "\r",
      " 23%|████████▊                              | 286/1261 [01:01<03:28,  4.68it/s]"
     ]
    },
    {
     "name": "stdout",
     "output_type": "stream",
     "text": [
      "1155.61146429 m 692.257829134 m\n",
      "(4, 2)\n",
      "(720, 1280)\n",
      "(720, 1280, 3)\n"
     ]
    },
    {
     "name": "stderr",
     "output_type": "stream",
     "text": [
      "\r",
      " 23%|████████▉                              | 287/1261 [01:01<03:29,  4.64it/s]"
     ]
    },
    {
     "name": "stdout",
     "output_type": "stream",
     "text": [
      "1119.02560308 m 645.000217085 m\n",
      "(4, 2)\n",
      "(720, 1280)\n",
      "(720, 1280, 3)\n"
     ]
    },
    {
     "name": "stderr",
     "output_type": "stream",
     "text": [
      "\r",
      " 23%|████████▉                              | 288/1261 [01:02<03:28,  4.66it/s]"
     ]
    },
    {
     "name": "stdout",
     "output_type": "stream",
     "text": [
      "1064.69562648 m 882.726932011 m\n",
      "(4, 2)\n",
      "(720, 1280)\n",
      "(720, 1280, 3)\n"
     ]
    },
    {
     "name": "stderr",
     "output_type": "stream",
     "text": [
      "\r",
      " 23%|████████▉                              | 289/1261 [01:02<03:30,  4.62it/s]"
     ]
    },
    {
     "name": "stdout",
     "output_type": "stream",
     "text": [
      "1066.83595769 m 965.955343731 m\n",
      "(4, 2)\n",
      "(720, 1280)\n",
      "(720, 1280, 3)\n"
     ]
    },
    {
     "name": "stderr",
     "output_type": "stream",
     "text": [
      "\r",
      " 23%|████████▉                              | 290/1261 [01:02<03:28,  4.67it/s]"
     ]
    },
    {
     "name": "stdout",
     "output_type": "stream",
     "text": [
      "1272.73760554 m 1455.58823316 m\n",
      "(4, 2)\n",
      "(720, 1280)\n",
      "(720, 1280, 3)\n"
     ]
    },
    {
     "name": "stderr",
     "output_type": "stream",
     "text": [
      "\r",
      " 23%|█████████                              | 291/1261 [01:02<03:28,  4.66it/s]"
     ]
    },
    {
     "name": "stdout",
     "output_type": "stream",
     "text": [
      "1362.55900422 m 2852.4402145 m\n",
      "(4, 2)\n",
      "(720, 1280)\n",
      "(720, 1280, 3)\n"
     ]
    },
    {
     "name": "stderr",
     "output_type": "stream",
     "text": [
      "\r",
      " 23%|█████████                              | 292/1261 [01:03<03:32,  4.56it/s]"
     ]
    },
    {
     "name": "stdout",
     "output_type": "stream",
     "text": [
      "1566.7319411 m 4914.21605554 m\n",
      "(4, 2)\n",
      "(720, 1280)\n",
      "(720, 1280, 3)\n"
     ]
    },
    {
     "name": "stderr",
     "output_type": "stream",
     "text": [
      "\r",
      " 23%|█████████                              | 293/1261 [01:03<03:33,  4.54it/s]"
     ]
    },
    {
     "name": "stdout",
     "output_type": "stream",
     "text": [
      "1256.33195293 m 9313.92525477 m\n",
      "(4, 2)\n",
      "(720, 1280)\n",
      "(720, 1280, 3)\n"
     ]
    },
    {
     "name": "stderr",
     "output_type": "stream",
     "text": [
      "\r",
      " 23%|█████████                              | 294/1261 [01:03<03:38,  4.42it/s]"
     ]
    },
    {
     "name": "stdout",
     "output_type": "stream",
     "text": [
      "1543.6131371 m 6675.98386356 m\n",
      "(4, 2)\n",
      "(720, 1280)\n",
      "(720, 1280, 3)\n"
     ]
    },
    {
     "name": "stderr",
     "output_type": "stream",
     "text": [
      "\r",
      " 23%|█████████                              | 295/1261 [01:03<03:36,  4.47it/s]"
     ]
    },
    {
     "name": "stdout",
     "output_type": "stream",
     "text": [
      "1495.88741466 m 11281.9038174 m\n",
      "(4, 2)\n",
      "(720, 1280)\n",
      "(720, 1280, 3)\n"
     ]
    },
    {
     "name": "stderr",
     "output_type": "stream",
     "text": [
      "\r",
      " 23%|█████████▏                             | 296/1261 [01:03<03:32,  4.54it/s]"
     ]
    },
    {
     "name": "stdout",
     "output_type": "stream",
     "text": [
      "1966.66644322 m 9605.16379291 m\n",
      "(4, 2)\n",
      "(720, 1280)\n",
      "(720, 1280, 3)\n"
     ]
    },
    {
     "name": "stderr",
     "output_type": "stream",
     "text": [
      "\r",
      " 24%|█████████▏                             | 297/1261 [01:04<03:38,  4.42it/s]"
     ]
    },
    {
     "name": "stdout",
     "output_type": "stream",
     "text": [
      "2205.9464139 m 637.687225105 m\n",
      "(4, 2)\n",
      "(720, 1280)\n",
      "(720, 1280, 3)\n"
     ]
    },
    {
     "name": "stderr",
     "output_type": "stream",
     "text": [
      "\r",
      " 24%|█████████▏                             | 298/1261 [01:04<03:38,  4.40it/s]"
     ]
    },
    {
     "name": "stdout",
     "output_type": "stream",
     "text": [
      "1607.22400526 m 628.505227142 m\n",
      "(4, 2)\n",
      "(720, 1280)\n",
      "(720, 1280, 3)\n"
     ]
    },
    {
     "name": "stderr",
     "output_type": "stream",
     "text": [
      "\r",
      " 24%|█████████▏                             | 299/1261 [01:04<03:34,  4.49it/s]"
     ]
    },
    {
     "name": "stdout",
     "output_type": "stream",
     "text": [
      "1832.4328315 m 671.666234528 m\n",
      "(4, 2)\n",
      "(720, 1280)\n",
      "(720, 1280, 3)\n"
     ]
    },
    {
     "name": "stderr",
     "output_type": "stream",
     "text": [
      "\r",
      " 24%|█████████▎                             | 300/1261 [01:04<03:30,  4.57it/s]"
     ]
    },
    {
     "name": "stdout",
     "output_type": "stream",
     "text": [
      "1533.77335242 m 941.687143715 m\n",
      "(4, 2)\n",
      "(720, 1280)\n",
      "(720, 1280, 3)\n"
     ]
    },
    {
     "name": "stderr",
     "output_type": "stream",
     "text": [
      "\r",
      " 24%|█████████▎                             | 301/1261 [01:05<03:27,  4.63it/s]"
     ]
    },
    {
     "name": "stdout",
     "output_type": "stream",
     "text": [
      "1627.37782547 m 1002.86572757 m\n",
      "(4, 2)\n",
      "(720, 1280)\n",
      "(720, 1280, 3)\n"
     ]
    },
    {
     "name": "stderr",
     "output_type": "stream",
     "text": [
      "\r",
      " 24%|█████████▎                             | 302/1261 [01:05<03:27,  4.62it/s]"
     ]
    },
    {
     "name": "stdout",
     "output_type": "stream",
     "text": [
      "1738.02362942 m 1421.1976845 m\n",
      "(4, 2)\n",
      "(720, 1280)\n",
      "(720, 1280, 3)\n"
     ]
    },
    {
     "name": "stderr",
     "output_type": "stream",
     "text": [
      "\r",
      " 24%|█████████▎                             | 303/1261 [01:05<03:35,  4.45it/s]"
     ]
    },
    {
     "name": "stdout",
     "output_type": "stream",
     "text": [
      "1628.59349174 m 2274.67915378 m\n",
      "(4, 2)\n",
      "(720, 1280)\n",
      "(720, 1280, 3)\n"
     ]
    },
    {
     "name": "stderr",
     "output_type": "stream",
     "text": [
      "\r",
      " 24%|█████████▍                             | 304/1261 [01:05<03:32,  4.51it/s]"
     ]
    },
    {
     "name": "stdout",
     "output_type": "stream",
     "text": [
      "1515.85000478 m 2038.86854009 m\n",
      "(4, 2)\n",
      "(720, 1280)\n",
      "(720, 1280, 3)\n"
     ]
    },
    {
     "name": "stderr",
     "output_type": "stream",
     "text": [
      "\r",
      " 24%|█████████▍                             | 305/1261 [01:05<03:34,  4.45it/s]"
     ]
    },
    {
     "name": "stdout",
     "output_type": "stream",
     "text": [
      "2419.85322485 m 1295.82189483 m\n",
      "(4, 2)\n",
      "(720, 1280)\n",
      "(720, 1280, 3)\n"
     ]
    },
    {
     "name": "stderr",
     "output_type": "stream",
     "text": [
      "\r",
      " 24%|█████████▍                             | 306/1261 [01:06<03:34,  4.45it/s]"
     ]
    },
    {
     "name": "stdout",
     "output_type": "stream",
     "text": [
      "2547.78258467 m 1323.6453113 m\n",
      "(4, 2)\n",
      "(720, 1280)\n",
      "(720, 1280, 3)\n"
     ]
    },
    {
     "name": "stderr",
     "output_type": "stream",
     "text": [
      "\r",
      " 24%|█████████▍                             | 307/1261 [01:06<03:32,  4.49it/s]"
     ]
    },
    {
     "name": "stdout",
     "output_type": "stream",
     "text": [
      "2709.1417489 m 1681.15326939 m\n",
      "(4, 2)\n",
      "(720, 1280)\n",
      "(720, 1280, 3)\n"
     ]
    },
    {
     "name": "stderr",
     "output_type": "stream",
     "text": [
      "\r",
      " 24%|█████████▌                             | 308/1261 [01:06<03:41,  4.29it/s]"
     ]
    },
    {
     "name": "stdout",
     "output_type": "stream",
     "text": [
      "2961.24663002 m 1919.53317005 m\n",
      "(4, 2)\n",
      "(720, 1280)\n",
      "(720, 1280, 3)\n"
     ]
    },
    {
     "name": "stderr",
     "output_type": "stream",
     "text": [
      "\r",
      " 25%|█████████▌                             | 309/1261 [01:06<03:35,  4.42it/s]"
     ]
    },
    {
     "name": "stdout",
     "output_type": "stream",
     "text": [
      "2004.71850898 m 1696.03582011 m\n",
      "(4, 2)\n",
      "(720, 1280)\n",
      "(720, 1280, 3)\n"
     ]
    },
    {
     "name": "stderr",
     "output_type": "stream",
     "text": [
      "\r",
      " 25%|█████████▌                             | 310/1261 [01:07<03:31,  4.50it/s]"
     ]
    },
    {
     "name": "stdout",
     "output_type": "stream",
     "text": [
      "3020.10989497 m 2137.78226309 m\n",
      "(4, 2)\n",
      "(720, 1280)\n",
      "(720, 1280, 3)\n"
     ]
    },
    {
     "name": "stderr",
     "output_type": "stream",
     "text": [
      "\r",
      " 25%|█████████▌                             | 311/1261 [01:07<03:27,  4.59it/s]"
     ]
    },
    {
     "name": "stdout",
     "output_type": "stream",
     "text": [
      "3153.92348912 m 3227.93550237 m\n",
      "(4, 2)\n",
      "(720, 1280)\n",
      "(720, 1280, 3)\n"
     ]
    },
    {
     "name": "stderr",
     "output_type": "stream",
     "text": [
      "\r",
      " 25%|█████████▋                             | 312/1261 [01:07<03:30,  4.52it/s]"
     ]
    },
    {
     "name": "stdout",
     "output_type": "stream",
     "text": [
      "2211.46626473 m 28284.4606187 m\n",
      "(4, 2)\n",
      "(720, 1280)\n",
      "(720, 1280, 3)\n"
     ]
    },
    {
     "name": "stderr",
     "output_type": "stream",
     "text": [
      "\r",
      " 25%|█████████▋                             | 313/1261 [01:07<03:26,  4.59it/s]"
     ]
    },
    {
     "name": "stdout",
     "output_type": "stream",
     "text": [
      "3491.41792069 m 13295.340954 m\n",
      "(4, 2)\n",
      "(720, 1280)\n",
      "(720, 1280, 3)\n"
     ]
    },
    {
     "name": "stderr",
     "output_type": "stream",
     "text": [
      "\r",
      " 25%|█████████▋                             | 314/1261 [01:07<03:24,  4.63it/s]"
     ]
    },
    {
     "name": "stdout",
     "output_type": "stream",
     "text": [
      "3395.54557418 m 4773.28558329 m\n",
      "(4, 2)\n",
      "(720, 1280)\n",
      "(720, 1280, 3)\n"
     ]
    },
    {
     "name": "stderr",
     "output_type": "stream",
     "text": [
      "\r",
      " 25%|█████████▋                             | 315/1261 [01:08<03:23,  4.66it/s]"
     ]
    },
    {
     "name": "stdout",
     "output_type": "stream",
     "text": [
      "2408.30170161 m 3814.9486894 m\n",
      "(4, 2)\n",
      "(720, 1280)\n",
      "(720, 1280, 3)\n"
     ]
    },
    {
     "name": "stderr",
     "output_type": "stream",
     "text": [
      "\r",
      " 25%|█████████▊                             | 316/1261 [01:08<03:22,  4.67it/s]"
     ]
    },
    {
     "name": "stdout",
     "output_type": "stream",
     "text": [
      "3027.76683063 m 1263.24471344 m\n",
      "(4, 2)\n",
      "(720, 1280)\n",
      "(720, 1280, 3)\n"
     ]
    },
    {
     "name": "stderr",
     "output_type": "stream",
     "text": [
      "\r",
      " 25%|█████████▊                             | 317/1261 [01:08<03:24,  4.63it/s]"
     ]
    },
    {
     "name": "stdout",
     "output_type": "stream",
     "text": [
      "5381.58134678 m 1235.36910759 m\n",
      "(4, 2)\n",
      "(720, 1280)\n",
      "(720, 1280, 3)\n"
     ]
    },
    {
     "name": "stderr",
     "output_type": "stream",
     "text": [
      "\r",
      " 25%|█████████▊                             | 318/1261 [01:08<03:22,  4.65it/s]"
     ]
    },
    {
     "name": "stdout",
     "output_type": "stream",
     "text": [
      "5356.18836004 m 1365.18393766 m\n",
      "(4, 2)\n",
      "(720, 1280)\n",
      "(720, 1280, 3)\n"
     ]
    },
    {
     "name": "stderr",
     "output_type": "stream",
     "text": [
      "\r",
      " 25%|█████████▊                             | 319/1261 [01:09<03:21,  4.67it/s]"
     ]
    },
    {
     "name": "stdout",
     "output_type": "stream",
     "text": [
      "12417.9907091 m 971.788656843 m\n",
      "(4, 2)\n",
      "(720, 1280)\n",
      "(720, 1280, 3)\n"
     ]
    },
    {
     "name": "stderr",
     "output_type": "stream",
     "text": [
      "\r",
      " 25%|█████████▉                             | 320/1261 [01:09<03:24,  4.59it/s]"
     ]
    },
    {
     "name": "stdout",
     "output_type": "stream",
     "text": [
      "8452.39947478 m 727.135154968 m\n",
      "(4, 2)\n",
      "(720, 1280)\n",
      "(720, 1280, 3)\n"
     ]
    },
    {
     "name": "stderr",
     "output_type": "stream",
     "text": [
      "\r",
      " 25%|█████████▉                             | 321/1261 [01:09<03:30,  4.47it/s]"
     ]
    },
    {
     "name": "stdout",
     "output_type": "stream",
     "text": [
      "698733.791529 m 833.947792083 m\n",
      "(4, 2)\n",
      "(720, 1280)\n",
      "(720, 1280, 3)\n"
     ]
    },
    {
     "name": "stderr",
     "output_type": "stream",
     "text": [
      "\r",
      " 26%|█████████▉                             | 322/1261 [01:09<03:33,  4.41it/s]"
     ]
    },
    {
     "name": "stdout",
     "output_type": "stream",
     "text": [
      "29124.8371509 m 1050.43277687 m\n",
      "(4, 2)\n",
      "(720, 1280)\n",
      "(720, 1280, 3)\n"
     ]
    },
    {
     "name": "stderr",
     "output_type": "stream",
     "text": [
      "\r",
      " 26%|█████████▉                             | 323/1261 [01:09<03:33,  4.39it/s]"
     ]
    },
    {
     "name": "stdout",
     "output_type": "stream",
     "text": [
      "3900.34083792 m 1255.73421215 m\n",
      "(4, 2)\n",
      "(720, 1280)\n",
      "(720, 1280, 3)\n"
     ]
    },
    {
     "name": "stderr",
     "output_type": "stream",
     "text": [
      "\r",
      " 26%|██████████                             | 324/1261 [01:10<03:32,  4.41it/s]"
     ]
    },
    {
     "name": "stdout",
     "output_type": "stream",
     "text": [
      "4843.09097798 m 1927.35796074 m\n",
      "(4, 2)\n",
      "(720, 1280)\n",
      "(720, 1280, 3)\n"
     ]
    },
    {
     "name": "stderr",
     "output_type": "stream",
     "text": [
      "\r",
      " 26%|██████████                             | 325/1261 [01:10<03:28,  4.49it/s]"
     ]
    },
    {
     "name": "stdout",
     "output_type": "stream",
     "text": [
      "3522.31811947 m 2674.45779035 m\n",
      "(4, 2)\n",
      "(720, 1280)\n",
      "(720, 1280, 3)\n"
     ]
    },
    {
     "name": "stderr",
     "output_type": "stream",
     "text": [
      "\r",
      " 26%|██████████                             | 326/1261 [01:10<03:24,  4.56it/s]"
     ]
    },
    {
     "name": "stdout",
     "output_type": "stream",
     "text": [
      "5489.55544849 m 4492.76882085 m\n",
      "(4, 2)\n",
      "(720, 1280)\n",
      "(720, 1280, 3)\n"
     ]
    },
    {
     "name": "stderr",
     "output_type": "stream",
     "text": [
      "\r",
      " 26%|██████████                             | 327/1261 [01:10<03:22,  4.61it/s]"
     ]
    },
    {
     "name": "stdout",
     "output_type": "stream",
     "text": [
      "5767.19889302 m 7027.57422679 m\n",
      "(4, 2)\n",
      "(720, 1280)\n",
      "(720, 1280, 3)\n"
     ]
    },
    {
     "name": "stderr",
     "output_type": "stream",
     "text": [
      "\r",
      " 26%|██████████▏                            | 328/1261 [01:11<03:20,  4.65it/s]"
     ]
    },
    {
     "name": "stdout",
     "output_type": "stream",
     "text": [
      "4934.57351189 m 2025.72136343 m\n",
      "(4, 2)\n",
      "(720, 1280)\n",
      "(720, 1280, 3)\n"
     ]
    },
    {
     "name": "stderr",
     "output_type": "stream",
     "text": [
      "\r",
      " 26%|██████████▏                            | 329/1261 [01:11<03:21,  4.62it/s]"
     ]
    },
    {
     "name": "stdout",
     "output_type": "stream",
     "text": [
      "4782.17985845 m 3617.18904144 m\n",
      "(4, 2)\n",
      "(720, 1280)\n",
      "(720, 1280, 3)\n"
     ]
    },
    {
     "name": "stderr",
     "output_type": "stream",
     "text": [
      "\r",
      " 26%|██████████▏                            | 330/1261 [01:11<03:24,  4.56it/s]"
     ]
    },
    {
     "name": "stdout",
     "output_type": "stream",
     "text": [
      "5578.97490573 m 2712.19194454 m\n",
      "(4, 2)\n",
      "(720, 1280)\n",
      "(720, 1280, 3)\n"
     ]
    },
    {
     "name": "stderr",
     "output_type": "stream",
     "text": [
      "\r",
      " 26%|██████████▏                            | 331/1261 [01:11<03:24,  4.56it/s]"
     ]
    },
    {
     "name": "stdout",
     "output_type": "stream",
     "text": [
      "20808.4480645 m 1022.40678065 m\n",
      "(4, 2)\n",
      "(720, 1280)\n",
      "(720, 1280, 3)\n"
     ]
    },
    {
     "name": "stderr",
     "output_type": "stream",
     "text": [
      "\r",
      " 26%|██████████▎                            | 332/1261 [01:11<03:22,  4.58it/s]"
     ]
    },
    {
     "name": "stdout",
     "output_type": "stream",
     "text": [
      "21945.7442155 m 1163.24915263 m\n",
      "(4, 2)\n",
      "(720, 1280)\n",
      "(720, 1280, 3)\n"
     ]
    },
    {
     "name": "stderr",
     "output_type": "stream",
     "text": [
      "\r",
      " 26%|██████████▎                            | 333/1261 [01:12<03:21,  4.60it/s]"
     ]
    },
    {
     "name": "stdout",
     "output_type": "stream",
     "text": [
      "127575.972347 m 1803.89243803 m\n",
      "(4, 2)\n",
      "(720, 1280)\n",
      "(720, 1280, 3)\n"
     ]
    },
    {
     "name": "stderr",
     "output_type": "stream",
     "text": [
      "\r",
      " 26%|██████████▎                            | 334/1261 [01:12<03:21,  4.61it/s]"
     ]
    },
    {
     "name": "stdout",
     "output_type": "stream",
     "text": [
      "16125.8102164 m 2686.53726041 m\n",
      "(4, 2)\n",
      "(720, 1280)\n",
      "(720, 1280, 3)\n"
     ]
    },
    {
     "name": "stderr",
     "output_type": "stream",
     "text": [
      "\r",
      " 27%|██████████▎                            | 335/1261 [01:12<03:22,  4.57it/s]"
     ]
    },
    {
     "name": "stdout",
     "output_type": "stream",
     "text": [
      "18898.9260462 m 2144.0318422 m\n",
      "(4, 2)\n",
      "(720, 1280)\n",
      "(720, 1280, 3)\n"
     ]
    },
    {
     "name": "stderr",
     "output_type": "stream",
     "text": [
      "\r",
      " 27%|██████████▍                            | 336/1261 [01:12<03:19,  4.63it/s]"
     ]
    },
    {
     "name": "stdout",
     "output_type": "stream",
     "text": [
      "9721.90550649 m 3936.97141278 m\n",
      "(4, 2)\n",
      "(720, 1280)\n",
      "(720, 1280, 3)\n"
     ]
    },
    {
     "name": "stderr",
     "output_type": "stream",
     "text": [
      "\r",
      " 27%|██████████▍                            | 337/1261 [01:12<03:18,  4.65it/s]"
     ]
    },
    {
     "name": "stdout",
     "output_type": "stream",
     "text": [
      "3650.31735277 m 7627.82252708 m\n",
      "(4, 2)\n",
      "(720, 1280)\n",
      "(720, 1280, 3)\n"
     ]
    },
    {
     "name": "stderr",
     "output_type": "stream",
     "text": [
      "\r",
      " 27%|██████████▍                            | 338/1261 [01:13<03:17,  4.68it/s]"
     ]
    },
    {
     "name": "stdout",
     "output_type": "stream",
     "text": [
      "3281.65958156 m 9505.45060207 m\n",
      "(4, 2)\n",
      "(720, 1280)\n",
      "(720, 1280, 3)\n"
     ]
    },
    {
     "name": "stderr",
     "output_type": "stream",
     "text": [
      "\r",
      " 27%|██████████▍                            | 339/1261 [01:13<03:17,  4.68it/s]"
     ]
    },
    {
     "name": "stdout",
     "output_type": "stream",
     "text": [
      "2706.72478299 m 5655.04948558 m\n",
      "(4, 2)\n",
      "(720, 1280)\n",
      "(720, 1280, 3)\n"
     ]
    },
    {
     "name": "stderr",
     "output_type": "stream",
     "text": [
      "\r",
      " 27%|██████████▌                            | 340/1261 [01:13<03:18,  4.64it/s]"
     ]
    },
    {
     "name": "stdout",
     "output_type": "stream",
     "text": [
      "5046.32122902 m 2192.11069079 m\n",
      "(4, 2)\n",
      "(720, 1280)\n",
      "(720, 1280, 3)\n"
     ]
    },
    {
     "name": "stderr",
     "output_type": "stream",
     "text": [
      "\r",
      " 27%|██████████▌                            | 341/1261 [01:13<03:16,  4.68it/s]"
     ]
    },
    {
     "name": "stdout",
     "output_type": "stream",
     "text": [
      "66482.4515227 m 1097.8173987 m\n",
      "(4, 2)\n",
      "(720, 1280)\n",
      "(720, 1280, 3)\n"
     ]
    },
    {
     "name": "stderr",
     "output_type": "stream",
     "text": [
      "\r",
      " 27%|██████████▌                            | 342/1261 [01:14<03:15,  4.70it/s]"
     ]
    },
    {
     "name": "stdout",
     "output_type": "stream",
     "text": [
      "21027.1829741 m 1254.32593756 m\n",
      "(4, 2)\n",
      "(720, 1280)\n",
      "(720, 1280, 3)\n"
     ]
    },
    {
     "name": "stderr",
     "output_type": "stream",
     "text": [
      "\r",
      " 27%|██████████▌                            | 343/1261 [01:14<03:17,  4.65it/s]"
     ]
    },
    {
     "name": "stdout",
     "output_type": "stream",
     "text": [
      "6126.39084109 m 33834.7650716 m\n",
      "(4, 2)\n",
      "(720, 1280)\n",
      "(720, 1280, 3)\n"
     ]
    },
    {
     "name": "stderr",
     "output_type": "stream",
     "text": [
      "\r",
      " 27%|██████████▋                            | 344/1261 [01:14<03:15,  4.68it/s]"
     ]
    },
    {
     "name": "stdout",
     "output_type": "stream",
     "text": [
      "5624.09380069 m 4368.12984482 m\n",
      "(4, 2)\n",
      "(720, 1280)\n",
      "(720, 1280, 3)\n"
     ]
    },
    {
     "name": "stderr",
     "output_type": "stream",
     "text": [
      "\r",
      " 27%|██████████▋                            | 345/1261 [01:14<03:15,  4.69it/s]"
     ]
    },
    {
     "name": "stdout",
     "output_type": "stream",
     "text": [
      "2514.19023608 m 1238.93072745 m\n",
      "(4, 2)\n",
      "(720, 1280)\n",
      "(720, 1280, 3)\n"
     ]
    },
    {
     "name": "stderr",
     "output_type": "stream",
     "text": [
      "\r",
      " 27%|██████████▋                            | 346/1261 [01:14<03:16,  4.67it/s]"
     ]
    },
    {
     "name": "stdout",
     "output_type": "stream",
     "text": [
      "2185.52132175 m 1565.32558163 m\n",
      "(4, 2)\n",
      "(720, 1280)\n",
      "(720, 1280, 3)\n"
     ]
    },
    {
     "name": "stderr",
     "output_type": "stream",
     "text": [
      "\r",
      " 28%|██████████▋                            | 347/1261 [01:15<03:15,  4.68it/s]"
     ]
    },
    {
     "name": "stdout",
     "output_type": "stream",
     "text": [
      "3063.76185841 m 1811.27693172 m\n",
      "(4, 2)\n",
      "(720, 1280)\n",
      "(720, 1280, 3)\n"
     ]
    },
    {
     "name": "stderr",
     "output_type": "stream",
     "text": [
      "\r",
      " 28%|██████████▊                            | 348/1261 [01:15<03:16,  4.64it/s]"
     ]
    },
    {
     "name": "stdout",
     "output_type": "stream",
     "text": [
      "1924.03713727 m 5088.83141884 m\n",
      "(4, 2)\n",
      "(720, 1280)\n",
      "(720, 1280, 3)\n"
     ]
    },
    {
     "name": "stderr",
     "output_type": "stream",
     "text": [
      "\r",
      " 28%|██████████▊                            | 349/1261 [01:15<03:16,  4.64it/s]"
     ]
    },
    {
     "name": "stdout",
     "output_type": "stream",
     "text": [
      "3063.17991416 m 6926.37425962 m\n",
      "(4, 2)\n",
      "(720, 1280)\n",
      "(720, 1280, 3)\n"
     ]
    },
    {
     "name": "stderr",
     "output_type": "stream",
     "text": [
      "\r",
      " 28%|██████████▊                            | 350/1261 [01:15<03:15,  4.66it/s]"
     ]
    },
    {
     "name": "stdout",
     "output_type": "stream",
     "text": [
      "2722.48042301 m 12405.7191344 m\n",
      "(4, 2)\n",
      "(720, 1280)\n",
      "(720, 1280, 3)\n"
     ]
    },
    {
     "name": "stderr",
     "output_type": "stream",
     "text": [
      "\r",
      " 28%|██████████▊                            | 351/1261 [01:15<03:14,  4.68it/s]"
     ]
    },
    {
     "name": "stdout",
     "output_type": "stream",
     "text": [
      "3173.16283755 m 4101.34405909 m\n",
      "(4, 2)\n",
      "(720, 1280)\n",
      "(720, 1280, 3)\n"
     ]
    },
    {
     "name": "stderr",
     "output_type": "stream",
     "text": [
      "\r",
      " 28%|██████████▉                            | 352/1261 [01:16<03:12,  4.72it/s]"
     ]
    },
    {
     "name": "stdout",
     "output_type": "stream",
     "text": [
      "119760.412939 m 1770.50829332 m\n",
      "(4, 2)\n",
      "(720, 1280)\n",
      "(720, 1280, 3)\n"
     ]
    },
    {
     "name": "stderr",
     "output_type": "stream",
     "text": [
      "\r",
      " 28%|██████████▉                            | 353/1261 [01:16<03:15,  4.64it/s]"
     ]
    },
    {
     "name": "stdout",
     "output_type": "stream",
     "text": [
      "4902.69917271 m 1062.32062003 m\n",
      "(4, 2)\n",
      "(720, 1280)\n",
      "(720, 1280, 3)\n"
     ]
    },
    {
     "name": "stderr",
     "output_type": "stream",
     "text": [
      "\r",
      " 28%|██████████▉                            | 354/1261 [01:16<03:17,  4.59it/s]"
     ]
    },
    {
     "name": "stdout",
     "output_type": "stream",
     "text": [
      "4133.81683354 m 1189.73271207 m\n",
      "(4, 2)\n",
      "(720, 1280)\n",
      "(720, 1280, 3)\n"
     ]
    },
    {
     "name": "stderr",
     "output_type": "stream",
     "text": [
      "\r",
      " 28%|██████████▉                            | 355/1261 [01:16<03:15,  4.64it/s]"
     ]
    },
    {
     "name": "stdout",
     "output_type": "stream",
     "text": [
      "2088.10571105 m 1253.23467182 m\n",
      "(4, 2)\n",
      "(720, 1280)\n",
      "(720, 1280, 3)\n"
     ]
    },
    {
     "name": "stderr",
     "output_type": "stream",
     "text": [
      "\r",
      " 28%|███████████                            | 356/1261 [01:17<03:14,  4.64it/s]"
     ]
    },
    {
     "name": "stdout",
     "output_type": "stream",
     "text": [
      "1461.63098295 m 2059.68867064 m\n",
      "(4, 2)\n",
      "(720, 1280)\n",
      "(720, 1280, 3)\n"
     ]
    },
    {
     "name": "stderr",
     "output_type": "stream",
     "text": [
      "\r",
      " 28%|███████████                            | 357/1261 [01:17<03:15,  4.62it/s]"
     ]
    },
    {
     "name": "stdout",
     "output_type": "stream",
     "text": [
      "1385.31379116 m 926.254480373 m\n",
      "(4, 2)\n",
      "(720, 1280)\n",
      "(720, 1280, 3)\n"
     ]
    },
    {
     "name": "stderr",
     "output_type": "stream",
     "text": [
      "\r",
      " 28%|███████████                            | 358/1261 [01:17<03:13,  4.66it/s]"
     ]
    },
    {
     "name": "stdout",
     "output_type": "stream",
     "text": [
      "1628.66296419 m 1078.42486318 m\n",
      "(4, 2)\n",
      "(720, 1280)\n",
      "(720, 1280, 3)\n"
     ]
    },
    {
     "name": "stderr",
     "output_type": "stream",
     "text": [
      "\r",
      " 28%|███████████                            | 359/1261 [01:17<03:14,  4.64it/s]"
     ]
    },
    {
     "name": "stdout",
     "output_type": "stream",
     "text": [
      "2003.26649913 m 1727.58682313 m\n",
      "(4, 2)\n",
      "(720, 1280)\n",
      "(720, 1280, 3)\n"
     ]
    },
    {
     "name": "stderr",
     "output_type": "stream",
     "text": [
      "\r",
      " 29%|███████████▏                           | 360/1261 [01:17<03:12,  4.68it/s]"
     ]
    },
    {
     "name": "stdout",
     "output_type": "stream",
     "text": [
      "1992.25541789 m 2541.36092167 m\n",
      "(4, 2)\n",
      "(720, 1280)\n",
      "(720, 1280, 3)\n"
     ]
    },
    {
     "name": "stderr",
     "output_type": "stream",
     "text": [
      "\r",
      " 29%|███████████▏                           | 361/1261 [01:18<03:11,  4.71it/s]"
     ]
    },
    {
     "name": "stdout",
     "output_type": "stream",
     "text": [
      "2584.57854656 m 7768.87179521 m\n",
      "(4, 2)\n",
      "(720, 1280)\n",
      "(720, 1280, 3)\n"
     ]
    },
    {
     "name": "stderr",
     "output_type": "stream",
     "text": [
      "\r",
      " 29%|███████████▏                           | 362/1261 [01:18<03:12,  4.67it/s]"
     ]
    },
    {
     "name": "stdout",
     "output_type": "stream",
     "text": [
      "4679.89476402 m 14440.547504 m\n",
      "(4, 2)\n",
      "(720, 1280)\n",
      "(720, 1280, 3)\n"
     ]
    },
    {
     "name": "stderr",
     "output_type": "stream",
     "text": [
      "\r",
      " 29%|███████████▏                           | 363/1261 [01:18<03:15,  4.60it/s]"
     ]
    },
    {
     "name": "stdout",
     "output_type": "stream",
     "text": [
      "27209.8335917 m 6436.34441847 m\n",
      "(4, 2)\n",
      "(720, 1280)\n",
      "(720, 1280, 3)\n"
     ]
    },
    {
     "name": "stderr",
     "output_type": "stream",
     "text": [
      "\r",
      " 29%|███████████▎                           | 364/1261 [01:18<03:14,  4.60it/s]"
     ]
    },
    {
     "name": "stdout",
     "output_type": "stream",
     "text": [
      "6499.7165335 m 1412.01806398 m\n",
      "(4, 2)\n",
      "(720, 1280)\n",
      "(720, 1280, 3)\n"
     ]
    },
    {
     "name": "stderr",
     "output_type": "stream",
     "text": [
      "\r",
      " 29%|███████████▎                           | 365/1261 [01:19<03:16,  4.57it/s]"
     ]
    },
    {
     "name": "stdout",
     "output_type": "stream",
     "text": [
      "2571.57309363 m 2137.77134578 m\n",
      "(4, 2)\n",
      "(720, 1280)\n",
      "(720, 1280, 3)\n"
     ]
    },
    {
     "name": "stderr",
     "output_type": "stream",
     "text": [
      "\r",
      " 29%|███████████▎                           | 366/1261 [01:19<03:14,  4.59it/s]"
     ]
    },
    {
     "name": "stdout",
     "output_type": "stream",
     "text": [
      "1706.84967863 m 2501.20123046 m\n",
      "(4, 2)\n",
      "(720, 1280)\n",
      "(720, 1280, 3)\n"
     ]
    },
    {
     "name": "stderr",
     "output_type": "stream",
     "text": [
      "\r",
      " 29%|███████████▎                           | 367/1261 [01:19<03:15,  4.58it/s]"
     ]
    },
    {
     "name": "stdout",
     "output_type": "stream",
     "text": [
      "1241.52810201 m 2274.28236227 m\n",
      "(4, 2)\n",
      "(720, 1280)\n",
      "(720, 1280, 3)\n"
     ]
    },
    {
     "name": "stderr",
     "output_type": "stream",
     "text": [
      "\r",
      " 29%|███████████▍                           | 368/1261 [01:19<03:14,  4.58it/s]"
     ]
    },
    {
     "name": "stdout",
     "output_type": "stream",
     "text": [
      "1091.78462538 m 1547.66381128 m\n",
      "(4, 2)\n",
      "(720, 1280)\n",
      "(720, 1280, 3)\n"
     ]
    },
    {
     "name": "stderr",
     "output_type": "stream",
     "text": [
      "\r",
      " 29%|███████████▍                           | 369/1261 [01:19<03:22,  4.40it/s]"
     ]
    },
    {
     "name": "stdout",
     "output_type": "stream",
     "text": [
      "1029.13619888 m 1071.89618777 m\n",
      "(4, 2)\n",
      "(720, 1280)\n",
      "(720, 1280, 3)\n"
     ]
    },
    {
     "name": "stderr",
     "output_type": "stream",
     "text": [
      "\r",
      " 29%|███████████▍                           | 370/1261 [01:20<03:31,  4.22it/s]"
     ]
    },
    {
     "name": "stdout",
     "output_type": "stream",
     "text": [
      "1038.62390869 m 1636.69090821 m\n",
      "(4, 2)\n",
      "(720, 1280)\n",
      "(720, 1280, 3)\n"
     ]
    },
    {
     "name": "stderr",
     "output_type": "stream",
     "text": [
      "\r",
      " 29%|███████████▍                           | 371/1261 [01:20<03:27,  4.30it/s]"
     ]
    },
    {
     "name": "stdout",
     "output_type": "stream",
     "text": [
      "995.631015514 m 2958.17993465 m\n",
      "(4, 2)\n",
      "(720, 1280)\n",
      "(720, 1280, 3)\n"
     ]
    },
    {
     "name": "stderr",
     "output_type": "stream",
     "text": [
      "\r",
      " 30%|███████████▌                           | 372/1261 [01:20<03:27,  4.28it/s]"
     ]
    },
    {
     "name": "stdout",
     "output_type": "stream",
     "text": [
      "1069.84726791 m 4862.21424979 m\n",
      "(4, 2)\n",
      "(720, 1280)\n",
      "(720, 1280, 3)\n"
     ]
    },
    {
     "name": "stderr",
     "output_type": "stream",
     "text": [
      "\r",
      " 30%|███████████▌                           | 373/1261 [01:20<03:26,  4.31it/s]"
     ]
    },
    {
     "name": "stdout",
     "output_type": "stream",
     "text": [
      "1298.41226913 m 15318.7917865 m\n",
      "(4, 2)\n",
      "(720, 1280)\n",
      "(720, 1280, 3)\n"
     ]
    },
    {
     "name": "stderr",
     "output_type": "stream",
     "text": [
      "\r",
      " 30%|███████████▌                           | 374/1261 [01:21<03:25,  4.32it/s]"
     ]
    },
    {
     "name": "stdout",
     "output_type": "stream",
     "text": [
      "1302.01016064 m 3295.56675351 m\n",
      "(4, 2)\n",
      "(720, 1280)\n",
      "(720, 1280, 3)\n"
     ]
    },
    {
     "name": "stderr",
     "output_type": "stream",
     "text": [
      "\r",
      " 30%|███████████▌                           | 375/1261 [01:21<03:25,  4.32it/s]"
     ]
    },
    {
     "name": "stdout",
     "output_type": "stream",
     "text": [
      "1678.67045781 m 2847.7309139 m\n",
      "(4, 2)\n",
      "(720, 1280)\n",
      "(720, 1280, 3)\n"
     ]
    },
    {
     "name": "stderr",
     "output_type": "stream",
     "text": [
      "\r",
      " 30%|███████████▋                           | 376/1261 [01:21<03:24,  4.33it/s]"
     ]
    },
    {
     "name": "stdout",
     "output_type": "stream",
     "text": [
      "3094.25179497 m 989.615005848 m\n",
      "(4, 2)\n",
      "(720, 1280)\n",
      "(720, 1280, 3)\n"
     ]
    },
    {
     "name": "stderr",
     "output_type": "stream",
     "text": [
      "\r",
      " 30%|███████████▋                           | 377/1261 [01:21<03:21,  4.40it/s]"
     ]
    },
    {
     "name": "stdout",
     "output_type": "stream",
     "text": [
      "3402.56228702 m 1068.75494011 m\n",
      "(4, 2)\n",
      "(720, 1280)\n",
      "(720, 1280, 3)\n"
     ]
    },
    {
     "name": "stderr",
     "output_type": "stream",
     "text": [
      "\r",
      " 30%|███████████▋                           | 378/1261 [01:21<03:16,  4.49it/s]"
     ]
    },
    {
     "name": "stdout",
     "output_type": "stream",
     "text": [
      "4678.9024334 m 1158.44298548 m\n",
      "(4, 2)\n",
      "(720, 1280)\n",
      "(720, 1280, 3)\n"
     ]
    },
    {
     "name": "stderr",
     "output_type": "stream",
     "text": [
      "\r",
      " 30%|███████████▋                           | 379/1261 [01:22<03:13,  4.56it/s]"
     ]
    },
    {
     "name": "stdout",
     "output_type": "stream",
     "text": [
      "9396.50382739 m 2582.17580902 m\n",
      "(4, 2)\n",
      "(720, 1280)\n",
      "(720, 1280, 3)\n"
     ]
    },
    {
     "name": "stderr",
     "output_type": "stream",
     "text": [
      "\r",
      " 30%|███████████▊                           | 380/1261 [01:22<03:13,  4.54it/s]"
     ]
    },
    {
     "name": "stdout",
     "output_type": "stream",
     "text": [
      "8730.48126191 m 3585.26045978 m\n",
      "(4, 2)\n",
      "(720, 1280)\n",
      "(720, 1280, 3)\n"
     ]
    },
    {
     "name": "stderr",
     "output_type": "stream",
     "text": [
      "\r",
      " 30%|███████████▊                           | 381/1261 [01:22<03:14,  4.53it/s]"
     ]
    },
    {
     "name": "stdout",
     "output_type": "stream",
     "text": [
      "2840.40915993 m 1432.12991028 m\n",
      "(4, 2)\n",
      "(720, 1280)\n",
      "(720, 1280, 3)\n"
     ]
    },
    {
     "name": "stderr",
     "output_type": "stream",
     "text": [
      "\r",
      " 30%|███████████▊                           | 382/1261 [01:22<03:12,  4.55it/s]"
     ]
    },
    {
     "name": "stdout",
     "output_type": "stream",
     "text": [
      "3204.40437743 m 1854.33187361 m\n",
      "(4, 2)\n",
      "(720, 1280)\n",
      "(720, 1280, 3)\n"
     ]
    },
    {
     "name": "stderr",
     "output_type": "stream",
     "text": [
      "\r",
      " 30%|███████████▊                           | 383/1261 [01:23<03:12,  4.56it/s]"
     ]
    },
    {
     "name": "stdout",
     "output_type": "stream",
     "text": [
      "2506.99522369 m 3907.61641206 m\n",
      "(4, 2)\n",
      "(720, 1280)\n",
      "(720, 1280, 3)\n"
     ]
    },
    {
     "name": "stderr",
     "output_type": "stream",
     "text": [
      "\r",
      " 30%|███████████▉                           | 384/1261 [01:23<03:10,  4.60it/s]"
     ]
    },
    {
     "name": "stdout",
     "output_type": "stream",
     "text": [
      "2883.33093647 m 7534.22668222 m\n",
      "(4, 2)\n",
      "(720, 1280)\n",
      "(720, 1280, 3)\n"
     ]
    },
    {
     "name": "stderr",
     "output_type": "stream",
     "text": [
      "\r",
      " 31%|███████████▉                           | 385/1261 [01:23<03:10,  4.60it/s]"
     ]
    },
    {
     "name": "stdout",
     "output_type": "stream",
     "text": [
      "2229.07415563 m 63309.71308 m\n",
      "(4, 2)\n",
      "(720, 1280)\n",
      "(720, 1280, 3)\n"
     ]
    },
    {
     "name": "stderr",
     "output_type": "stream",
     "text": [
      "\r",
      " 31%|███████████▉                           | 386/1261 [01:23<03:16,  4.46it/s]"
     ]
    },
    {
     "name": "stdout",
     "output_type": "stream",
     "text": [
      "2455.59640041 m 22379.217638 m\n",
      "(4, 2)\n",
      "(720, 1280)\n",
      "(720, 1280, 3)\n"
     ]
    },
    {
     "name": "stderr",
     "output_type": "stream",
     "text": [
      "\r",
      " 31%|███████████▉                           | 387/1261 [01:24<03:25,  4.25it/s]"
     ]
    },
    {
     "name": "stdout",
     "output_type": "stream",
     "text": [
      "4296.38733729 m 3637.62309319 m\n",
      "(4, 2)\n",
      "(720, 1280)\n",
      "(720, 1280, 3)\n"
     ]
    },
    {
     "name": "stderr",
     "output_type": "stream",
     "text": [
      "\r",
      " 31%|████████████                           | 388/1261 [01:24<03:31,  4.13it/s]"
     ]
    },
    {
     "name": "stdout",
     "output_type": "stream",
     "text": [
      "3224.27028556 m 1437.67066602 m\n",
      "(4, 2)\n",
      "(720, 1280)\n",
      "(720, 1280, 3)\n"
     ]
    },
    {
     "name": "stderr",
     "output_type": "stream",
     "text": [
      "\r",
      " 31%|████████████                           | 389/1261 [01:24<03:29,  4.17it/s]"
     ]
    },
    {
     "name": "stdout",
     "output_type": "stream",
     "text": [
      "6372.12192726 m 873.359817134 m\n",
      "(4, 2)\n",
      "(720, 1280)\n",
      "(720, 1280, 3)\n"
     ]
    },
    {
     "name": "stderr",
     "output_type": "stream",
     "text": [
      "\r",
      " 31%|████████████                           | 390/1261 [01:24<03:21,  4.33it/s]"
     ]
    },
    {
     "name": "stdout",
     "output_type": "stream",
     "text": [
      "9349.56423644 m 1091.60609319 m\n",
      "(4, 2)\n",
      "(720, 1280)\n",
      "(720, 1280, 3)\n"
     ]
    },
    {
     "name": "stderr",
     "output_type": "stream",
     "text": [
      "\r",
      " 31%|████████████                           | 391/1261 [01:24<03:21,  4.32it/s]"
     ]
    },
    {
     "name": "stdout",
     "output_type": "stream",
     "text": [
      "17196.428536 m 1161.23449905 m\n",
      "(4, 2)\n",
      "(720, 1280)\n",
      "(720, 1280, 3)\n"
     ]
    },
    {
     "name": "stderr",
     "output_type": "stream",
     "text": [
      "\r",
      " 31%|████████████                           | 392/1261 [01:25<03:16,  4.42it/s]"
     ]
    },
    {
     "name": "stdout",
     "output_type": "stream",
     "text": [
      "39950.180805 m 2621.42153683 m\n",
      "(4, 2)\n",
      "(720, 1280)\n",
      "(720, 1280, 3)\n"
     ]
    },
    {
     "name": "stderr",
     "output_type": "stream",
     "text": [
      "\r",
      " 31%|████████████▏                          | 393/1261 [01:25<03:17,  4.40it/s]"
     ]
    },
    {
     "name": "stdout",
     "output_type": "stream",
     "text": [
      "11616.7484818 m 1163.9636254 m\n",
      "(4, 2)\n",
      "(720, 1280)\n",
      "(720, 1280, 3)\n"
     ]
    },
    {
     "name": "stderr",
     "output_type": "stream",
     "text": [
      "\r",
      " 31%|████████████▏                          | 394/1261 [01:25<03:13,  4.48it/s]"
     ]
    },
    {
     "name": "stdout",
     "output_type": "stream",
     "text": [
      "6521.99703649 m 1807.66227617 m\n",
      "(4, 2)\n",
      "(720, 1280)\n",
      "(720, 1280, 3)\n"
     ]
    },
    {
     "name": "stderr",
     "output_type": "stream",
     "text": [
      "\r",
      " 31%|████████████▏                          | 395/1261 [01:25<03:11,  4.53it/s]"
     ]
    },
    {
     "name": "stdout",
     "output_type": "stream",
     "text": [
      "49108.3187819 m 2656.28580106 m\n",
      "(4, 2)\n",
      "(720, 1280)\n",
      "(720, 1280, 3)\n"
     ]
    },
    {
     "name": "stderr",
     "output_type": "stream",
     "text": [
      "\r",
      " 31%|████████████▏                          | 396/1261 [01:26<03:14,  4.46it/s]"
     ]
    },
    {
     "name": "stdout",
     "output_type": "stream",
     "text": [
      "6133.00282142 m 4724.37650011 m\n",
      "(4, 2)\n",
      "(720, 1280)\n",
      "(720, 1280, 3)\n"
     ]
    },
    {
     "name": "stderr",
     "output_type": "stream",
     "text": [
      "\r",
      " 31%|████████████▎                          | 397/1261 [01:26<03:20,  4.31it/s]"
     ]
    },
    {
     "name": "stdout",
     "output_type": "stream",
     "text": [
      "3635.97826822 m 5532.75744634 m\n",
      "(4, 2)\n",
      "(720, 1280)\n",
      "(720, 1280, 3)\n"
     ]
    },
    {
     "name": "stderr",
     "output_type": "stream",
     "text": [
      "\r",
      " 32%|████████████▎                          | 398/1261 [01:26<03:24,  4.21it/s]"
     ]
    },
    {
     "name": "stdout",
     "output_type": "stream",
     "text": [
      "2331.74377918 m 110756.489401 m\n",
      "(4, 2)\n",
      "(720, 1280)\n",
      "(720, 1280, 3)\n"
     ]
    },
    {
     "name": "stderr",
     "output_type": "stream",
     "text": [
      "\r",
      " 32%|████████████▎                          | 399/1261 [01:26<03:20,  4.29it/s]"
     ]
    },
    {
     "name": "stdout",
     "output_type": "stream",
     "text": [
      "2286.41615168 m 6382.59036157 m\n",
      "(4, 2)\n",
      "(720, 1280)\n",
      "(720, 1280, 3)\n"
     ]
    },
    {
     "name": "stderr",
     "output_type": "stream",
     "text": [
      "\r",
      " 32%|████████████▎                          | 400/1261 [01:26<03:17,  4.36it/s]"
     ]
    },
    {
     "name": "stdout",
     "output_type": "stream",
     "text": [
      "1932.30599419 m 2164.03596617 m\n",
      "(4, 2)\n",
      "(720, 1280)\n",
      "(720, 1280, 3)\n"
     ]
    },
    {
     "name": "stderr",
     "output_type": "stream",
     "text": [
      "\r",
      " 32%|████████████▍                          | 401/1261 [01:27<03:19,  4.31it/s]"
     ]
    },
    {
     "name": "stdout",
     "output_type": "stream",
     "text": [
      "2294.44585979 m 920.046332724 m\n",
      "(4, 2)\n",
      "(720, 1280)\n",
      "(720, 1280, 3)\n"
     ]
    },
    {
     "name": "stderr",
     "output_type": "stream",
     "text": [
      "\r",
      " 32%|████████████▍                          | 402/1261 [01:27<03:24,  4.21it/s]"
     ]
    },
    {
     "name": "stdout",
     "output_type": "stream",
     "text": [
      "2849.92022079 m 919.141814011 m\n",
      "(4, 2)\n",
      "(720, 1280)\n",
      "(720, 1280, 3)\n"
     ]
    },
    {
     "name": "stderr",
     "output_type": "stream",
     "text": [
      "\r",
      " 32%|████████████▍                          | 403/1261 [01:27<03:17,  4.34it/s]"
     ]
    },
    {
     "name": "stdout",
     "output_type": "stream",
     "text": [
      "2175.66703459 m 977.252154001 m\n",
      "(4, 2)\n",
      "(720, 1280)\n",
      "(720, 1280, 3)\n"
     ]
    },
    {
     "name": "stderr",
     "output_type": "stream",
     "text": [
      "\r",
      " 32%|████████████▍                          | 404/1261 [01:27<03:16,  4.35it/s]"
     ]
    },
    {
     "name": "stdout",
     "output_type": "stream",
     "text": [
      "3791.49746414 m 789.912863587 m\n",
      "(4, 2)\n",
      "(720, 1280)\n",
      "(720, 1280, 3)\n"
     ]
    },
    {
     "name": "stderr",
     "output_type": "stream",
     "text": [
      "\r",
      " 32%|████████████▌                          | 405/1261 [01:28<03:15,  4.38it/s]"
     ]
    },
    {
     "name": "stdout",
     "output_type": "stream",
     "text": [
      "4324.88936249 m 1273.15680963 m\n",
      "(4, 2)\n",
      "(720, 1280)\n",
      "(720, 1280, 3)\n"
     ]
    },
    {
     "name": "stderr",
     "output_type": "stream",
     "text": [
      "\r",
      " 32%|████████████▌                          | 406/1261 [01:28<03:11,  4.47it/s]"
     ]
    },
    {
     "name": "stdout",
     "output_type": "stream",
     "text": [
      "52942.0607279 m 1155.27550639 m\n",
      "(4, 2)\n",
      "(720, 1280)\n",
      "(720, 1280, 3)\n"
     ]
    },
    {
     "name": "stderr",
     "output_type": "stream",
     "text": [
      "\r",
      " 32%|████████████▌                          | 407/1261 [01:28<03:11,  4.46it/s]"
     ]
    },
    {
     "name": "stdout",
     "output_type": "stream",
     "text": [
      "9212.45857889 m 1980.70703546 m\n",
      "(4, 2)\n",
      "(720, 1280)\n",
      "(720, 1280, 3)\n"
     ]
    },
    {
     "name": "stderr",
     "output_type": "stream",
     "text": [
      "\r",
      " 32%|████████████▌                          | 408/1261 [01:28<03:08,  4.52it/s]"
     ]
    },
    {
     "name": "stdout",
     "output_type": "stream",
     "text": [
      "5898.49978274 m 2350.67592652 m\n",
      "(4, 2)\n",
      "(720, 1280)\n",
      "(720, 1280, 3)\n"
     ]
    },
    {
     "name": "stderr",
     "output_type": "stream",
     "text": [
      "\r",
      " 32%|████████████▋                          | 409/1261 [01:29<03:10,  4.47it/s]"
     ]
    },
    {
     "name": "stdout",
     "output_type": "stream",
     "text": [
      "7995.33213569 m 3411.88279699 m\n",
      "(4, 2)\n",
      "(720, 1280)\n",
      "(720, 1280, 3)\n"
     ]
    },
    {
     "name": "stderr",
     "output_type": "stream",
     "text": [
      "\r",
      " 33%|████████████▋                          | 410/1261 [01:29<03:07,  4.53it/s]"
     ]
    },
    {
     "name": "stdout",
     "output_type": "stream",
     "text": [
      "5488.18312512 m 6703.30472004 m\n",
      "(4, 2)\n",
      "(720, 1280)\n",
      "(720, 1280, 3)\n"
     ]
    },
    {
     "name": "stderr",
     "output_type": "stream",
     "text": [
      "\r",
      " 33%|████████████▋                          | 411/1261 [01:29<03:04,  4.60it/s]"
     ]
    },
    {
     "name": "stdout",
     "output_type": "stream",
     "text": [
      "6323.64783389 m 13938.707071 m\n",
      "(4, 2)\n",
      "(720, 1280)\n",
      "(720, 1280, 3)\n"
     ]
    },
    {
     "name": "stderr",
     "output_type": "stream",
     "text": [
      "\r",
      " 33%|████████████▋                          | 412/1261 [01:29<03:03,  4.63it/s]"
     ]
    },
    {
     "name": "stdout",
     "output_type": "stream",
     "text": [
      "14537.0253568 m 2274.85056843 m\n",
      "(4, 2)\n",
      "(720, 1280)\n",
      "(720, 1280, 3)\n"
     ]
    },
    {
     "name": "stderr",
     "output_type": "stream",
     "text": [
      "\r",
      " 33%|████████████▊                          | 413/1261 [01:29<03:03,  4.63it/s]"
     ]
    },
    {
     "name": "stdout",
     "output_type": "stream",
     "text": [
      "5463.56183173 m 1007.94845933 m\n",
      "(4, 2)\n",
      "(720, 1280)\n",
      "(720, 1280, 3)\n"
     ]
    },
    {
     "name": "stderr",
     "output_type": "stream",
     "text": [
      "\r",
      " 33%|████████████▊                          | 414/1261 [01:30<03:02,  4.65it/s]"
     ]
    },
    {
     "name": "stdout",
     "output_type": "stream",
     "text": [
      "20175.7088738 m 906.611849969 m\n",
      "(4, 2)\n",
      "(720, 1280)\n",
      "(720, 1280, 3)\n"
     ]
    },
    {
     "name": "stderr",
     "output_type": "stream",
     "text": [
      "\r",
      " 33%|████████████▊                          | 415/1261 [01:30<03:02,  4.64it/s]"
     ]
    },
    {
     "name": "stdout",
     "output_type": "stream",
     "text": [
      "8346.16158761 m 1094.41249484 m\n",
      "(4, 2)\n",
      "(720, 1280)\n",
      "(720, 1280, 3)\n"
     ]
    },
    {
     "name": "stderr",
     "output_type": "stream",
     "text": [
      "\r",
      " 33%|████████████▊                          | 416/1261 [01:30<03:01,  4.66it/s]"
     ]
    },
    {
     "name": "stdout",
     "output_type": "stream",
     "text": [
      "5754.13779167 m 1136.09392453 m\n",
      "(4, 2)\n",
      "(720, 1280)\n",
      "(720, 1280, 3)\n"
     ]
    },
    {
     "name": "stderr",
     "output_type": "stream",
     "text": [
      "\r",
      " 33%|████████████▉                          | 417/1261 [01:30<03:00,  4.69it/s]"
     ]
    },
    {
     "name": "stdout",
     "output_type": "stream",
     "text": [
      "3578.95052408 m 1056.87003242 m\n",
      "(4, 2)\n",
      "(720, 1280)\n",
      "(720, 1280, 3)\n"
     ]
    },
    {
     "name": "stderr",
     "output_type": "stream",
     "text": [
      "\r",
      " 33%|████████████▉                          | 418/1261 [01:30<03:01,  4.64it/s]"
     ]
    },
    {
     "name": "stdout",
     "output_type": "stream",
     "text": [
      "6547.88821588 m 3454.62598943 m\n",
      "(4, 2)\n",
      "(720, 1280)\n",
      "(720, 1280, 3)\n"
     ]
    },
    {
     "name": "stderr",
     "output_type": "stream",
     "text": [
      "\r",
      " 33%|████████████▉                          | 419/1261 [01:31<03:02,  4.61it/s]"
     ]
    },
    {
     "name": "stdout",
     "output_type": "stream",
     "text": [
      "3360.63082121 m 5123.91308928 m\n",
      "(4, 2)\n",
      "(720, 1280)\n",
      "(720, 1280, 3)\n"
     ]
    },
    {
     "name": "stderr",
     "output_type": "stream",
     "text": [
      "\r",
      " 33%|████████████▉                          | 420/1261 [01:31<03:03,  4.60it/s]"
     ]
    },
    {
     "name": "stdout",
     "output_type": "stream",
     "text": [
      "3132.28966898 m 2696.98238602 m\n",
      "(4, 2)\n",
      "(720, 1280)\n",
      "(720, 1280, 3)\n"
     ]
    },
    {
     "name": "stderr",
     "output_type": "stream",
     "text": [
      "\r",
      " 33%|█████████████                          | 421/1261 [01:31<03:02,  4.59it/s]"
     ]
    },
    {
     "name": "stdout",
     "output_type": "stream",
     "text": [
      "2059.35202239 m 10032.3530528 m\n",
      "(4, 2)\n",
      "(720, 1280)\n",
      "(720, 1280, 3)\n"
     ]
    },
    {
     "name": "stderr",
     "output_type": "stream",
     "text": [
      "\r",
      " 33%|█████████████                          | 422/1261 [01:31<03:01,  4.62it/s]"
     ]
    },
    {
     "name": "stdout",
     "output_type": "stream",
     "text": [
      "2651.48950347 m 565184.261324 m\n",
      "(4, 2)\n",
      "(720, 1280)\n",
      "(720, 1280, 3)\n"
     ]
    },
    {
     "name": "stderr",
     "output_type": "stream",
     "text": [
      "\r",
      " 34%|█████████████                          | 423/1261 [01:32<03:00,  4.65it/s]"
     ]
    },
    {
     "name": "stdout",
     "output_type": "stream",
     "text": [
      "3149.87784228 m 4573.0182072 m\n",
      "(4, 2)\n",
      "(720, 1280)\n",
      "(720, 1280, 3)\n"
     ]
    },
    {
     "name": "stderr",
     "output_type": "stream",
     "text": [
      "\r",
      " 34%|█████████████                          | 424/1261 [01:32<03:00,  4.64it/s]"
     ]
    },
    {
     "name": "stdout",
     "output_type": "stream",
     "text": [
      "1961.73067513 m 2120.87335267 m\n",
      "(4, 2)\n",
      "(720, 1280)\n",
      "(720, 1280, 3)\n"
     ]
    },
    {
     "name": "stderr",
     "output_type": "stream",
     "text": [
      "\r",
      " 34%|█████████████▏                         | 425/1261 [01:32<03:01,  4.60it/s]"
     ]
    },
    {
     "name": "stdout",
     "output_type": "stream",
     "text": [
      "2214.81534375 m 1438.29527121 m\n",
      "(4, 2)\n",
      "(720, 1280)\n",
      "(720, 1280, 3)\n"
     ]
    },
    {
     "name": "stderr",
     "output_type": "stream",
     "text": [
      "\r",
      " 34%|█████████████▏                         | 426/1261 [01:32<03:01,  4.61it/s]"
     ]
    },
    {
     "name": "stdout",
     "output_type": "stream",
     "text": [
      "2531.71862473 m 1121.50747911 m\n",
      "(4, 2)\n",
      "(720, 1280)\n",
      "(720, 1280, 3)\n"
     ]
    },
    {
     "name": "stderr",
     "output_type": "stream",
     "text": [
      "\r",
      " 34%|█████████████▏                         | 427/1261 [01:32<03:02,  4.57it/s]"
     ]
    },
    {
     "name": "stdout",
     "output_type": "stream",
     "text": [
      "2159.63406349 m 1195.47428418 m\n",
      "(4, 2)\n",
      "(720, 1280)\n",
      "(720, 1280, 3)\n"
     ]
    },
    {
     "name": "stderr",
     "output_type": "stream",
     "text": [
      "\r",
      " 34%|█████████████▏                         | 428/1261 [01:33<03:00,  4.60it/s]"
     ]
    },
    {
     "name": "stdout",
     "output_type": "stream",
     "text": [
      "2958.58332305 m 4010.02444932 m\n",
      "(4, 2)\n",
      "(720, 1280)\n",
      "(720, 1280, 3)\n"
     ]
    },
    {
     "name": "stderr",
     "output_type": "stream",
     "text": [
      "\r",
      " 34%|█████████████▎                         | 429/1261 [01:33<02:59,  4.63it/s]"
     ]
    },
    {
     "name": "stdout",
     "output_type": "stream",
     "text": [
      "4835.62348736 m 1131.27722392 m\n",
      "(4, 2)\n",
      "(720, 1280)\n",
      "(720, 1280, 3)\n"
     ]
    },
    {
     "name": "stderr",
     "output_type": "stream",
     "text": [
      "\r",
      " 34%|█████████████▎                         | 430/1261 [01:33<02:58,  4.65it/s]"
     ]
    },
    {
     "name": "stdout",
     "output_type": "stream",
     "text": [
      "6035.39340779 m 1495.72605719 m\n",
      "(4, 2)\n",
      "(720, 1280)\n",
      "(720, 1280, 3)\n"
     ]
    },
    {
     "name": "stderr",
     "output_type": "stream",
     "text": [
      "\r",
      " 34%|█████████████▎                         | 431/1261 [01:33<02:58,  4.65it/s]"
     ]
    },
    {
     "name": "stdout",
     "output_type": "stream",
     "text": [
      "6749.02040281 m 105449.442137 m\n",
      "(4, 2)\n",
      "(720, 1280)\n",
      "(720, 1280, 3)\n"
     ]
    },
    {
     "name": "stderr",
     "output_type": "stream",
     "text": [
      "\r",
      " 34%|█████████████▎                         | 432/1261 [01:33<02:55,  4.73it/s]"
     ]
    },
    {
     "name": "stdout",
     "output_type": "stream",
     "text": [
      "8302.05518842 m 42124.1912637 m\n",
      "(4, 2)\n",
      "(720, 1280)\n",
      "(720, 1280, 3)\n"
     ]
    },
    {
     "name": "stderr",
     "output_type": "stream",
     "text": [
      "\r",
      " 34%|█████████████▍                         | 433/1261 [01:34<02:54,  4.74it/s]"
     ]
    },
    {
     "name": "stdout",
     "output_type": "stream",
     "text": [
      "79372.2843297 m 2296.95186603 m\n",
      "(4, 2)\n",
      "(720, 1280)\n",
      "(720, 1280, 3)\n"
     ]
    },
    {
     "name": "stderr",
     "output_type": "stream",
     "text": [
      "\r",
      " 34%|█████████████▍                         | 434/1261 [01:34<02:57,  4.66it/s]"
     ]
    },
    {
     "name": "stdout",
     "output_type": "stream",
     "text": [
      "101818.340677 m 2989.9443304 m\n",
      "(4, 2)\n",
      "(720, 1280)\n",
      "(720, 1280, 3)\n"
     ]
    },
    {
     "name": "stderr",
     "output_type": "stream",
     "text": [
      "\r",
      " 34%|█████████████▍                         | 435/1261 [01:34<03:01,  4.56it/s]"
     ]
    },
    {
     "name": "stdout",
     "output_type": "stream",
     "text": [
      "28478.6951136 m 10462.4152774 m\n",
      "(4, 2)\n",
      "(720, 1280)\n",
      "(720, 1280, 3)\n"
     ]
    },
    {
     "name": "stderr",
     "output_type": "stream",
     "text": [
      "\r",
      " 35%|█████████████▍                         | 436/1261 [01:34<03:01,  4.54it/s]"
     ]
    },
    {
     "name": "stdout",
     "output_type": "stream",
     "text": [
      "7046.22416638 m 1744.51218691 m\n",
      "(4, 2)\n",
      "(720, 1280)\n",
      "(720, 1280, 3)\n"
     ]
    },
    {
     "name": "stderr",
     "output_type": "stream",
     "text": [
      "\r",
      " 35%|█████████████▌                         | 437/1261 [01:35<02:58,  4.61it/s]"
     ]
    },
    {
     "name": "stdout",
     "output_type": "stream",
     "text": [
      "35090.2769639 m 1299.03169395 m\n",
      "(4, 2)\n",
      "(720, 1280)\n",
      "(720, 1280, 3)\n"
     ]
    },
    {
     "name": "stderr",
     "output_type": "stream",
     "text": [
      "\r",
      " 35%|█████████████▌                         | 438/1261 [01:35<02:58,  4.60it/s]"
     ]
    },
    {
     "name": "stdout",
     "output_type": "stream",
     "text": [
      "24189.1959338 m 1932.59562823 m\n",
      "(4, 2)\n",
      "(720, 1280)\n",
      "(720, 1280, 3)\n"
     ]
    },
    {
     "name": "stderr",
     "output_type": "stream",
     "text": [
      "\r",
      " 35%|█████████████▌                         | 439/1261 [01:35<02:57,  4.63it/s]"
     ]
    },
    {
     "name": "stdout",
     "output_type": "stream",
     "text": [
      "6717.28204108 m 7832.08563075 m\n",
      "(4, 2)\n",
      "(720, 1280)\n",
      "(720, 1280, 3)\n"
     ]
    },
    {
     "name": "stderr",
     "output_type": "stream",
     "text": [
      "\r",
      " 35%|█████████████▌                         | 440/1261 [01:35<02:55,  4.68it/s]"
     ]
    },
    {
     "name": "stdout",
     "output_type": "stream",
     "text": [
      "2893.67685171 m 1974.39410331 m\n",
      "(4, 2)\n",
      "(720, 1280)\n",
      "(720, 1280, 3)\n"
     ]
    },
    {
     "name": "stderr",
     "output_type": "stream",
     "text": [
      "\r",
      " 35%|█████████████▋                         | 441/1261 [01:35<02:59,  4.58it/s]"
     ]
    },
    {
     "name": "stdout",
     "output_type": "stream",
     "text": [
      "4169.43718368 m 6796.20215251 m\n",
      "(4, 2)\n",
      "(720, 1280)\n",
      "(720, 1280, 3)\n"
     ]
    },
    {
     "name": "stderr",
     "output_type": "stream",
     "text": [
      "\r",
      " 35%|█████████████▋                         | 442/1261 [01:36<02:58,  4.59it/s]"
     ]
    },
    {
     "name": "stdout",
     "output_type": "stream",
     "text": [
      "3237.13554683 m 12674.2833946 m\n",
      "(4, 2)\n",
      "(720, 1280)\n",
      "(720, 1280, 3)\n"
     ]
    },
    {
     "name": "stderr",
     "output_type": "stream",
     "text": [
      "\r",
      " 35%|█████████████▋                         | 443/1261 [01:36<03:03,  4.46it/s]"
     ]
    },
    {
     "name": "stdout",
     "output_type": "stream",
     "text": [
      "2303.05254511 m 1131.65240409 m\n",
      "(4, 2)\n",
      "(720, 1280)\n",
      "(720, 1280, 3)\n"
     ]
    },
    {
     "name": "stderr",
     "output_type": "stream",
     "text": [
      "\r",
      " 35%|█████████████▋                         | 444/1261 [01:36<03:00,  4.53it/s]"
     ]
    },
    {
     "name": "stdout",
     "output_type": "stream",
     "text": [
      "2281.91496697 m 1802.17351954 m\n",
      "(4, 2)\n",
      "(720, 1280)\n",
      "(720, 1280, 3)\n"
     ]
    },
    {
     "name": "stderr",
     "output_type": "stream",
     "text": [
      "\r",
      " 35%|█████████████▊                         | 445/1261 [01:36<03:01,  4.49it/s]"
     ]
    },
    {
     "name": "stdout",
     "output_type": "stream",
     "text": [
      "1996.75250555 m 2603.25956693 m\n",
      "(4, 2)\n",
      "(720, 1280)\n",
      "(720, 1280, 3)\n"
     ]
    },
    {
     "name": "stderr",
     "output_type": "stream",
     "text": [
      "\r",
      " 35%|█████████████▊                         | 446/1261 [01:37<03:02,  4.46it/s]"
     ]
    },
    {
     "name": "stdout",
     "output_type": "stream",
     "text": [
      "2203.27049266 m 5686.65177318 m\n",
      "(4, 2)\n",
      "(720, 1280)\n",
      "(720, 1280, 3)\n"
     ]
    },
    {
     "name": "stderr",
     "output_type": "stream",
     "text": [
      "\r",
      " 35%|█████████████▊                         | 447/1261 [01:37<03:00,  4.51it/s]"
     ]
    },
    {
     "name": "stdout",
     "output_type": "stream",
     "text": [
      "2148.2928822 m 68754.7563628 m\n",
      "(4, 2)\n",
      "(720, 1280)\n",
      "(720, 1280, 3)\n"
     ]
    },
    {
     "name": "stderr",
     "output_type": "stream",
     "text": [
      "\r",
      " 36%|█████████████▊                         | 448/1261 [01:37<03:04,  4.40it/s]"
     ]
    },
    {
     "name": "stdout",
     "output_type": "stream",
     "text": [
      "2266.66786882 m 1184.13003278 m\n",
      "(4, 2)\n",
      "(720, 1280)\n",
      "(720, 1280, 3)\n"
     ]
    },
    {
     "name": "stderr",
     "output_type": "stream",
     "text": [
      "\r",
      " 36%|█████████████▉                         | 449/1261 [01:37<03:04,  4.41it/s]"
     ]
    },
    {
     "name": "stdout",
     "output_type": "stream",
     "text": [
      "2835.78792024 m 1210.09380759 m\n",
      "(4, 2)\n",
      "(720, 1280)\n",
      "(720, 1280, 3)\n"
     ]
    },
    {
     "name": "stderr",
     "output_type": "stream",
     "text": [
      "\r",
      " 36%|█████████████▉                         | 450/1261 [01:37<03:10,  4.25it/s]"
     ]
    },
    {
     "name": "stdout",
     "output_type": "stream",
     "text": [
      "13496.7944933 m 1266.32174416 m\n",
      "(4, 2)\n",
      "(720, 1280)\n",
      "(720, 1280, 3)\n"
     ]
    },
    {
     "name": "stderr",
     "output_type": "stream",
     "text": [
      "\r",
      " 36%|█████████████▉                         | 451/1261 [01:38<03:14,  4.16it/s]"
     ]
    },
    {
     "name": "stdout",
     "output_type": "stream",
     "text": [
      "5064.01176822 m 1886.57521403 m\n",
      "(4, 2)\n",
      "(720, 1280)\n",
      "(720, 1280, 3)\n"
     ]
    },
    {
     "name": "stderr",
     "output_type": "stream",
     "text": [
      "\r",
      " 36%|█████████████▉                         | 452/1261 [01:38<03:12,  4.21it/s]"
     ]
    },
    {
     "name": "stdout",
     "output_type": "stream",
     "text": [
      "4901.63629181 m 1412.6948596 m\n",
      "(4, 2)\n",
      "(720, 1280)\n",
      "(720, 1280, 3)\n"
     ]
    },
    {
     "name": "stderr",
     "output_type": "stream",
     "text": [
      "\r",
      " 36%|██████████████                         | 453/1261 [01:38<03:14,  4.15it/s]"
     ]
    },
    {
     "name": "stdout",
     "output_type": "stream",
     "text": [
      "12228.9289851 m 4542.81583334 m\n",
      "(4, 2)\n",
      "(720, 1280)\n",
      "(720, 1280, 3)\n"
     ]
    },
    {
     "name": "stderr",
     "output_type": "stream",
     "text": [
      "\r",
      " 36%|██████████████                         | 454/1261 [01:38<03:16,  4.11it/s]"
     ]
    },
    {
     "name": "stdout",
     "output_type": "stream",
     "text": [
      "9203.60850102 m 1234.71704355 m\n",
      "(4, 2)\n",
      "(720, 1280)\n",
      "(720, 1280, 3)\n"
     ]
    },
    {
     "name": "stderr",
     "output_type": "stream",
     "text": [
      "\r",
      " 36%|██████████████                         | 455/1261 [01:39<03:17,  4.08it/s]"
     ]
    },
    {
     "name": "stdout",
     "output_type": "stream",
     "text": [
      "10234.9149585 m 1750.55921548 m\n",
      "(4, 2)\n",
      "(720, 1280)\n",
      "(720, 1280, 3)\n"
     ]
    },
    {
     "name": "stderr",
     "output_type": "stream",
     "text": [
      "\r",
      " 36%|██████████████                         | 456/1261 [01:39<03:20,  4.01it/s]"
     ]
    },
    {
     "name": "stdout",
     "output_type": "stream",
     "text": [
      "5286.58609534 m 3319.82513777 m\n",
      "(4, 2)\n",
      "(720, 1280)\n",
      "(720, 1280, 3)\n"
     ]
    },
    {
     "name": "stderr",
     "output_type": "stream",
     "text": [
      "\r",
      " 36%|██████████████▏                        | 457/1261 [01:39<03:18,  4.05it/s]"
     ]
    },
    {
     "name": "stdout",
     "output_type": "stream",
     "text": [
      "76424.5493223 m 4186.21503629 m\n",
      "(4, 2)\n",
      "(720, 1280)\n",
      "(720, 1280, 3)\n"
     ]
    },
    {
     "name": "stderr",
     "output_type": "stream",
     "text": [
      "\r",
      " 36%|██████████████▏                        | 458/1261 [01:39<03:19,  4.02it/s]"
     ]
    },
    {
     "name": "stdout",
     "output_type": "stream",
     "text": [
      "14212.4460508 m 16306.9533176 m\n",
      "(4, 2)\n",
      "(720, 1280)\n",
      "(720, 1280, 3)\n"
     ]
    },
    {
     "name": "stderr",
     "output_type": "stream",
     "text": [
      "\r",
      " 36%|██████████████▏                        | 459/1261 [01:40<03:18,  4.05it/s]"
     ]
    },
    {
     "name": "stdout",
     "output_type": "stream",
     "text": [
      "8656.64480896 m 3432.52683804 m\n",
      "(4, 2)\n",
      "(720, 1280)\n",
      "(720, 1280, 3)\n"
     ]
    },
    {
     "name": "stderr",
     "output_type": "stream",
     "text": [
      "\r",
      " 36%|██████████████▏                        | 460/1261 [01:40<03:16,  4.07it/s]"
     ]
    },
    {
     "name": "stdout",
     "output_type": "stream",
     "text": [
      "8881.17125173 m 1011.03215538 m\n",
      "(4, 2)\n",
      "(720, 1280)\n",
      "(720, 1280, 3)\n"
     ]
    },
    {
     "name": "stderr",
     "output_type": "stream",
     "text": [
      "\r",
      " 37%|██████████████▎                        | 461/1261 [01:40<03:18,  4.03it/s]"
     ]
    },
    {
     "name": "stdout",
     "output_type": "stream",
     "text": [
      "44488.5275723 m 1186.14658386 m\n",
      "(4, 2)\n",
      "(720, 1280)\n",
      "(720, 1280, 3)\n"
     ]
    },
    {
     "name": "stderr",
     "output_type": "stream",
     "text": [
      "\r",
      " 37%|██████████████▎                        | 462/1261 [01:40<03:17,  4.05it/s]"
     ]
    },
    {
     "name": "stdout",
     "output_type": "stream",
     "text": [
      "4302.2046123 m 1262.04693068 m\n",
      "(4, 2)\n",
      "(720, 1280)\n",
      "(720, 1280, 3)\n"
     ]
    },
    {
     "name": "stderr",
     "output_type": "stream",
     "text": [
      "\r",
      " 37%|██████████████▎                        | 463/1261 [01:41<03:09,  4.20it/s]"
     ]
    },
    {
     "name": "stdout",
     "output_type": "stream",
     "text": [
      "3346.87407353 m 968.960491949 m\n",
      "(4, 2)\n",
      "(720, 1280)\n",
      "(720, 1280, 3)\n"
     ]
    },
    {
     "name": "stderr",
     "output_type": "stream",
     "text": [
      "\r",
      " 37%|██████████████▎                        | 464/1261 [01:41<03:03,  4.33it/s]"
     ]
    },
    {
     "name": "stdout",
     "output_type": "stream",
     "text": [
      "2560.6558356 m 989.726333673 m\n",
      "(4, 2)\n",
      "(720, 1280)\n",
      "(720, 1280, 3)\n"
     ]
    },
    {
     "name": "stderr",
     "output_type": "stream",
     "text": [
      "\r",
      " 37%|██████████████▍                        | 465/1261 [01:41<03:01,  4.39it/s]"
     ]
    },
    {
     "name": "stdout",
     "output_type": "stream",
     "text": [
      "2490.56909819 m 2457.15052158 m\n",
      "(4, 2)\n",
      "(720, 1280)\n",
      "(720, 1280, 3)\n"
     ]
    },
    {
     "name": "stderr",
     "output_type": "stream",
     "text": [
      "\r",
      " 37%|██████████████▍                        | 466/1261 [01:41<02:57,  4.49it/s]"
     ]
    },
    {
     "name": "stdout",
     "output_type": "stream",
     "text": [
      "2057.6952614 m 8675.86482942 m\n",
      "(4, 2)\n",
      "(720, 1280)\n",
      "(720, 1280, 3)\n"
     ]
    },
    {
     "name": "stderr",
     "output_type": "stream",
     "text": [
      "\r",
      " 37%|██████████████▍                        | 467/1261 [01:42<02:59,  4.43it/s]"
     ]
    },
    {
     "name": "stdout",
     "output_type": "stream",
     "text": [
      "1773.83936151 m 11343.7908815 m\n",
      "(4, 2)\n",
      "(720, 1280)\n",
      "(720, 1280, 3)\n"
     ]
    },
    {
     "name": "stderr",
     "output_type": "stream",
     "text": [
      "\r",
      " 37%|██████████████▍                        | 468/1261 [01:42<02:56,  4.50it/s]"
     ]
    },
    {
     "name": "stdout",
     "output_type": "stream",
     "text": [
      "2639.85331069 m 6380.51523743 m\n",
      "(4, 2)\n",
      "(720, 1280)\n",
      "(720, 1280, 3)\n"
     ]
    },
    {
     "name": "stderr",
     "output_type": "stream",
     "text": [
      "\r",
      " 37%|██████████████▌                        | 469/1261 [01:42<03:00,  4.38it/s]"
     ]
    },
    {
     "name": "stdout",
     "output_type": "stream",
     "text": [
      "1934.61212475 m 6729.953604 m\n",
      "(4, 2)\n",
      "(720, 1280)\n",
      "(720, 1280, 3)\n"
     ]
    },
    {
     "name": "stderr",
     "output_type": "stream",
     "text": [
      "\r",
      " 37%|██████████████▌                        | 470/1261 [01:42<03:02,  4.33it/s]"
     ]
    },
    {
     "name": "stdout",
     "output_type": "stream",
     "text": [
      "1418.68696442 m 2382.30920889 m\n",
      "(4, 2)\n",
      "(720, 1280)\n",
      "(720, 1280, 3)\n"
     ]
    },
    {
     "name": "stderr",
     "output_type": "stream",
     "text": [
      "\r",
      " 37%|██████████████▌                        | 471/1261 [01:43<03:08,  4.20it/s]"
     ]
    },
    {
     "name": "stdout",
     "output_type": "stream",
     "text": [
      "1610.86126056 m 1770.79392798 m\n",
      "(4, 2)\n",
      "(720, 1280)\n",
      "(720, 1280, 3)\n"
     ]
    },
    {
     "name": "stderr",
     "output_type": "stream",
     "text": [
      "\r",
      " 37%|██████████████▌                        | 472/1261 [01:43<03:03,  4.30it/s]"
     ]
    },
    {
     "name": "stdout",
     "output_type": "stream",
     "text": [
      "1795.89582075 m 857.018485656 m\n",
      "(4, 2)\n",
      "(720, 1280)\n",
      "(720, 1280, 3)\n"
     ]
    },
    {
     "name": "stderr",
     "output_type": "stream",
     "text": [
      "\r",
      " 38%|██████████████▋                        | 473/1261 [01:43<03:00,  4.36it/s]"
     ]
    },
    {
     "name": "stdout",
     "output_type": "stream",
     "text": [
      "2579.9305282 m 1063.77426061 m\n",
      "(4, 2)\n",
      "(720, 1280)\n",
      "(720, 1280, 3)\n"
     ]
    },
    {
     "name": "stderr",
     "output_type": "stream",
     "text": [
      "\r",
      " 38%|██████████████▋                        | 474/1261 [01:43<03:01,  4.33it/s]"
     ]
    },
    {
     "name": "stdout",
     "output_type": "stream",
     "text": [
      "3416.80294355 m 1076.1247177 m\n",
      "(4, 2)\n",
      "(720, 1280)\n",
      "(720, 1280, 3)\n"
     ]
    },
    {
     "name": "stderr",
     "output_type": "stream",
     "text": [
      "\r",
      " 38%|██████████████▋                        | 475/1261 [01:43<03:01,  4.34it/s]"
     ]
    },
    {
     "name": "stdout",
     "output_type": "stream",
     "text": [
      "4113.57394362 m 1039.91368334 m\n",
      "(4, 2)\n",
      "(720, 1280)\n",
      "(720, 1280, 3)\n"
     ]
    },
    {
     "name": "stderr",
     "output_type": "stream",
     "text": [
      "\r",
      " 38%|██████████████▋                        | 476/1261 [01:44<03:00,  4.34it/s]"
     ]
    },
    {
     "name": "stdout",
     "output_type": "stream",
     "text": [
      "5727.27417945 m 1035.37521826 m\n",
      "(4, 2)\n",
      "(720, 1280)\n",
      "(720, 1280, 3)\n"
     ]
    },
    {
     "name": "stderr",
     "output_type": "stream",
     "text": [
      "\r",
      " 38%|██████████████▊                        | 477/1261 [01:44<03:08,  4.17it/s]"
     ]
    },
    {
     "name": "stdout",
     "output_type": "stream",
     "text": [
      "8382.36571658 m 1055.07742431 m\n",
      "(4, 2)\n",
      "(720, 1280)\n",
      "(720, 1280, 3)\n"
     ]
    },
    {
     "name": "stderr",
     "output_type": "stream",
     "text": [
      "\r",
      " 38%|██████████████▊                        | 478/1261 [01:44<03:01,  4.32it/s]"
     ]
    },
    {
     "name": "stdout",
     "output_type": "stream",
     "text": [
      "7111.34458782 m 7043.50903403 m\n",
      "(4, 2)\n",
      "(720, 1280)\n",
      "(720, 1280, 3)\n"
     ]
    },
    {
     "name": "stderr",
     "output_type": "stream",
     "text": [
      "\r",
      " 38%|██████████████▊                        | 479/1261 [01:44<02:58,  4.39it/s]"
     ]
    },
    {
     "name": "stdout",
     "output_type": "stream",
     "text": [
      "4966.65601138 m 3336.68849484 m\n",
      "(4, 2)\n",
      "(720, 1280)\n",
      "(720, 1280, 3)\n"
     ]
    },
    {
     "name": "stderr",
     "output_type": "stream",
     "text": [
      "\r",
      " 38%|██████████████▊                        | 480/1261 [01:45<02:54,  4.46it/s]"
     ]
    },
    {
     "name": "stdout",
     "output_type": "stream",
     "text": [
      "8436.10177259 m 2894.31048317 m\n",
      "(4, 2)\n",
      "(720, 1280)\n",
      "(720, 1280, 3)\n"
     ]
    },
    {
     "name": "stderr",
     "output_type": "stream",
     "text": [
      "\r",
      " 38%|██████████████▉                        | 481/1261 [01:45<02:56,  4.42it/s]"
     ]
    },
    {
     "name": "stdout",
     "output_type": "stream",
     "text": [
      "4927.33667471 m 3447.41283247 m\n",
      "(4, 2)\n",
      "(720, 1280)\n",
      "(720, 1280, 3)\n"
     ]
    },
    {
     "name": "stderr",
     "output_type": "stream",
     "text": [
      "\r",
      " 38%|██████████████▉                        | 482/1261 [01:45<02:53,  4.48it/s]"
     ]
    },
    {
     "name": "stdout",
     "output_type": "stream",
     "text": [
      "4061.98703506 m 2876.0952923 m\n",
      "(4, 2)\n",
      "(720, 1280)\n",
      "(720, 1280, 3)\n"
     ]
    },
    {
     "name": "stderr",
     "output_type": "stream",
     "text": [
      "\r",
      " 38%|██████████████▉                        | 483/1261 [01:45<02:53,  4.49it/s]"
     ]
    },
    {
     "name": "stdout",
     "output_type": "stream",
     "text": [
      "4564.44114437 m 17337.4037022 m\n",
      "(4, 2)\n",
      "(720, 1280)\n",
      "(720, 1280, 3)\n"
     ]
    },
    {
     "name": "stderr",
     "output_type": "stream",
     "text": [
      "\r",
      " 38%|██████████████▉                        | 484/1261 [01:45<02:51,  4.54it/s]"
     ]
    },
    {
     "name": "stdout",
     "output_type": "stream",
     "text": [
      "3363.13793547 m 2460.07974859 m\n",
      "(4, 2)\n",
      "(720, 1280)\n",
      "(720, 1280, 3)\n"
     ]
    },
    {
     "name": "stderr",
     "output_type": "stream",
     "text": [
      "\r",
      " 38%|███████████████                        | 485/1261 [01:46<02:48,  4.60it/s]"
     ]
    },
    {
     "name": "stdout",
     "output_type": "stream",
     "text": [
      "3403.06415892 m 1131.30873686 m\n",
      "(4, 2)\n",
      "(720, 1280)\n",
      "(720, 1280, 3)\n"
     ]
    },
    {
     "name": "stderr",
     "output_type": "stream",
     "text": [
      "\r",
      " 39%|███████████████                        | 486/1261 [01:46<02:46,  4.65it/s]"
     ]
    },
    {
     "name": "stdout",
     "output_type": "stream",
     "text": [
      "7761.92578608 m 1033.88472415 m\n",
      "(4, 2)\n",
      "(720, 1280)\n",
      "(720, 1280, 3)\n"
     ]
    },
    {
     "name": "stderr",
     "output_type": "stream",
     "text": [
      "\r",
      " 39%|███████████████                        | 487/1261 [01:46<02:46,  4.65it/s]"
     ]
    },
    {
     "name": "stdout",
     "output_type": "stream",
     "text": [
      "18220.6259256 m 1279.85976747 m\n",
      "(4, 2)\n",
      "(720, 1280)\n",
      "(720, 1280, 3)\n"
     ]
    },
    {
     "name": "stderr",
     "output_type": "stream",
     "text": [
      "\r",
      " 39%|███████████████                        | 488/1261 [01:46<02:47,  4.63it/s]"
     ]
    },
    {
     "name": "stdout",
     "output_type": "stream",
     "text": [
      "8161.5512124 m 1063.68074171 m\n",
      "(4, 2)\n",
      "(720, 1280)\n",
      "(720, 1280, 3)\n"
     ]
    },
    {
     "name": "stderr",
     "output_type": "stream",
     "text": [
      "\r",
      " 39%|███████████████                        | 489/1261 [01:47<02:50,  4.52it/s]"
     ]
    },
    {
     "name": "stdout",
     "output_type": "stream",
     "text": [
      "8931.15821238 m 3804.17626231 m\n",
      "(4, 2)\n",
      "(720, 1280)\n",
      "(720, 1280, 3)\n"
     ]
    },
    {
     "name": "stderr",
     "output_type": "stream",
     "text": [
      "\r",
      " 39%|███████████████▏                       | 490/1261 [01:47<02:49,  4.54it/s]"
     ]
    },
    {
     "name": "stdout",
     "output_type": "stream",
     "text": [
      "7846.70852491 m 1199.05095668 m\n",
      "(4, 2)\n",
      "(720, 1280)\n",
      "(720, 1280, 3)\n"
     ]
    },
    {
     "name": "stderr",
     "output_type": "stream",
     "text": [
      "\r",
      " 39%|███████████████▏                       | 491/1261 [01:47<02:49,  4.54it/s]"
     ]
    }
   ],
   "source": [
    "output = 'project_video_output.mp4'\n",
    "clip1 = VideoFileClip(\"project_video.mp4\")\n",
    "road_clip = clip1.fl_image(lane_finder) #NOTE: this function expects color images!!\n",
    "%time road_clip.write_videofile(output, audio=False)"
   ]
  },
  {
   "cell_type": "code",
   "execution_count": 1,
   "metadata": {
    "collapsed": false,
    "deletable": true,
    "editable": true
   },
   "outputs": [
    {
     "ename": "NameError",
     "evalue": "name 'HTML' is not defined",
     "output_type": "error",
     "traceback": [
      "\u001b[0;31m---------------------------------------------------------------------------\u001b[0m",
      "\u001b[0;31mNameError\u001b[0m                                 Traceback (most recent call last)",
      "\u001b[0;32m<ipython-input-1-73265f2c6f61>\u001b[0m in \u001b[0;36m<module>\u001b[0;34m()\u001b[0m\n\u001b[0;32m----> 1\u001b[0;31m HTML(\"\"\"\n\u001b[0m\u001b[1;32m      2\u001b[0m \u001b[1;33m<\u001b[0m\u001b[0mvideo\u001b[0m \u001b[0mwidth\u001b[0m\u001b[1;33m=\u001b[0m\u001b[1;34m\"960\"\u001b[0m \u001b[0mheight\u001b[0m\u001b[1;33m=\u001b[0m\u001b[1;34m\"540\"\u001b[0m \u001b[0mcontrols\u001b[0m\u001b[1;33m>\u001b[0m\u001b[1;33m\u001b[0m\u001b[0m\n\u001b[1;32m      3\u001b[0m   \u001b[1;33m<\u001b[0m\u001b[0msource\u001b[0m \u001b[0msrc\u001b[0m\u001b[1;33m=\u001b[0m\u001b[1;34m\"{0}\"\u001b[0m\u001b[1;33m>\u001b[0m\u001b[1;33m\u001b[0m\u001b[0m\n\u001b[1;32m      4\u001b[0m \u001b[1;33m<\u001b[0m\u001b[1;33m/\u001b[0m\u001b[0mvideo\u001b[0m\u001b[1;33m>\u001b[0m\u001b[1;33m\u001b[0m\u001b[0m\n\u001b[1;32m      5\u001b[0m \"\"\".format(output))\n",
      "\u001b[0;31mNameError\u001b[0m: name 'HTML' is not defined"
     ]
    }
   ],
   "source": [
    "HTML(\"\"\"\n",
    "<video width=\"960\" height=\"540\" controls>\n",
    "  <source src=\"{0}\">\n",
    "</video>\n",
    "\"\"\".format(output))"
   ]
  },
  {
   "cell_type": "code",
   "execution_count": null,
   "metadata": {
    "collapsed": true
   },
   "outputs": [],
   "source": []
  }
 ],
 "metadata": {
  "kernelspec": {
   "display_name": "Python 3",
   "language": "python",
   "name": "python3"
  },
  "widgets": {
   "state": {},
   "version": "1.1.2"
  }
 },
 "nbformat": 4,
 "nbformat_minor": 2
}
