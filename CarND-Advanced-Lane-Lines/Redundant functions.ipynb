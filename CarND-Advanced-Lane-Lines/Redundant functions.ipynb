{
 "cells": [
  {
   "cell_type": "code",
   "execution_count": null,
   "metadata": {
    "collapsed": true
   },
   "outputs": [],
   "source": [
    "for im_feat in images_features:\n",
    "    leftx = im_feat.leftx[::-1]  # Reverse to match top-to-bottom in y\n",
    "    rightx = im_feat.rightx[::-1]  # Reverse to match top-to-bottom in y\n",
    "\n",
    "    mark_size = 3\n",
    "    plt.figure()\n",
    "    plt.plot(leftx, im_feat.lefty, 'o', color='red', markersize=mark_size)\n",
    "    plt.plot(rightx, im_feat.righty, 'o', color='blue', markersize=mark_size)\n",
    "    #plt.xlim(0, 1280)\n",
    "    #plt.ylim(0, 720)\n",
    "    plt.plot(im_feat.left_fitx, im_feat.ploty, color='green', linewidth=3)\n",
    "    plt.plot(im_feat.right_fitx, im_feat.ploty, color='green', linewidth=3)\n",
    "    plt.gca().invert_yaxis() # to visualize as we do the images"
   ]
  }
 ],
 "metadata": {
  "kernelspec": {
   "display_name": "Python 3",
   "language": "python",
   "name": "python3"
  },
  "language_info": {
   "codemirror_mode": {
    "name": "ipython",
    "version": 3
   },
   "file_extension": ".py",
   "mimetype": "text/x-python",
   "name": "python",
   "nbconvert_exporter": "python",
   "pygments_lexer": "ipython3",
   "version": "3.5.2"
  },
  "widgets": {
   "state": {},
   "version": "1.1.2"
  }
 },
 "nbformat": 4,
 "nbformat_minor": 2
}
