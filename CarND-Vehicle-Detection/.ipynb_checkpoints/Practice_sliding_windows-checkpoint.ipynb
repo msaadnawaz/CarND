{
 "cells": [
  {
   "cell_type": "code",
   "execution_count": null,
   "metadata": {
    "collapsed": true,
    "deletable": true,
    "editable": true
   },
   "outputs": [],
   "source": []
  },
  {
   "cell_type": "code",
   "execution_count": null,
   "metadata": {
    "collapsed": true,
    "deletable": true,
    "editable": true
   },
   "outputs": [],
   "source": [
    "pickle"
   ]
  },
  {
   "cell_type": "code",
   "execution_count": null,
   "metadata": {
    "collapsed": true,
    "deletable": true,
    "editable": true
   },
   "outputs": [],
   "source": [
    "def draw_boxes(img, bboxes, color=(0, 0, 255), thick=6):\n",
    "    # Make a copy of the image\n",
    "    imcopy = np.copy(img)\n",
    "    # Iterate through the bounding boxes\n",
    "    for bbox in bboxes:\n",
    "        # Draw a rectangle given bbox coordinates\n",
    "        cv2.rectangle(imcopy, bbox[0], bbox[1], color, thick)\n",
    "    # Return the image copy with boxes drawn\n",
    "    return imcopy"
   ]
  },
  {
   "cell_type": "code",
   "execution_count": null,
   "metadata": {
    "collapsed": true,
    "deletable": true,
    "editable": true
   },
   "outputs": [],
   "source": [
    "def slide_window(img, x_start_stop=[None, None], y_start_stop=[None, None], \n",
    "                    xy_window=(64, 64), xy_overlap=(0.5, 0.5)):\n",
    "    # # If x and/or y start/stop positions not defined, set to image size\n",
    "    if x_start_stop[0] == None:\n",
    "        x_start_stop[0] = 0\n",
    "    if x_start_stop[1] == None:\n",
    "        x_start_stop[1] = img.shape[1]\n",
    "\n",
    "    if y_start_stop[0] == None:\n",
    "        y_start_stop[0] = 0\n",
    "    if y_start_stop[1] == None:\n",
    "        y_start_stop[1] = img.shape[0]\n",
    "    # Compute the span of the region to be searched\n",
    "    x_span = x_start_stop[1] - x_start_stop[0]\n",
    "    y_span = y_start_stop[1] - y_start_stop[0]\n",
    "    # Compute the number of pixels per step in x/y\n",
    "    x_step_pix = np.int(xy_window[0]*(1-xy_overlap[0]))\n",
    "    y_step_pix = np.int(xy_window[1]*(1-xy_overlap[1]))\n",
    "    # Compute the number of windows in x/y\n",
    "    #x_nwin = np.int(x_span/xy_window[0]*1/xy_overlap[0]-(1/xy_overlap[0]-1))\n",
    "    #y_nwin = np.int(y_span/xy_window[1]*1/xy_overlap[1]-(1/xy_overlap[1]-1))\n",
    "    nx_buffer = np.int(xy_window[0]*(xy_overlap[0]))\n",
    "    ny_buffer = np.int(xy_window[1]*(xy_overlap[1]))\n",
    "    x_nwin = np.int((x_span-nx_buffer)/x_step_pix) \n",
    "    y_nwin = np.int((y_span-ny_buffer)/y_step_pix)\n",
    "    # Initialize a list to append window positions to\n",
    "    window_list = []\n",
    "    # Loop through finding x and y window positions\n",
    "    for y_val in range(y_nwin):\n",
    "        for x_val in range(x_nwin):\n",
    "            # Calculate each window position\n",
    "            x_start = x_val * x_step_pix + x_start_stop[0]\n",
    "            y_start = y_val * y_step_pix + y_start_stop[0]\n",
    "            x_end = x_start + xy_window[0]\n",
    "            y_end = y_start +xy_window[1]\n",
    "            # Append window position to list\n",
    "            window_list.append(((x_start,y_start),(x_end,y_end)))\n",
    "    # Return the list of windows\n",
    "    return window_list"
   ]
  },
  {
   "cell_type": "code",
   "execution_count": null,
   "metadata": {
    "collapsed": true,
    "deletable": true,
    "editable": true
   },
   "outputs": [],
   "source": [
    "def single_image_features(img, cspace='RGB', orient=9, pix_per_cell=8, cell_per_block=2, hog_channel=0, hist = True, spat = True):\n",
    "    # Create a list to append feature vectors to\n",
    "    img_features = []\n",
    "    # apply color conversion if other than 'RGB'\n",
    "    if cspace != 'RGB':\n",
    "        if cspace == 'HSV':\n",
    "            feature_image = cv2.cvtColor(img, cv2.COLOR_RGB2HSV)\n",
    "        elif cspace == 'LUV':\n",
    "            feature_image = cv2.cvtColor(img, cv2.COLOR_RGB2LUV)\n",
    "        elif cspace == 'HLS':\n",
    "            feature_image = cv2.cvtColor(img, cv2.COLOR_RGB2HLS)\n",
    "        elif cspace == 'YUV':\n",
    "            feature_image = cv2.cvtColor(img, cv2.COLOR_RGB2YUV)\n",
    "        elif cspace == 'YCrCb':\n",
    "            feature_image = cv2.cvtColor(img, cv2.COLOR_RGB2YCrCb)\n",
    "        elif cspace == 'gray':\n",
    "            feature_image = cv2.cvtColor(img, cv2.COLOR_RGB2GRAY)\n",
    "    else: feature_image = np.copy(img)       \n",
    "\n",
    "    if hog_channel == 'ALL':\n",
    "        hog_features = []\n",
    "        for channel in range(feature_image.shape[2]):\n",
    "            hog_features.extend(get_hog_features(feature_image[:,:,channel], \n",
    "                                orient, pix_per_cell, cell_per_block, \n",
    "                                vis=False, feature_vec=True))\n",
    "        hog_features = np.ravel(hog_features)\n",
    "\n",
    "    else:\n",
    "        hog_features = get_hog_features(feature_image[:,:,hog_channel], orient, \n",
    "                    pix_per_cell, cell_per_block, vis=False, feature_vec=True)\n",
    "    img_features.append(hog_features)\n",
    "    \n",
    "    if spat == True:\n",
    "        spat_size = (32,32)\n",
    "        spat_features = bin_spatial(feature_image, size=spat_size)\n",
    "        img_features.append(spat_features)\n",
    "    if hist == True:\n",
    "        hist_bins = 32\n",
    "        hist_range = (0,256)\n",
    "        hist_features = color_hist(feature_image, nbins=hist_bins, bins_range=hist_range)\n",
    "        img_features.append(hist_features)\n",
    "    # , hist_features, spat_features\n",
    "    # Append the new feature vector to the features list\n",
    "\n",
    "    img_features=np.concatenate((img_features))\n",
    "\n",
    "    # Return list of feature vectors\n",
    "    return img_features"
   ]
  },
  {
   "cell_type": "code",
   "execution_count": null,
   "metadata": {
    "collapsed": true,
    "deletable": true,
    "editable": true
   },
   "outputs": [],
   "source": [
    "def single_image_features(img, cspace='RGB', orient=9, pix_per_cell=8, cell_per_block=2, hog_channel=0, hist = True, spat = True):\n",
    "    # Create a list to append feature vectors to\n",
    "    img_features = []\n",
    "    # apply color conversion if other than 'RGB'\n",
    "    if cspace != 'RGB':\n",
    "        if cspace == 'HSV':\n",
    "            feature_image = cv2.cvtColor(img, cv2.COLOR_RGB2HSV)\n",
    "        elif cspace == 'LUV':\n",
    "            feature_image = cv2.cvtColor(img, cv2.COLOR_RGB2LUV)\n",
    "        elif cspace == 'HLS':\n",
    "            feature_image = cv2.cvtColor(img, cv2.COLOR_RGB2HLS)\n",
    "        elif cspace == 'YUV':\n",
    "            feature_image = cv2.cvtColor(img, cv2.COLOR_RGB2YUV)\n",
    "        elif cspace == 'YCrCb':\n",
    "            feature_image = cv2.cvtColor(img, cv2.COLOR_RGB2YCrCb)\n",
    "        elif cspace == 'gray':\n",
    "            feature_image = cv2.cvtColor(img, cv2.COLOR_RGB2GRAY)\n",
    "    else: feature_image = np.copy(img)       \n",
    "\n",
    "    if hog_channel == 'ALL':\n",
    "        hog_features = []\n",
    "        for channel in range(feature_image.shape[2]):\n",
    "            hog_features.append(get_hog_features(feature_image[:,:,channel], \n",
    "                                orient, pix_per_cell, cell_per_block, \n",
    "                                vis=False, feature_vec=False).ravel())\n",
    "        hog_features = np.ravel(hog_features)\n",
    "\n",
    "    else:\n",
    "        hog_features = get_hog_features(feature_image[:,:,hog_channel], orient, \n",
    "                    pix_per_cell, cell_per_block, vis=False, feature_vec=False).ravel()\n",
    "    \n",
    "    img_features.append(np.ravel(hog_features))\n",
    "    \n",
    "    if spat == True:\n",
    "        spat_size = (32,32)\n",
    "        spat_features = bin_spatial(feature_image, size=spat_size)\n",
    "        img_features.append(spat_features)\n",
    "    \n",
    "    if hist == True:\n",
    "        hist_bins = 32\n",
    "        hist_range = (0,256)\n",
    "        hist_features = color_hist(feature_image, nbins=hist_bins, bins_range=hist_range, cspace=cspace)\n",
    "        img_features.append(hist_features)\n",
    "    # , hist_features, spat_features\n",
    "    # Append the new feature vector to the features list\n",
    "\n",
    "    img_features=np.concatenate(img_features)\n",
    "\n",
    "    # Return list of feature vectors\n",
    "    return img_features"
   ]
  },
  {
   "cell_type": "code",
   "execution_count": null,
   "metadata": {
    "collapsed": true,
    "deletable": true,
    "editable": true
   },
   "outputs": [],
   "source": [
    "# Define a function you will pass an image \n",
    "# and the list of windows to be searched (output of slide_windows())\n",
    "def search_windows(img, windows, clf, scaler, color_space='RGB', orient=9, \n",
    "                    pix_per_cell=8, cell_per_block=2, hog_channel=0):\n",
    "\n",
    "    #1) Create an empty list to receive positive detection windows\n",
    "    on_windows = []\n",
    "    #2) Iterate over all windows in the list\n",
    "    for window in windows:\n",
    "        #3) Extract the test window from original image\n",
    "        test_img = cv2.resize(img[window[0][1]:window[1][1], window[0][0]:window[1][0]], (64, 64))\n",
    "\n",
    "        #4) Extract features for that window using single_img_features()\n",
    "        features = single_image_features(test_img, cspace=color_space, orient=orient, pix_per_cell=pix_per_cell, \n",
    "                            cell_per_block=cell_per_block, hog_channel=hog_channel, hist = True, spat = False)\n",
    "        #5) Scale extracted features to be fed to classifier\n",
    "        test_features = scaler.transform(np.array(features).reshape(1, -1))\n",
    "        #6) Predict using your classifier\n",
    "        prediction = clf.predict(test_features)\n",
    "        #7) If positive (prediction == 1) then save the window\n",
    "        if prediction == 1:\n",
    "            on_windows.append(window)\n",
    "    #8) Return windows for positive detections\n",
    "    return on_windows"
   ]
  },
  {
   "cell_type": "code",
   "execution_count": null,
   "metadata": {
    "collapsed": true,
    "deletable": true,
    "editable": true
   },
   "outputs": [],
   "source": [
    "test_images_windows = []\n",
    "hot_windows_set = []\n",
    "for image in test_images:\n",
    "    window_img = np.copy(image)\n",
    "    for win_size in [64,128,192,256,320]:\n",
    "        windows = slide_window(image, x_start_stop=[None, None], y_start_stop=[np.int(image.shape[0]/2), image.shape[0]-70], \n",
    "                        xy_window=(win_size, win_size), xy_overlap=(0.2, 0.2))\n",
    "\n",
    "        hot_windows = search_windows(image, windows, svc, feature_scaler, color_space=colorspace, orient=orient, \n",
    "                                 pix_per_cell=pix_per_cell, cell_per_block=cell_per_block, hog_channel=hog_channel)\n",
    "\n",
    "        window_img = draw_boxes(window_img, hot_windows, color=(0, 0, 255), thick=6)\n",
    "    \n",
    "    plt.figure()\n",
    "    plt.imshow(window_img)\n",
    "    hot_windows_set.append(hot_windows)"
   ]
  },
  {
   "cell_type": "code",
   "execution_count": null,
   "metadata": {
    "collapsed": true,
    "deletable": true,
    "editable": true
   },
   "outputs": [],
   "source": [
    "def video_own(image):\n",
    "    window_img = np.copy(image)\n",
    "    for win_size in [64,128,192,256,320]:\n",
    "        windows = slide_window(image, x_start_stop=[None, None], y_start_stop=[np.int(image.shape[0]/2), image.shape[0]-70], \n",
    "                        xy_window=(win_size, win_size), xy_overlap=(0.2, 0.2))\n",
    "\n",
    "        hot_windows = search_windows(image, windows, svc, feature_scaler, color_space=colorspace, orient=orient, \n",
    "                                 pix_per_cell=pix_per_cell, cell_per_block=cell_per_block, hog_channel=hog_channel)\n",
    "\n",
    "        window_img = draw_boxes(window_img, hot_windows, color=(0, 0, 255), thick=6)\n",
    "    return window_img"
   ]
  },
  {
   "cell_type": "code",
   "execution_count": null,
   "metadata": {
    "collapsed": true,
    "deletable": true,
    "editable": true
   },
   "outputs": [],
   "source": [
    "from moviepy.editor import VideoFileClip"
   ]
  },
  {
   "cell_type": "code",
   "execution_count": null,
   "metadata": {
    "collapsed": true,
    "deletable": true,
    "editable": true
   },
   "outputs": [],
   "source": [
    "output = 'test_video_output_own.mp4'\n",
    "clip1 = VideoFileClip(\"test_video.mp4\")\n",
    "\n",
    "road_clip = clip1.fl_image(video_own) #NOTE: this function expects color images!!\n",
    "%time road_clip.write_videofile(output, audio=False)"
   ]
  },
  {
   "cell_type": "code",
   "execution_count": null,
   "metadata": {
    "collapsed": true
   },
   "outputs": [],
   "source": [
    "class Boxes():\n",
    "    def __init__(self):\n",
    "        # store recent boxes\n",
    "        self.recent_boxes = []\n",
    "        self.recent_heatmaps = []\n",
    "        self.agg_heatmap = np.zeros((720,1280), dtype=np.float)"
   ]
  },
  {
   "cell_type": "code",
   "execution_count": null,
   "metadata": {
    "collapsed": true
   },
   "outputs": [],
   "source": [
    "def video_find_cars(img):\n",
    "    ystart = 400\n",
    "    ystop = 656\n",
    "    scale = 1.5\n",
    "    out_img, boxes = find_cars(img, ystart, ystop, scale, svc, feature_scaler, orient, color_space, \n",
    "                               pix_per_cell, cell_per_block, hog_channel = hog_channel, hist = hist, spat = spat)\n",
    "    \n",
    "    heat = np.zeros_like(img[:,:,0]).astype(np.float)\n",
    "    \n",
    "    if len(B.recent_boxes) > 10:\n",
    "        B.recent_boxes.pop(0)\n",
    "    B.recent_boxes.append(boxes)\n",
    "    for b in B.recent_boxes:\n",
    "        heat = add_heat(heat,b)\n",
    "    \n",
    "    heatmap = np.clip(heat, 0, 255)\n",
    "    heatmap = apply_threshold(heatmap, np.int(len(B.recent_boxes)*12)) \n",
    "    \n",
    "    if len(B.recent_heatmaps) > 10:\n",
    "        B.agg_heatmap -= B.recent_heatmaps[0]\n",
    "        B.recent_heatmaps.pop(0)\n",
    "    B.recent_heatmaps.append(heatmap)\n",
    "    B.agg_heatmap += heatmap\n",
    "    \n",
    "    labels = label(B.agg_heatmap)    \n",
    "    \n",
    "    draw_img = draw_labeled_bboxes(np.copy(img), labels)\n",
    "    \n",
    "    return draw_img"
   ]
  }
 ],
 "metadata": {
  "kernelspec": {
   "display_name": "Python 3",
   "language": "python",
   "name": "python3"
  },
  "language_info": {
   "codemirror_mode": {
    "name": "ipython",
    "version": 3
   },
   "file_extension": ".py",
   "mimetype": "text/x-python",
   "name": "python",
   "nbconvert_exporter": "python",
   "pygments_lexer": "ipython3",
   "version": "3.5.2"
  },
  "widgets": {
   "state": {},
   "version": "1.1.2"
  }
 },
 "nbformat": 4,
 "nbformat_minor": 2
}
